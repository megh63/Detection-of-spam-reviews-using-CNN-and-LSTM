{
  "cells": [
    {
      "cell_type": "markdown",
      "metadata": {
        "id": "ttdlVYpS2UhO"
      },
      "source": [
        "# 1 . Import"
      ]
    },
    {
      "cell_type": "code",
      "execution_count": null,
      "metadata": {
        "colab": {
          "base_uri": "https://localhost:8080/"
        },
        "id": "EHOkW2ol2UhY",
        "outputId": "10508659-972c-4237-9a84-31fd24356471"
      },
      "outputs": [
        {
          "name": "stdout",
          "output_type": "stream",
          "text": [
            "['spam.csv']\n"
          ]
        }
      ],
      "source": [
        " # System\n",
        "import os\n",
        "\n",
        "# Time\n",
        "import time\n",
        "import datetime\n",
        "\n",
        "# Numerical\n",
        "import numpy as np\n",
        "import pandas as pd\n",
        "\n",
        "# Tools\n",
        "import itertools\n",
        "from collections import Counter\n",
        "\n",
        "# NLP\n",
        "import re\n",
        "from nltk.corpus import stopwords\n",
        "from nltk.tokenize import word_tokenize \n",
        "from nltk.stem import SnowballStemmer\n",
        "from nltk.stem import PorterStemmer\n",
        "from nltk.stem import WordNetLemmatizer\n",
        "# from pywsd.utils import lemmatize_sentence\n",
        "\n",
        "# Preprocessing\n",
        "from sklearn import preprocessing\n",
        "from sklearn.utils import class_weight as cw\n",
        "from sklearn.feature_extraction.text import CountVectorizer\n",
        "from sklearn.preprocessing import StandardScaler\n",
        "from sklearn.preprocessing import LabelEncoder\n",
        "\n",
        "# Model Selection\n",
        "from sklearn.model_selection import train_test_split, cross_val_score, GridSearchCV\n",
        "\n",
        "# Machine Learning Models\n",
        "from sklearn import svm\n",
        "from sklearn.naive_bayes import MultinomialNB\n",
        "\n",
        "# Evaluation Metrics\n",
        "from sklearn import metrics \n",
        "from sklearn.metrics import f1_score, accuracy_score,confusion_matrix,classification_report\n",
        "\n",
        "# Deep Learing Preprocessing - Keras\n",
        "from keras.preprocessing.text import Tokenizer\n",
        "from keras.preprocessing import sequence\n",
        "from tensorflow.keras.utils import to_categorical\n",
        "\n",
        "\n",
        "# Deep Learning Model - Keras\n",
        "from keras.models import Model\n",
        "from keras.models import Sequential\n",
        "\n",
        "# Deep Learning Model - Keras - CNN\n",
        "from keras.layers import Conv1D, Conv2D, Convolution1D, MaxPooling1D, SeparableConv1D, SpatialDropout1D, \\\n",
        "    GlobalAvgPool1D, GlobalMaxPool1D, GlobalMaxPooling1D \n",
        "from keras.layers.pooling import GlobalPooling1D\n",
        "from keras.layers import MaxPooling2D, GlobalMaxPooling2D, GlobalAveragePooling2D\n",
        "\n",
        "# Deep Learning Model - Keras - RNN\n",
        "from keras.layers import Embedding, LSTM, Bidirectional\n",
        "\n",
        "# Deep Learning Model - Keras - General\n",
        "from keras.layers import Input, Add, concatenate, Dense, Activation, BatchNormalization, Dropout, Flatten\n",
        "from keras.layers import LeakyReLU, PReLU, Lambda, Multiply\n",
        "\n",
        "\n",
        "\n",
        "# Deep Learning Parameters - Keras\n",
        "from tensorflow.keras.optimizers import RMSprop, Adam\n",
        "\n",
        "# Deep Learning Callbacs - Keras\n",
        "from keras.callbacks import ModelCheckpoint, EarlyStopping, TensorBoard, ReduceLROnPlateau\n",
        "\n",
        "# Visualization\n",
        "import matplotlib.pyplot as plt\n",
        "import seaborn as sns\n",
        "\n",
        "%matplotlib inline\n",
        "\n",
        "print(os.listdir(\"/content/drive/MyDrive/input\"))"
      ]
    },
    {
      "cell_type": "markdown",
      "metadata": {
        "id": "-dPHygWI2Uhl"
      },
      "source": [
        "# 2 . Functions"
      ]
    },
    {
      "cell_type": "code",
      "execution_count": null,
      "metadata": {
        "colab": {
          "base_uri": "https://localhost:8080/"
        },
        "id": "bYzGG1GD_fPx",
        "outputId": "9c31d36c-0e89-4117-d7dc-672f800e7282"
      },
      "outputs": [
        {
          "name": "stdout",
          "output_type": "stream",
          "text": [
            "Drive already mounted at /content/drive; to attempt to forcibly remount, call drive.mount(\"/content/drive\", force_remount=True).\n"
          ]
        }
      ],
      "source": [
        "from google.colab import drive\n",
        "drive.mount('/content/drive')"
      ]
    },
    {
      "cell_type": "code",
      "execution_count": null,
      "metadata": {
        "id": "knELVf3v2Uho"
      },
      "outputs": [],
      "source": [
        "# print date and time for given type of representation\n",
        "def date_time(x):\n",
        "    if x==1:\n",
        "        return 'Timestamp: {:%Y-%m-%d %H:%M:%S}'.format(datetime.datetime.now())\n",
        "    if x==2:    \n",
        "        return 'Timestamp: {:%Y-%b-%d %H:%M:%S}'.format(datetime.datetime.now())\n",
        "    if x==3:  \n",
        "        return 'Date now: %s' % datetime.datetime.now()\n",
        "    if x==4:  \n",
        "        return 'Date today: %s' % datetime.date.today() "
      ]
    },
    {
      "cell_type": "markdown",
      "metadata": {
        "id": "0ivweIZN2Uht"
      },
      "source": [
        "# 3 . Read Data"
      ]
    },
    {
      "cell_type": "code",
      "execution_count": null,
      "metadata": {
        "id": "LJ4GHRGc2Uhx"
      },
      "outputs": [],
      "source": [
        "input_directory = r\"../input/\"\n",
        "output_directory = r\"../output/\"\n",
        "\n",
        "if not os.path.exists(output_directory):\n",
        "    os.mkdir(output_directory)\n",
        "    \n",
        "figure_directory = \"../output/figures\"\n",
        "if not os.path.exists(figure_directory):\n",
        "    os.mkdir(figure_directory)\n",
        "    \n",
        "    \n",
        "file_name_pred_batch = figure_directory+r\"/result\"\n",
        "file_name_pred_sample = figure_directory+r\"/sample\""
      ]
    },
    {
      "cell_type": "code",
      "execution_count": null,
      "metadata": {
        "colab": {
          "base_uri": "https://localhost:8080/",
          "height": 206
        },
        "id": "yM3zhv9m2Uh0",
        "outputId": "d1de0034-9313-4846-8083-00af78d66d20"
      },
      "outputs": [
        {
          "data": {
            "text/html": [
              "\n",
              "  <div id=\"df-aec427d8-cd50-4aa2-8496-cd029084c1ca\">\n",
              "    <div class=\"colab-df-container\">\n",
              "      <div>\n",
              "<style scoped>\n",
              "    .dataframe tbody tr th:only-of-type {\n",
              "        vertical-align: middle;\n",
              "    }\n",
              "\n",
              "    .dataframe tbody tr th {\n",
              "        vertical-align: top;\n",
              "    }\n",
              "\n",
              "    .dataframe thead th {\n",
              "        text-align: right;\n",
              "    }\n",
              "</style>\n",
              "<table border=\"1\" class=\"dataframe\">\n",
              "  <thead>\n",
              "    <tr style=\"text-align: right;\">\n",
              "      <th></th>\n",
              "      <th>v1</th>\n",
              "      <th>v2</th>\n",
              "      <th>Unnamed: 2</th>\n",
              "      <th>Unnamed: 3</th>\n",
              "      <th>Unnamed: 4</th>\n",
              "    </tr>\n",
              "  </thead>\n",
              "  <tbody>\n",
              "    <tr>\n",
              "      <th>0</th>\n",
              "      <td>ham</td>\n",
              "      <td>Go until jurong point, crazy.. Available only ...</td>\n",
              "      <td>NaN</td>\n",
              "      <td>NaN</td>\n",
              "      <td>NaN</td>\n",
              "    </tr>\n",
              "    <tr>\n",
              "      <th>1</th>\n",
              "      <td>ham</td>\n",
              "      <td>Ok lar... Joking wif u oni...</td>\n",
              "      <td>NaN</td>\n",
              "      <td>NaN</td>\n",
              "      <td>NaN</td>\n",
              "    </tr>\n",
              "    <tr>\n",
              "      <th>2</th>\n",
              "      <td>spam</td>\n",
              "      <td>Free entry in 2 a wkly comp to win FA Cup fina...</td>\n",
              "      <td>NaN</td>\n",
              "      <td>NaN</td>\n",
              "      <td>NaN</td>\n",
              "    </tr>\n",
              "    <tr>\n",
              "      <th>3</th>\n",
              "      <td>ham</td>\n",
              "      <td>U dun say so early hor... U c already then say...</td>\n",
              "      <td>NaN</td>\n",
              "      <td>NaN</td>\n",
              "      <td>NaN</td>\n",
              "    </tr>\n",
              "    <tr>\n",
              "      <th>4</th>\n",
              "      <td>ham</td>\n",
              "      <td>Nah I don't think he goes to usf, he lives aro...</td>\n",
              "      <td>NaN</td>\n",
              "      <td>NaN</td>\n",
              "      <td>NaN</td>\n",
              "    </tr>\n",
              "  </tbody>\n",
              "</table>\n",
              "</div>\n",
              "      <button class=\"colab-df-convert\" onclick=\"convertToInteractive('df-aec427d8-cd50-4aa2-8496-cd029084c1ca')\"\n",
              "              title=\"Convert this dataframe to an interactive table.\"\n",
              "              style=\"display:none;\">\n",
              "        \n",
              "  <svg xmlns=\"http://www.w3.org/2000/svg\" height=\"24px\"viewBox=\"0 0 24 24\"\n",
              "       width=\"24px\">\n",
              "    <path d=\"M0 0h24v24H0V0z\" fill=\"none\"/>\n",
              "    <path d=\"M18.56 5.44l.94 2.06.94-2.06 2.06-.94-2.06-.94-.94-2.06-.94 2.06-2.06.94zm-11 1L8.5 8.5l.94-2.06 2.06-.94-2.06-.94L8.5 2.5l-.94 2.06-2.06.94zm10 10l.94 2.06.94-2.06 2.06-.94-2.06-.94-.94-2.06-.94 2.06-2.06.94z\"/><path d=\"M17.41 7.96l-1.37-1.37c-.4-.4-.92-.59-1.43-.59-.52 0-1.04.2-1.43.59L10.3 9.45l-7.72 7.72c-.78.78-.78 2.05 0 2.83L4 21.41c.39.39.9.59 1.41.59.51 0 1.02-.2 1.41-.59l7.78-7.78 2.81-2.81c.8-.78.8-2.07 0-2.86zM5.41 20L4 18.59l7.72-7.72 1.47 1.35L5.41 20z\"/>\n",
              "  </svg>\n",
              "      </button>\n",
              "      \n",
              "  <style>\n",
              "    .colab-df-container {\n",
              "      display:flex;\n",
              "      flex-wrap:wrap;\n",
              "      gap: 12px;\n",
              "    }\n",
              "\n",
              "    .colab-df-convert {\n",
              "      background-color: #E8F0FE;\n",
              "      border: none;\n",
              "      border-radius: 50%;\n",
              "      cursor: pointer;\n",
              "      display: none;\n",
              "      fill: #1967D2;\n",
              "      height: 32px;\n",
              "      padding: 0 0 0 0;\n",
              "      width: 32px;\n",
              "    }\n",
              "\n",
              "    .colab-df-convert:hover {\n",
              "      background-color: #E2EBFA;\n",
              "      box-shadow: 0px 1px 2px rgba(60, 64, 67, 0.3), 0px 1px 3px 1px rgba(60, 64, 67, 0.15);\n",
              "      fill: #174EA6;\n",
              "    }\n",
              "\n",
              "    [theme=dark] .colab-df-convert {\n",
              "      background-color: #3B4455;\n",
              "      fill: #D2E3FC;\n",
              "    }\n",
              "\n",
              "    [theme=dark] .colab-df-convert:hover {\n",
              "      background-color: #434B5C;\n",
              "      box-shadow: 0px 1px 3px 1px rgba(0, 0, 0, 0.15);\n",
              "      filter: drop-shadow(0px 1px 2px rgba(0, 0, 0, 0.3));\n",
              "      fill: #FFFFFF;\n",
              "    }\n",
              "  </style>\n",
              "\n",
              "      <script>\n",
              "        const buttonEl =\n",
              "          document.querySelector('#df-aec427d8-cd50-4aa2-8496-cd029084c1ca button.colab-df-convert');\n",
              "        buttonEl.style.display =\n",
              "          google.colab.kernel.accessAllowed ? 'block' : 'none';\n",
              "\n",
              "        async function convertToInteractive(key) {\n",
              "          const element = document.querySelector('#df-aec427d8-cd50-4aa2-8496-cd029084c1ca');\n",
              "          const dataTable =\n",
              "            await google.colab.kernel.invokeFunction('convertToInteractive',\n",
              "                                                     [key], {});\n",
              "          if (!dataTable) return;\n",
              "\n",
              "          const docLinkHtml = 'Like what you see? Visit the ' +\n",
              "            '<a target=\"_blank\" href=https://colab.research.google.com/notebooks/data_table.ipynb>data table notebook</a>'\n",
              "            + ' to learn more about interactive tables.';\n",
              "          element.innerHTML = '';\n",
              "          dataTable['output_type'] = 'display_data';\n",
              "          await google.colab.output.renderOutput(dataTable, element);\n",
              "          const docLink = document.createElement('div');\n",
              "          docLink.innerHTML = docLinkHtml;\n",
              "          element.appendChild(docLink);\n",
              "        }\n",
              "      </script>\n",
              "    </div>\n",
              "  </div>\n",
              "  "
            ],
            "text/plain": [
              "     v1                                                 v2 Unnamed: 2  \\\n",
              "0   ham  Go until jurong point, crazy.. Available only ...        NaN   \n",
              "1   ham                      Ok lar... Joking wif u oni...        NaN   \n",
              "2  spam  Free entry in 2 a wkly comp to win FA Cup fina...        NaN   \n",
              "3   ham  U dun say so early hor... U c already then say...        NaN   \n",
              "4   ham  Nah I don't think he goes to usf, he lives aro...        NaN   \n",
              "\n",
              "  Unnamed: 3 Unnamed: 4  \n",
              "0        NaN        NaN  \n",
              "1        NaN        NaN  \n",
              "2        NaN        NaN  \n",
              "3        NaN        NaN  \n",
              "4        NaN        NaN  "
            ]
          },
          "execution_count": 5,
          "metadata": {},
          "output_type": "execute_result"
        }
      ],
      "source": [
        "df = pd.read_csv(\"/content/drive/MyDrive/input/spam.csv\", encoding='latin-1')\n",
        "df.head()"
      ]
    },
    {
      "cell_type": "code",
      "execution_count": null,
      "metadata": {
        "colab": {
          "base_uri": "https://localhost:8080/",
          "height": 206
        },
        "id": "e6IoOH4m2Uh3",
        "outputId": "1d25125e-35a9-414c-982d-e5e124606f76"
      },
      "outputs": [
        {
          "data": {
            "text/html": [
              "\n",
              "  <div id=\"df-9718c71b-5320-4f3d-b0e7-2789b6d0c5c7\">\n",
              "    <div class=\"colab-df-container\">\n",
              "      <div>\n",
              "<style scoped>\n",
              "    .dataframe tbody tr th:only-of-type {\n",
              "        vertical-align: middle;\n",
              "    }\n",
              "\n",
              "    .dataframe tbody tr th {\n",
              "        vertical-align: top;\n",
              "    }\n",
              "\n",
              "    .dataframe thead th {\n",
              "        text-align: right;\n",
              "    }\n",
              "</style>\n",
              "<table border=\"1\" class=\"dataframe\">\n",
              "  <thead>\n",
              "    <tr style=\"text-align: right;\">\n",
              "      <th></th>\n",
              "      <th>label</th>\n",
              "      <th>text</th>\n",
              "    </tr>\n",
              "  </thead>\n",
              "  <tbody>\n",
              "    <tr>\n",
              "      <th>0</th>\n",
              "      <td>ham</td>\n",
              "      <td>Go until jurong point, crazy.. Available only ...</td>\n",
              "    </tr>\n",
              "    <tr>\n",
              "      <th>1</th>\n",
              "      <td>ham</td>\n",
              "      <td>Ok lar... Joking wif u oni...</td>\n",
              "    </tr>\n",
              "    <tr>\n",
              "      <th>2</th>\n",
              "      <td>spam</td>\n",
              "      <td>Free entry in 2 a wkly comp to win FA Cup fina...</td>\n",
              "    </tr>\n",
              "    <tr>\n",
              "      <th>3</th>\n",
              "      <td>ham</td>\n",
              "      <td>U dun say so early hor... U c already then say...</td>\n",
              "    </tr>\n",
              "    <tr>\n",
              "      <th>4</th>\n",
              "      <td>ham</td>\n",
              "      <td>Nah I don't think he goes to usf, he lives aro...</td>\n",
              "    </tr>\n",
              "  </tbody>\n",
              "</table>\n",
              "</div>\n",
              "      <button class=\"colab-df-convert\" onclick=\"convertToInteractive('df-9718c71b-5320-4f3d-b0e7-2789b6d0c5c7')\"\n",
              "              title=\"Convert this dataframe to an interactive table.\"\n",
              "              style=\"display:none;\">\n",
              "        \n",
              "  <svg xmlns=\"http://www.w3.org/2000/svg\" height=\"24px\"viewBox=\"0 0 24 24\"\n",
              "       width=\"24px\">\n",
              "    <path d=\"M0 0h24v24H0V0z\" fill=\"none\"/>\n",
              "    <path d=\"M18.56 5.44l.94 2.06.94-2.06 2.06-.94-2.06-.94-.94-2.06-.94 2.06-2.06.94zm-11 1L8.5 8.5l.94-2.06 2.06-.94-2.06-.94L8.5 2.5l-.94 2.06-2.06.94zm10 10l.94 2.06.94-2.06 2.06-.94-2.06-.94-.94-2.06-.94 2.06-2.06.94z\"/><path d=\"M17.41 7.96l-1.37-1.37c-.4-.4-.92-.59-1.43-.59-.52 0-1.04.2-1.43.59L10.3 9.45l-7.72 7.72c-.78.78-.78 2.05 0 2.83L4 21.41c.39.39.9.59 1.41.59.51 0 1.02-.2 1.41-.59l7.78-7.78 2.81-2.81c.8-.78.8-2.07 0-2.86zM5.41 20L4 18.59l7.72-7.72 1.47 1.35L5.41 20z\"/>\n",
              "  </svg>\n",
              "      </button>\n",
              "      \n",
              "  <style>\n",
              "    .colab-df-container {\n",
              "      display:flex;\n",
              "      flex-wrap:wrap;\n",
              "      gap: 12px;\n",
              "    }\n",
              "\n",
              "    .colab-df-convert {\n",
              "      background-color: #E8F0FE;\n",
              "      border: none;\n",
              "      border-radius: 50%;\n",
              "      cursor: pointer;\n",
              "      display: none;\n",
              "      fill: #1967D2;\n",
              "      height: 32px;\n",
              "      padding: 0 0 0 0;\n",
              "      width: 32px;\n",
              "    }\n",
              "\n",
              "    .colab-df-convert:hover {\n",
              "      background-color: #E2EBFA;\n",
              "      box-shadow: 0px 1px 2px rgba(60, 64, 67, 0.3), 0px 1px 3px 1px rgba(60, 64, 67, 0.15);\n",
              "      fill: #174EA6;\n",
              "    }\n",
              "\n",
              "    [theme=dark] .colab-df-convert {\n",
              "      background-color: #3B4455;\n",
              "      fill: #D2E3FC;\n",
              "    }\n",
              "\n",
              "    [theme=dark] .colab-df-convert:hover {\n",
              "      background-color: #434B5C;\n",
              "      box-shadow: 0px 1px 3px 1px rgba(0, 0, 0, 0.15);\n",
              "      filter: drop-shadow(0px 1px 2px rgba(0, 0, 0, 0.3));\n",
              "      fill: #FFFFFF;\n",
              "    }\n",
              "  </style>\n",
              "\n",
              "      <script>\n",
              "        const buttonEl =\n",
              "          document.querySelector('#df-9718c71b-5320-4f3d-b0e7-2789b6d0c5c7 button.colab-df-convert');\n",
              "        buttonEl.style.display =\n",
              "          google.colab.kernel.accessAllowed ? 'block' : 'none';\n",
              "\n",
              "        async function convertToInteractive(key) {\n",
              "          const element = document.querySelector('#df-9718c71b-5320-4f3d-b0e7-2789b6d0c5c7');\n",
              "          const dataTable =\n",
              "            await google.colab.kernel.invokeFunction('convertToInteractive',\n",
              "                                                     [key], {});\n",
              "          if (!dataTable) return;\n",
              "\n",
              "          const docLinkHtml = 'Like what you see? Visit the ' +\n",
              "            '<a target=\"_blank\" href=https://colab.research.google.com/notebooks/data_table.ipynb>data table notebook</a>'\n",
              "            + ' to learn more about interactive tables.';\n",
              "          element.innerHTML = '';\n",
              "          dataTable['output_type'] = 'display_data';\n",
              "          await google.colab.output.renderOutput(dataTable, element);\n",
              "          const docLink = document.createElement('div');\n",
              "          docLink.innerHTML = docLinkHtml;\n",
              "          element.appendChild(docLink);\n",
              "        }\n",
              "      </script>\n",
              "    </div>\n",
              "  </div>\n",
              "  "
            ],
            "text/plain": [
              "  label                                               text\n",
              "0   ham  Go until jurong point, crazy.. Available only ...\n",
              "1   ham                      Ok lar... Joking wif u oni...\n",
              "2  spam  Free entry in 2 a wkly comp to win FA Cup fina...\n",
              "3   ham  U dun say so early hor... U c already then say...\n",
              "4   ham  Nah I don't think he goes to usf, he lives aro..."
            ]
          },
          "execution_count": 6,
          "metadata": {},
          "output_type": "execute_result"
        }
      ],
      "source": [
        "df.drop([\"Unnamed: 2\", \"Unnamed: 3\", \"Unnamed: 4\"], axis=1, inplace=True)\n",
        "df = df.rename(columns={\"v1\":\"label\", \"v2\":\"text\"})\n",
        "df.head()"
      ]
    },
    {
      "cell_type": "code",
      "execution_count": null,
      "metadata": {
        "id": "eUkgsBRW2Uh5"
      },
      "outputs": [],
      "source": [
        "df_new = df.copy()\n",
        "df_stat = df.copy()"
      ]
    },
    {
      "cell_type": "code",
      "execution_count": null,
      "metadata": {
        "colab": {
          "base_uri": "https://localhost:8080/"
        },
        "id": "6yDIdHSK40Wc",
        "outputId": "5c2ed6de-05af-4328-ac06-45a4396be92b"
      },
      "outputs": [
        {
          "name": "stderr",
          "output_type": "stream",
          "text": [
            "[nltk_data] Downloading package stopwords to /root/nltk_data...\n",
            "[nltk_data]   Package stopwords is already up-to-date!\n"
          ]
        },
        {
          "data": {
            "text/plain": [
              "True"
            ]
          },
          "execution_count": 8,
          "metadata": {},
          "output_type": "execute_result"
        }
      ],
      "source": [
        "import nltk\n",
        "nltk.download('stopwords')"
      ]
    },
    {
      "cell_type": "code",
      "execution_count": null,
      "metadata": {
        "id": "MoR5U1nu2Uh6"
      },
      "outputs": [],
      "source": [
        "lmm = WordNetLemmatizer()\n",
        "porter_stemmer = PorterStemmer()\n",
        "snowball_stemmer = SnowballStemmer('english')\n",
        "\n",
        "stop_words = set(stopwords.words('english'))"
      ]
    },
    {
      "cell_type": "code",
      "execution_count": null,
      "metadata": {
        "id": "xI4cWrij2Uh8"
      },
      "outputs": [],
      "source": [
        "#df_new['parsed'] = df_new['text'].apply(lambda x: x.lower())\n",
        "#df_new['parsed'] = df_new['parsed'].apply(lambda x: word_tokenize(x))\n",
        "\n",
        " #df_new['no_stop'] = df_new['parsed'].apply(lambda x: [word for word in str(x).split() if word not in stop_words])\n",
        "\n",
        " #df_new['stem'] = df_new['no_stop'].apply(lambda x: [snowball_stemmer.stem(word) for word in x])\n",
        " #df_new['stem'] =  df_new['stem'].apply(lambda x: \" \".join(x))\n",
        "\n",
        " #df_new['lemi'] =  df_new['no_stop'].apply(lambda x: \" \".join(x))\n",
        " #df_new['lemi'] =  df_new['lemi'].apply(lambda x: lmm.lemmatize(x))\n",
        "\n",
        " #3df_new['parsed'] = df_new['parsed'].apply(lambda x: ' '.join(x))\n",
        " #df_new['no_stop'] = df_new['no_stop'].apply(lambda x: ' '.join(x))\n",
        " #df_new['stem'] = df_new['stem'].apply(lambda x: ' '.join(x))\n",
        " #df_new['lemi'] = df_new['lemi'].apply(lambda x: ' '.join(x))\n",
        "\n",
        " #df_new.head()"
      ]
    },
    {
      "cell_type": "code",
      "execution_count": null,
      "metadata": {
        "colab": {
          "base_uri": "https://localhost:8080/",
          "height": 320
        },
        "id": "UhwychK42Uh_",
        "outputId": "d6a70e36-8bbc-4a1d-bf1a-92e94dc18876"
      },
      "outputs": [
        {
          "data": {
            "text/html": [
              "\n",
              "  <div id=\"df-ca788b9c-25a5-46d5-81d4-dcb66dcd4d48\">\n",
              "    <div class=\"colab-df-container\">\n",
              "      <div>\n",
              "<style scoped>\n",
              "    .dataframe tbody tr th:only-of-type {\n",
              "        vertical-align: middle;\n",
              "    }\n",
              "\n",
              "    .dataframe tbody tr th {\n",
              "        vertical-align: top;\n",
              "    }\n",
              "\n",
              "    .dataframe thead th {\n",
              "        text-align: right;\n",
              "    }\n",
              "</style>\n",
              "<table border=\"1\" class=\"dataframe\">\n",
              "  <thead>\n",
              "    <tr style=\"text-align: right;\">\n",
              "      <th></th>\n",
              "      <th>label</th>\n",
              "      <th>text</th>\n",
              "      <th>text_clean</th>\n",
              "      <th>length</th>\n",
              "      <th>token_count</th>\n",
              "      <th>unique_token_count</th>\n",
              "      <th>unique_token_count_percent</th>\n",
              "      <th>length_clean</th>\n",
              "      <th>token_count_clean</th>\n",
              "    </tr>\n",
              "  </thead>\n",
              "  <tbody>\n",
              "    <tr>\n",
              "      <th>0</th>\n",
              "      <td>ham</td>\n",
              "      <td>Go until jurong point, crazy.. Available only ...</td>\n",
              "      <td>go until jurong point  crazy   available only ...</td>\n",
              "      <td>111</td>\n",
              "      <td>20</td>\n",
              "      <td>20</td>\n",
              "      <td>1.000000</td>\n",
              "      <td>111</td>\n",
              "      <td>29</td>\n",
              "    </tr>\n",
              "    <tr>\n",
              "      <th>1</th>\n",
              "      <td>ham</td>\n",
              "      <td>Ok lar... Joking wif u oni...</td>\n",
              "      <td>ok lar    joking wif u oni</td>\n",
              "      <td>29</td>\n",
              "      <td>6</td>\n",
              "      <td>6</td>\n",
              "      <td>1.000000</td>\n",
              "      <td>29</td>\n",
              "      <td>12</td>\n",
              "    </tr>\n",
              "    <tr>\n",
              "      <th>2</th>\n",
              "      <td>spam</td>\n",
              "      <td>Free entry in 2 a wkly comp to win FA Cup fina...</td>\n",
              "      <td>free entry in   a wkly comp to win fa cup fina...</td>\n",
              "      <td>155</td>\n",
              "      <td>28</td>\n",
              "      <td>24</td>\n",
              "      <td>0.857143</td>\n",
              "      <td>155</td>\n",
              "      <td>59</td>\n",
              "    </tr>\n",
              "    <tr>\n",
              "      <th>3</th>\n",
              "      <td>ham</td>\n",
              "      <td>U dun say so early hor... U c already then say...</td>\n",
              "      <td>u dun say so early hor    u c already then say</td>\n",
              "      <td>49</td>\n",
              "      <td>11</td>\n",
              "      <td>10</td>\n",
              "      <td>0.909091</td>\n",
              "      <td>49</td>\n",
              "      <td>17</td>\n",
              "    </tr>\n",
              "    <tr>\n",
              "      <th>4</th>\n",
              "      <td>ham</td>\n",
              "      <td>Nah I don't think he goes to usf, he lives aro...</td>\n",
              "      <td>nah i don t think he goes to usf  he lives aro...</td>\n",
              "      <td>61</td>\n",
              "      <td>13</td>\n",
              "      <td>12</td>\n",
              "      <td>0.923077</td>\n",
              "      <td>61</td>\n",
              "      <td>15</td>\n",
              "    </tr>\n",
              "  </tbody>\n",
              "</table>\n",
              "</div>\n",
              "      <button class=\"colab-df-convert\" onclick=\"convertToInteractive('df-ca788b9c-25a5-46d5-81d4-dcb66dcd4d48')\"\n",
              "              title=\"Convert this dataframe to an interactive table.\"\n",
              "              style=\"display:none;\">\n",
              "        \n",
              "  <svg xmlns=\"http://www.w3.org/2000/svg\" height=\"24px\"viewBox=\"0 0 24 24\"\n",
              "       width=\"24px\">\n",
              "    <path d=\"M0 0h24v24H0V0z\" fill=\"none\"/>\n",
              "    <path d=\"M18.56 5.44l.94 2.06.94-2.06 2.06-.94-2.06-.94-.94-2.06-.94 2.06-2.06.94zm-11 1L8.5 8.5l.94-2.06 2.06-.94-2.06-.94L8.5 2.5l-.94 2.06-2.06.94zm10 10l.94 2.06.94-2.06 2.06-.94-2.06-.94-.94-2.06-.94 2.06-2.06.94z\"/><path d=\"M17.41 7.96l-1.37-1.37c-.4-.4-.92-.59-1.43-.59-.52 0-1.04.2-1.43.59L10.3 9.45l-7.72 7.72c-.78.78-.78 2.05 0 2.83L4 21.41c.39.39.9.59 1.41.59.51 0 1.02-.2 1.41-.59l7.78-7.78 2.81-2.81c.8-.78.8-2.07 0-2.86zM5.41 20L4 18.59l7.72-7.72 1.47 1.35L5.41 20z\"/>\n",
              "  </svg>\n",
              "      </button>\n",
              "      \n",
              "  <style>\n",
              "    .colab-df-container {\n",
              "      display:flex;\n",
              "      flex-wrap:wrap;\n",
              "      gap: 12px;\n",
              "    }\n",
              "\n",
              "    .colab-df-convert {\n",
              "      background-color: #E8F0FE;\n",
              "      border: none;\n",
              "      border-radius: 50%;\n",
              "      cursor: pointer;\n",
              "      display: none;\n",
              "      fill: #1967D2;\n",
              "      height: 32px;\n",
              "      padding: 0 0 0 0;\n",
              "      width: 32px;\n",
              "    }\n",
              "\n",
              "    .colab-df-convert:hover {\n",
              "      background-color: #E2EBFA;\n",
              "      box-shadow: 0px 1px 2px rgba(60, 64, 67, 0.3), 0px 1px 3px 1px rgba(60, 64, 67, 0.15);\n",
              "      fill: #174EA6;\n",
              "    }\n",
              "\n",
              "    [theme=dark] .colab-df-convert {\n",
              "      background-color: #3B4455;\n",
              "      fill: #D2E3FC;\n",
              "    }\n",
              "\n",
              "    [theme=dark] .colab-df-convert:hover {\n",
              "      background-color: #434B5C;\n",
              "      box-shadow: 0px 1px 3px 1px rgba(0, 0, 0, 0.15);\n",
              "      filter: drop-shadow(0px 1px 2px rgba(0, 0, 0, 0.3));\n",
              "      fill: #FFFFFF;\n",
              "    }\n",
              "  </style>\n",
              "\n",
              "      <script>\n",
              "        const buttonEl =\n",
              "          document.querySelector('#df-ca788b9c-25a5-46d5-81d4-dcb66dcd4d48 button.colab-df-convert');\n",
              "        buttonEl.style.display =\n",
              "          google.colab.kernel.accessAllowed ? 'block' : 'none';\n",
              "\n",
              "        async function convertToInteractive(key) {\n",
              "          const element = document.querySelector('#df-ca788b9c-25a5-46d5-81d4-dcb66dcd4d48');\n",
              "          const dataTable =\n",
              "            await google.colab.kernel.invokeFunction('convertToInteractive',\n",
              "                                                     [key], {});\n",
              "          if (!dataTable) return;\n",
              "\n",
              "          const docLinkHtml = 'Like what you see? Visit the ' +\n",
              "            '<a target=\"_blank\" href=https://colab.research.google.com/notebooks/data_table.ipynb>data table notebook</a>'\n",
              "            + ' to learn more about interactive tables.';\n",
              "          element.innerHTML = '';\n",
              "          dataTable['output_type'] = 'display_data';\n",
              "          await google.colab.output.renderOutput(dataTable, element);\n",
              "          const docLink = document.createElement('div');\n",
              "          docLink.innerHTML = docLinkHtml;\n",
              "          element.appendChild(docLink);\n",
              "        }\n",
              "      </script>\n",
              "    </div>\n",
              "  </div>\n",
              "  "
            ],
            "text/plain": [
              "  label                                               text  \\\n",
              "0   ham  Go until jurong point, crazy.. Available only ...   \n",
              "1   ham                      Ok lar... Joking wif u oni...   \n",
              "2  spam  Free entry in 2 a wkly comp to win FA Cup fina...   \n",
              "3   ham  U dun say so early hor... U c already then say...   \n",
              "4   ham  Nah I don't think he goes to usf, he lives aro...   \n",
              "\n",
              "                                          text_clean  length  token_count  \\\n",
              "0  go until jurong point  crazy   available only ...     111           20   \n",
              "1                      ok lar    joking wif u oni         29            6   \n",
              "2  free entry in   a wkly comp to win fa cup fina...     155           28   \n",
              "3  u dun say so early hor    u c already then say         49           11   \n",
              "4  nah i don t think he goes to usf  he lives aro...      61           13   \n",
              "\n",
              "   unique_token_count  unique_token_count_percent  length_clean  \\\n",
              "0                  20                    1.000000           111   \n",
              "1                   6                    1.000000            29   \n",
              "2                  24                    0.857143           155   \n",
              "3                  10                    0.909091            49   \n",
              "4                  12                    0.923077            61   \n",
              "\n",
              "   token_count_clean  \n",
              "0                 29  \n",
              "1                 12  \n",
              "2                 59  \n",
              "3                 17  \n",
              "4                 15  "
            ]
          },
          "execution_count": 11,
          "metadata": {},
          "output_type": "execute_result"
        }
      ],
      "source": [
        "df_stat[\"text_clean\"] = df_stat[\"text\"].apply(lambda x: re.sub(\"[^a-zA-Z]\", \" \", x.lower()))\n",
        "\n",
        "df_stat[\"length\"] = df_stat[\"text\"].apply(lambda x: len(x))\n",
        "df_stat[\"token_count\"] = df_stat[\"text\"].apply(lambda x: len(x.split(\" \")))\n",
        "df_stat[\"unique_token_count\"] = df_stat[\"text\"].apply(lambda x: len(set(x.lower().split(\" \"))))\n",
        "df_stat[\"unique_token_count_percent\"] = df_stat[\"unique_token_count\"]/df_stat[\"token_count\"]\n",
        "\n",
        "df_stat[\"length_clean\"] = df_stat[\"text_clean\"].apply(lambda x: len(x))\n",
        "df_stat[\"token_count_clean\"] = df_stat[\"text_clean\"].apply(lambda x: len(x.split(\" \")))\n",
        "\n",
        "df_stat.head()"
      ]
    },
    {
      "cell_type": "markdown",
      "metadata": {
        "id": "tQGtiiPk2UiB"
      },
      "source": [
        "# 4 . Visualization"
      ]
    },
    {
      "cell_type": "code",
      "execution_count": null,
      "metadata": {
        "colab": {
          "base_uri": "https://localhost:8080/",
          "height": 464
        },
        "id": "tLq1IvwI2UiD",
        "outputId": "23a68ee9-40bf-42cf-8e21-d491b099d906"
      },
      "outputs": [
        {
          "data": {
            "text/plain": [
              "ham     4825\n",
              "spam     747\n",
              "Name: label, dtype: int64"
            ]
          },
          "execution_count": 12,
          "metadata": {},
          "output_type": "execute_result"
        },
        {
          "data": {
            "image/png": "[encoded data removed]",
            "text/plain": [
              "<Figure size 576x360 with 1 Axes>"
            ]
          },
          "metadata": {},
          "output_type": "display_data"
        }
      ],
      "source": [
        "sns.set_style(\"ticks\")\n",
        "figsize=(8, 5)\n",
        "ticksize = 18\n",
        "titlesize = ticksize + 8\n",
        "labelsize = ticksize + 5\n",
        "xlabel = \"Label\"\n",
        "ylabel = \"Count\"\n",
        "title = \"Number of ham and spam messages\"\n",
        "params = {'figure.figsize' : figsize,\n",
        "          'axes.labelsize' : labelsize,\n",
        "          'axes.titlesize' : titlesize,\n",
        "          'xtick.labelsize': ticksize,\n",
        "          'ytick.labelsize': ticksize}\n",
        "plt.rcParams.update(params)\n",
        "col1 = \"label\"\n",
        "col2 = \"label\"\n",
        "sns.countplot(x=df[col1])\n",
        "plt.title(title.title())\n",
        "plt.xlabel(xlabel)\n",
        "plt.ylabel(ylabel)\n",
        "plt.xticks(rotation=90)\n",
        "plt.plot()\n",
        "df.label.value_counts()"
      ]
    },
    {
      "cell_type": "code",
      "execution_count": null,
      "metadata": {
        "colab": {
          "base_uri": "https://localhost:8080/"
        },
        "id": "-JmbrLxUzMhF",
        "outputId": "c29c200c-30bb-4991-dbda-1b0e5d81fcf1"
      },
      "outputs": [
        {
          "name": "stdout",
          "output_type": "stream",
          "text": [
            "{'figure.figsize': (8, 5), 'axes.labelsize': 23, 'axes.titlesize': 26, 'xtick.labelsize': 18, 'ytick.labelsize': 18}\n"
          ]
        }
      ],
      "source": [
        "print(params)"
      ]
    },
    {
      "cell_type": "code",
      "execution_count": null,
      "metadata": {
        "colab": {
          "base_uri": "https://localhost:8080/",
          "height": 1000
        },
        "id": "onmZOsEt2UiE",
        "outputId": "8311f4e1-458b-4521-f1b8-bf85a074f6b3"
      },
      "outputs": [
        {
          "name": "stderr",
          "output_type": "stream",
          "text": [
            "/usr/local/lib/python3.7/dist-packages/seaborn/distributions.py:2619: FutureWarning: `distplot` is a deprecated function and will be removed in a future version. Please adapt your code to use either `displot` (a figure-level function with similar flexibility) or `histplot` (an axes-level function for histograms).\n",
            "  warnings.warn(msg, FutureWarning)\n",
            "/usr/local/lib/python3.7/dist-packages/seaborn/distributions.py:2619: FutureWarning: `distplot` is a deprecated function and will be removed in a future version. Please adapt your code to use either `displot` (a figure-level function with similar flexibility) or `histplot` (an axes-level function for histograms).\n",
            "  warnings.warn(msg, FutureWarning)\n",
            "/usr/local/lib/python3.7/dist-packages/seaborn/distributions.py:2619: FutureWarning: `distplot` is a deprecated function and will be removed in a future version. Please adapt your code to use either `displot` (a figure-level function with similar flexibility) or `histplot` (an axes-level function for histograms).\n",
            "  warnings.warn(msg, FutureWarning)\n",
            "/usr/local/lib/python3.7/dist-packages/seaborn/distributions.py:2619: FutureWarning: `distplot` is a deprecated function and will be removed in a future version. Please adapt your code to use either `displot` (a figure-level function with similar flexibility) or `histplot` (an axes-level function for histograms).\n",
            "  warnings.warn(msg, FutureWarning)\n",
            "/usr/local/lib/python3.7/dist-packages/seaborn/distributions.py:2619: FutureWarning: `distplot` is a deprecated function and will be removed in a future version. Please adapt your code to use either `displot` (a figure-level function with similar flexibility) or `histplot` (an axes-level function for histograms).\n",
            "  warnings.warn(msg, FutureWarning)\n",
            "/usr/local/lib/python3.7/dist-packages/seaborn/distributions.py:2619: FutureWarning: `distplot` is a deprecated function and will be removed in a future version. Please adapt your code to use either `displot` (a figure-level function with similar flexibility) or `histplot` (an axes-level function for histograms).\n",
            "  warnings.warn(msg, FutureWarning)\n",
            "/usr/local/lib/python3.7/dist-packages/seaborn/distributions.py:2619: FutureWarning: `distplot` is a deprecated function and will be removed in a future version. Please adapt your code to use either `displot` (a figure-level function with similar flexibility) or `histplot` (an axes-level function for histograms).\n",
            "  warnings.warn(msg, FutureWarning)\n",
            "/usr/local/lib/python3.7/dist-packages/seaborn/distributions.py:2619: FutureWarning: `distplot` is a deprecated function and will be removed in a future version. Please adapt your code to use either `displot` (a figure-level function with similar flexibility) or `histplot` (an axes-level function for histograms).\n",
            "  warnings.warn(msg, FutureWarning)\n"
          ]
        },
        {
          "data": {
            "image/png": "[encoded data removed]",
            "text/plain": [
              "<Figure size 1440x1080 with 4 Axes>"
            ]
          },
          "metadata": {},
          "output_type": "display_data"
        }
      ],
      "source": [
        "s1 = df_stat[df_stat['label'] == 'ham']['text'].str.len()\n",
        "s2 = df_stat[df_stat['label'] == 'spam']['text'].str.len()\n",
        "s3 = df_stat[df_stat['label'] == 'ham']['text_clean'].str.len()\n",
        "s4 = df_stat[df_stat['label'] == 'spam']['text_clean'].str.len()\n",
        "s5 = df_stat[df_stat['label'] == 'ham']['text'].str.split().str.len()\n",
        "s6 = df_stat[df_stat['label'] == 'spam']['text'].str.split().str.len()\n",
        "s7 = df_stat[df_stat['label'] == 'ham']['text_clean'].str.split().str.len()\n",
        "s8 = df_stat[df_stat['label'] == 'spam']['text_clean'].str.split().str.len()\n",
        "\n",
        "sns.set()\n",
        "sns.set_style(\"ticks\")\n",
        "\n",
        "figsize=(20, 15)\n",
        "\n",
        "ticksize = 14\n",
        "titlesize = ticksize + 8\n",
        "labelsize = ticksize + 5\n",
        "\n",
        "xlabel = \"Length\"\n",
        "ylabel = \"Count\"\n",
        "\n",
        "title1 = \"Length Distribution\"\n",
        "title2 = \"Length Distribution (Clean)\"\n",
        "title3 = \"Word Count Distribution\"\n",
        "title4 = \"Word Count Distribution (Clean)\"\n",
        "\n",
        "\n",
        "\n",
        "params = {'figure.figsize' : figsize,\n",
        "          'axes.labelsize' : labelsize,\n",
        "          'axes.titlesize' : titlesize,\n",
        "          'xtick.labelsize': ticksize,\n",
        "          'ytick.labelsize': ticksize}\n",
        "\n",
        "plt.rcParams.update(params)\n",
        "#fig.subplots_adjust(hspace=0.5, wspace=0.5)\n",
        "\n",
        "col1 = \"len\"\n",
        "col2 = \"label\"\n",
        "plt.subplot(221)\n",
        "sns.distplot(s1, label='Ham')\n",
        "sns.distplot(s2, label='Spam')\n",
        "plt.title(title1.title())\n",
        "plt.xlabel(xlabel)\n",
        "plt.ylabel(ylabel)\n",
        "plt.legend()\n",
        "\n",
        "plt.subplot(222)\n",
        "sns.distplot(s3, label='Ham (Clean)')\n",
        "sns.distplot(s4, label='Spam (Clean)')\n",
        "plt.title(title2.title())\n",
        "plt.xlabel(xlabel)\n",
        "plt.ylabel(ylabel)\n",
        "plt.legend()\n",
        "\n",
        "plt.subplot(223)\n",
        "sns.distplot(s5, label='Ham Word')\n",
        "sns.distplot(s6, label='Spam Word')\n",
        "plt.title(title3.title())\n",
        "plt.xlabel(xlabel)\n",
        "plt.ylabel(ylabel)\n",
        "plt.legend()\n",
        "\n",
        "plt.subplot(224)\n",
        "sns.distplot(s7, label='Ham Word')\n",
        "sns.distplot(s8, label='Spam Word')\n",
        "plt.title(title4.title())\n",
        "plt.xlabel(xlabel)\n",
        "plt.ylabel(ylabel)\n",
        "plt.legend()\n",
        "plt.show()"
      ]
    },
    {
      "cell_type": "markdown",
      "metadata": {
        "id": "oGPr3gUY2UiG"
      },
      "source": [
        "# 5 . Preprocessing"
      ]
    },
    {
      "cell_type": "code",
      "execution_count": null,
      "metadata": {
        "id": "ZfSynFYs2UiH"
      },
      "outputs": [],
      "source": [
        "X_train,X_test,y_train,y_test = train_test_split(df[\"text\"],df[\"label\"], test_size = 0.2, random_state = 10)"
      ]
    },
    {
      "cell_type": "code",
      "execution_count": null,
      "metadata": {
        "colab": {
          "base_uri": "https://localhost:8080/"
        },
        "id": "wMNUFKAW2UiI",
        "outputId": "cfff4cd3-5095-4bb8-fafe-e392e7a8938c"
      },
      "outputs": [
        {
          "name": "stdout",
          "output_type": "stream",
          "text": [
            "(4457,)\n",
            "(1115,)\n",
            "(4457,)\n",
            "(1115,)\n"
          ]
        }
      ],
      "source": [
        "print(X_train.shape)\n",
        "print(X_test.shape)\n",
        "print(y_train.shape)\n",
        "print(y_test.shape)"
      ]
    },
    {
      "cell_type": "markdown",
      "metadata": {
        "id": "UwgAKYqa2UiJ"
      },
      "source": [
        "# 6 . Feature Extraction"
      ]
    },
    {
      "cell_type": "code",
      "execution_count": null,
      "metadata": {
        "id": "94MbHUd22UiK"
      },
      "outputs": [],
      "source": [
        "vect = CountVectorizer()\n",
        "X_train_df = vect.fit_transform(X_train)\n",
        "X_test_df = vect.transform(X_test)"
      ]
    },
    {
      "cell_type": "code",
      "execution_count": null,
      "metadata": {
        "colab": {
          "base_uri": "https://localhost:8080/"
        },
        "id": "3pwSOqnP2UiL",
        "outputId": "5f4b1e53-0899-41c6-e31a-bc41b36087b6"
      },
      "outputs": [
        {
          "name": "stdout",
          "output_type": "stream",
          "text": [
            "['00', '000', '000pes', '008704050406', '0089', '0121', '01223585236', '01223585334', '0125698789', '02', '0207', '02072069400', '02073162414', '02085076972', '021', '03', '04', '0430', '05', '050703']\n",
            "['0578', '06', '07', '07046744435', '07090201529', '07090298926', '07099833605', '07123456789', '07734396839', '07742676969', '07753741225', '0776xxxxxxx', '07781482378', '07786200117', '077xxx', '078', '07801543489', '07808247860', '07808726822', '07815296484', '07821230901', '078498', '0796xxxxxx', '07xxxxxxxxx', '08', '0800', '08000407165', '08000776320', '08000839402', '08000930705', '08000938767', '08001950382', '08002888812', '08002986030', '08002986906', '08002988890', '08006344447', '0808', '08081263000', '08081560665', '0825', '083', '0844', '08448350055', '08448714184', '0845', '08450542832', '08452810071', '08452810073', '08452810075over18', '0870', '08700435505150p', '08700469649', '08700621170150p', '08701213186', '08701417012', '08701417012150p', '0870141701216', '087016248', '087018728737', '0870241182716', '08702840625', '08704050406', '08704439680', '0870737910216yrs', '08707509020', '0870753331018', '08707808226', '08708034412', '08708800282', '08709222922', '08709501522', '0871', '087104711148', '08712101358', '08712103738', '0871212025016', '08712300220', '08712317606', '08712400602450p', '08712400603', '08712402050', '08712402578', '08712402779', '08712402972', '08712404000', '08712405020', '08712405022', '08712460324', '08712466669', '0871277810710p', '0871277810810', '0871277810910p', '08714342399', '087147123779am', '08714712379', '08714712388', '08714712394', '08714712412', '08714714011', '08715203028', '08715203652', '08715203656', '08715203677', '08715203685', '08715205273', '08715500022', '08715705022', '08717168528', '08717205546', '0871750', '08717507382', '08717509990', '08717890890å', '08717895698', '08717898035', '08718711108', '08718720201', '08718723815', '08718725756', '08718726270', '087187262701', '08718726971', '08718726978', '087187272008', '08718727868', '08718727870', '08718727870150ppm', '08718730555', '08718730666', '08718738001', '08718738002', '08719180219', '08719180248', '08719181259', '08719181503', '08719839835', '08719899229', '08719899230', '09', '09041940223', '09050000460', '09050000555', '09050000878', '09050000928', '09050001295', '09050001808', '09050002311', '09050003091', '09050005321', '09050090044', '09053750005', '09056242159', '09057039994', '09058091854', '09058091870', '09058094454', '09058094455', '09058094507', '09058094565', '09058094583', '09058094594', '09058094597', '09058094599', '09058095107', '09058097189', '09058098002', '09058099801', '09061104276', '09061104283', '09061209465', '09061213237', '09061221061', '09061221066', '09061701444', '09061701461', '09061701939', '09061702893', '09061743386', '09061743806', '09061743810', '09061743811', '09061744553', '09061749602', '09061790121', '09061790125', '09061790126', '09063440451', '09063442151', '09063458130', '0906346330', '09064011000', '09064012160', '09064015307', '09064017295', '09064017305', '09064018838', '09064019014', '09065069120', '09065171142', '09065174042', '09065394973', '09065989180', '09065989182', '09066350750', '09066358152', '09066361921', '09066362206', '09066362231', '09066364349', '09066364589', '09066368470', '09066380611', '09066382422', '09066612661', '09066649731from', '09071512433', '09071517866', '09077818151', '09090204448', '09090900040', '09094100151', '09094646631', '09094646899', '09095350301', '09096102316', '09099725823', '09099726395', '09099726429', '09099726481', '09099726553', '09111030116', '09111032124', '09701213186', '0a', '0quit', '10', '100', '1000', '1000s', '100p', '100percent', '100txt', '1013', '1030', '10am', '10k', '10p', '10ppm', '10th', '11', '1120', '113', '114', '116', '1172', '11mths', '11pm', '12', '1205', '120p', '121', '1225', '123', '125', '1250', '125gift', '12hrs', '12mths', '13', '1327', '139', '14', '140', '1405', '140ppm', '145', '1450', '146tf150p', '14thmarch', '15', '150', '1500', '150p', '150p16', '150pm', '150ppermesssubscription', '150ppm', '150ppmpobox10183bhamb64xe', '150ppmsg', '150pw', '151', '153', '16', '165', '1680', '169', '177', '18', '180', '1843', '18yrs', '195', '1956669', '1apple', '1b6a5ecef91ff9', '1cup', '1da', '1er', '1hr', '1im', '1lemon', '1mega', '1million', '1st', '1stchoice', '1thing', '1tulsi', '1win150ppmx3', '1winaweek', '1winawk', '1x150p', '1yf', '20', '200', '2000', '2003', '2004', '2005', '2006', '2007', '2025050', '20m12aq', '20p', '21', '21870000', '21st', '22', '220', '23f', '23g', '24', '24hrs', '24m', '24th', '25', '250', '250k', '25p', '26', '26th', '27', '28', '2814032', '28days', '28th', '28thfeb', '29', '2bold', '2c', '2channel', '2day', '2end', '2ez', '2find', '2geva', '2go', '2gthr', '2hrs', '2kbsubject', '2lands', '2marrow', '2moro', '2morow', '2morro', '2morrow', '2morrowxxxx', '2mrw', '2nd', '2nhite', '2nights', '2nite', '2optout', '2p', '2price', '2px', '2rcv', '2stop', '2stoptx', '2stoptxt', '2u', '2u2', '2waxsto', '2wks', '2wt', '2wu', '2years', '2yr', '2yrs', '30', '300', '3000', '300603', '300p', '3030', '30apr', '30ish', '30pm', '30pp', '30s', '30th', '3100', '310303', '31p', '32', '32000', '3230', '326', '33', '330', '350', '3510i', '3650', '36504', '3680', '373', '3750', '37819', '38', '382', '391784', '3aj', '3d', '3days', '3g', '3gbp', '3hrs', '3lions', '3lp', '3miles', '3mins', '3mobile', '3optical', '3pound', '3qxj9', '3rd', '3ss', '3uz', '3wks', '3xå', '40', '400', '400mins', '400thousad', '4041', '40411', '40gb', '40mph', '41685', '41782', '420', '42049', '42478', '42810', '434', '440', '4403ldnw1a7rw18', '44345', '447797706009', '447801259231', '448712404000', '449071512431', '45', '450pw', '45239', '47', '4719', '4742', '47per', '48', '4882', '48922', '49', '49557', '4d', '4eva', '4few', '4get', '4got', '4goten', '4info', '4jx', '4msgs', '4mths', '4qf2', '4t', '4th', '4thnov', '4txt', '4u', '4utxt', '4w', '4wrd', '4xx26', '4years', '50', '500', '5000', '505060', '50award', '50gbp', '50p', '50perweeksub', '50perwksub', '50pm', '50ppm', '50rcvd', '50s', '515', '523', '526', '528', '530', '54', '542', '545', '5digital', '5free', '5ish', '5k', '5min', '5mls', '5p', '5pm', '5th', '5wb', '5we', '5wkg', '5years', '60', '600', '6031', '6089', '60p', '61', '61200', '61610', '62220cncl', '62468', '630', '63miles', '645', '65', '650', '66', '6669', '674', '67441233', '68866', '69101', '69669', '69696', '69855', '69866', '69876', '69888', '69888nyt', '69988', '6days', '6hl', '6hrs', '6ish', '6months', '6ph', '6pm', '6th', '6wu', '700', '71', '7250', '7250i', '730', '74355', '75', '750', '7548', '75max', '762', '7634', '7684', '77', '786', '7876150ppm', '7am', '7cfca1a', '7ish', '7mp', '7oz', '7pm', '7th', '7zs', '800', '8000930705', '80062', '8007', '80082', '80086', '80122300p', '80155', '80160', '80182', '80488', '80608', '8077', '80878', '81010', '81151', '81303', '81618', '82050', '82242', '82277', '82468', '83021', '83049', '83110', '83222', '83332', '83338', '83355', '83370', '83383', '83600', '83738', '84025', '84122', '84128', '84199', '85', '850', '85023', '85069', '85233', '8552', '85555', '86021', '861', '864233', '86688', '86888', '87021', '87066', '87070', '87077', '87121', '87131', '8714714', '872', '87239', '87575', '8800', '88039', '88066', '88088', '88222', '88600', '88800', '88877', '88888', '89034', '89070', '89080', '89105', '89123', '89545', '89555', '89693', '8am', '8ball', '8lb', '8p', '8pm', '8th', '8wp', '900', '910', '9153', '9280114', '930', '9307622', '945', '946', '95', '9755', '9758', '98321561', '99', '9996', '9ae', '9am', '9ja', '9pm', '9t', '9th', '____', 'a21', 'aah', 'aaniye', 'aaooooright', 'aathi', 'ab', 'abbey', 'abdomen', 'abeg', 'abel', 'abi', 'ability', 'abiola', 'abj', 'able', 'abnormally', 'about', 'aboutas', 'above', 'abroad', 'absence', 'absolutely', 'absolutly', 'abstract', 'abt', 'abta', 'aburo', 'abuse', 'abusers', 'ac', 'academic', 'acc', 'accent', 'accenture', 'accept', 'access', 'accessible', 'accident', 'accidentally', 'accommodation', 'accomodate', 'accordin', 'accordingly', 'account', 'accounting', 'accounts', 'accumulation', 'ache', 'acknowledgement', 'acl03530150pm', 'acnt', 'aco', 'across', 'act', 'acted', 'actin', 'acting', 'action', 'activ8', 'activate', 'active', 'activities', 'actor', 'actual', 'actually', 'ad', 'adam', 'add', 'addamsfa', 'added', 'addicted', 'addie', 'adding', 'address', 'adds', 'adi', 'admin', 'administrator', 'admirer', 'admission', 'admit', 'adore', 'adoring', 'adress', 'adrian', 'ads', 'adsense', 'adult', 'adults', 'advance', 'adventure', 'adventuring', 'advice', 'advise', 'advising', 'aeronautics', 'aeroplane', 'afew', 'affair', 'affairs', 'affection', 'affectionate', 'affections', 'afford', 'afghanistan', 'afraid', 'africa', 'african', 'aft', 'after', 'afternoon', 'afternoons', 'aftr', 'ag', 'again', 'against', 'age', 'age16', 'age23', 'agency', 'agent', 'agents', 'ages', 'aging', 'ago', 'agree', 'ah', 'aha', 'ahead', 'ahhhh', 'ahmad', 'ahold', 'aid', 'aids', 'aig', 'aight', 'ain', 'aint', 'air', 'air1', 'airport', 'airtel', 'aiya', 'aiyah', 'aiyar', 'aiyo', 'ajith', 'ak', 'akon', 'al', 'alaipayuthe', 'albi', 'album', 'alcohol', 'aldrine', 'alert', 'alertfrom', 'aletter', 'alex', 'alfie', 'algarve', 'algebra', 'algorithms', 'ali', 'alive', 'all', 'allah', 'allalo', 'allday', 'alle', 'allo', 'allow', 'allowed', 'almost', 'alone', 'along', 'alot', 'already', 'alright', 'alrite', 'also', 'alternative', 'although', 'alto18', 'aluable', 'alwa', 'always', 'alwys', 'am', 'amanda', 'amazing', 'ambitious', 'ambrith', 'american', 'ami', 'amigos', 'amk', 'ammae', 'ammo', 'among', 'amongst', 'amore', 'amount', 'amp', 'amplikater', 'amrca', 'ams', 'amt', 'amused', 'amy', 'an', 'anal', 'analysis', 'and', 'anderson', 'andre', 'andrews', 'angels', 'angry', 'animal', 'animation', 'anjie', 'anjola', 'anna', 'annie', 'anniversary', 'annoncement', 'announcement', 'annoyin', 'annoying', 'anonymous', 'anot', 'another', 'ans', 'ansr', 'answer', 'answered', 'answerin', 'answering', 'answers', 'answr', 'antelope', 'antha', 'anthony', 'anti', 'antibiotic', 'any', 'anybody', 'anymore', 'anyone', 'anyones', 'anythiing', 'anythin', 'anything', 'anythingtomorrow', 'anytime', 'anyway', 'anyways', 'anywhere', 'aom', 'apart', 'apartment', 'apeshit', 'aphexåõs', 'apnt', 'apologetic', 'apologise', 'app', 'apparently', 'appeal', 'appendix', 'applausestore', 'applebees', 'application', 'apply', 'applying', 'appointment', 'appreciate', 'appreciated', 'approaches', 'approaching', 'appropriate', 'approve', 'approved', 'approx', 'apps', 'appt', 'appy', 'april', 'aproach', 'apt', 'aptitude', 'aquarius', 'ar', 'arab', 'arabian', 'arcade', 'archive', 'ard', 'are', 'area', 'aren', 'arent', 'arestaurant', 'aretaking', 'areyouunique', 'argh', 'argue', 'arguing', 'argument', 'arguments', 'aries', 'arithmetic', 'arm', 'armand', 'armenia', 'arms', 'arng', 'around', 'arr', 'arrange', 'arranging', 'arrested', 'arrival', 'arrive', 'arrived', 'arrow', 'arsenal', 'art', 'artists', 'arts', 'arty', 'arul', 'arun', 'as', 'asa', 'asap', 'ashes', 'ashley', 'ashwini', 'asian', 'asjesus', 'ask', 'askd', 'asked', 'askin', 'asking', 'asks', 'aslamalaikkum', 'asleep', 'asp', 'aspects', 'ass', 'assessment', 'asshole', 'assistance', 'associate', 'asssssholeeee', 'assume', 'asthere', 'asthma', 'astne', 'astoundingly', 'astrology', 'astronomer', 'asus', 'asusual', 'at', 'ate', 'athletic', 'atlanta', 'atlast', 'atleast', 'atm', 'atrocious', 'attach', 'attached', 'attack', 'attempt', 'atten', 'attend', 'attended', 'attending', 'attention', 'attitude', 'attraction', 'attractive', 'attracts', 'atural', 'auction', 'audiitions', 'audition', 'audrey', 'audrie', 'august', 'aunt', 'auntie', 'aunties', 'aunts', 'aunty', 'aust', 'auto', 'autocorrect', 'av', 'ava', 'availa', 'available', 'avalarr', 'avatar', 'avble', 'ave', 'avenge', 'avent', 'avenue', 'avin', 'avo', 'avoid', 'avoiding', 'avoids', 'await', 'awaiting', 'awake', 'award', 'awarded', 'away', 'awesome', 'awkward', 'aww', 'awww', 'ax', 'axel', 'ay', 'ayn', 'ayo', 'aå', 'b4', 'b4190604', 'b4280703', 'b4u', 'b4utele', 'ba', 'ba128nnfwfly150ppm', 'baaaaaaaabe', 'baaaaabe', 'babe', 'babes', 'babies', 'baby', 'babygoodbye', 'babyjontet', 'babysit', 'babysitting', 'bac', 'back', 'backwards', 'bad', 'badass', 'badly', 'badrith', 'bag', 'bags', 'bahamas', 'baig', 'bailiff', 'bajarangabali', 'bak', 'bakra', 'bakrid', 'balance', 'ball', 'baller', 'balloon', 'balls', 'bam', 'bambling', 'band', 'bandages', 'bang', 'bani', 'bank', 'banks', 'banned', 'banneduk', 'bao', 'bar', 'barcelona', 'bare', 'barely', 'bari', 'barmed', 'barolla', 'barred', 'barrel', 'barring', 'barry', 'bars', 'base', 'based', 'basic', 'basically', 'basket', 'basketball', 'basq', 'bat', 'batch', 'batchlor', 'bath', 'bathe', 'bathing', 'bathroom', 'batsman', 'batt', 'battery', 'battle', 'bawling', 'bay', 'bb', 'bbc', 'bbd', 'bbdeluxe', 'bbq', 'bc', 'bcaz', 'bck', 'bcm1896wc1n3xx', 'bcm4284', 'bcoz', 'bcum', 'bcums', 'bcz', 'bday', 'be', 'beach', 'beads', 'bear', 'bears', 'beauties', 'beautiful', 'beauty', 'bec', 'because', 'becausethey', 'become', 'becomes', 'becoz', 'becz', 'bed', 'bedrm', 'bedroom', 'beeen', 'beehoon', 'been', 'beendropping', 'beer', 'beerage', 'befor', 'before', 'beforehand', 'beg', 'beggar', 'begging', 'begin', 'begins', 'begun', 'behalf', 'behave', 'behind', 'bein', 'being', 'believe', 'belive', 'bell', 'bellearlier', 'belly', 'belongs', 'belovd', 'beloved', 'ben', 'bend', 'beneath', 'beneficiary', 'benefits', 'bennys', 'best', 'best1', 'bet', 'beth', 'betta', 'better', 'bettersn', 'bettr', 'between', 'beware', 'beyond', 'bf', 'bffs', 'bfore', 'bhaji', 'bhaskar', 'bian', 'biatch', 'bid', 'bids', 'big', 'bigger', 'biggest', 'bike', 'bill', 'billed', 'billing', 'billion', 'bills', 'billy', 'bilo', 'bimbo', 'bin', 'biola', 'bird', 'birds', 'birla', 'biro', 'birth', 'birthdate', 'birthday', 'bishan', 'bit', 'bitch', 'bitching', 'bite', 'bits', 'biz', 'bk', 'black', 'blackberry', 'blacko', 'blah', 'blake', 'blame', 'blank', 'blanked', 'blanket', 'blankets', 'blastin', 'bleak', 'bleh', 'bless', 'blessed', 'blessing', 'blessings', 'blimey', 'block', 'blocked', 'bloke', 'blokes', 'blonde', 'bloo', 'blood', 'bloody', 'bloomberg', 'blowing', 'blown', 'blu', 'blue', 'bluetooth', 'bluetoothhdset', 'bluff', 'blur', 'bluray', 'bmw', 'board', 'boat', 'boatin', 'bob', 'body', 'boggy', 'bognor', 'bold', 'bollox', 'boltblue', 'bomb', 'bone', 'bong', 'bonus', 'boo', 'boobs', 'book', 'booked', 'bookedthe', 'booking', 'bookmark', 'books', 'bookshelf', 'boost', 'booty', 'bootydelious', 'bored', 'borin', 'boring', 'born', 'borrow', 'boss', 'boston', 'bot', 'both', 'bother', 'bothering', 'bottle', 'bottom', 'bought', 'boughtåóbraindanceåóa', 'boundaries', 'bout', 'bowl', 'bowls', 'box', 'box1146', 'box139', 'box177', 'box245c2150pm', 'box326', 'box334', 'box334sk38ch', 'box385', 'box39822', 'box403', 'box420', 'box434sk38wp150ppm18', 'box61', 'box95qu', 'box97n7qp', 'boy', 'boye', 'boyf', 'boyfriend', 'boys', 'boytoy', 'bpo', 'brah', 'brain', 'brainless', 'brains', 'brainy', 'brand', 'brandy', 'bras', 'brats', 'braved', 'bray', 'brb', 'brdget', 'bread', 'breadstick', 'break', 'breaker', 'breakfast', 'breakin', 'breaks', 'breath', 'breathe', 'breathe1', 'breather', 'breathing', 'breeze', 'breezy', 'bribe', 'bridal', 'brief', 'bright', 'brighten', 'brilliant', 'brilliantly', 'brin', 'bring', 'bringing', 'brings', 'brisk', 'brison', 'bristol', 'british', 'britney', 'bro', 'broad', 'broadband', 'broke', 'brolly', 'bros', 'brothas', 'brother', 'brothers', 'brought', 'brownie', 'brownies', 'browse', 'browser', 'browsin', 'bruce', 'brum', 'bruv', 'bslvyl', 'bsn', 'bsnl', 'bstfrnd', 'bt', 'btw', 'btwn', 'bubbletext', 'bucks', 'bud', 'buddy', 'buddys', 'budget', 'buen', 'buff', 'buffet', 'buffy', 'bugis', 'build', 'building', 'built', 'bulbs', 'bull', 'bullshit', 'bunch', 'bundle', 'bunkers', 'buns', 'burden', 'burger', 'burgundy', 'burn', 'burning', 'burns', 'burnt', 'burrito', 'bus', 'bus8', 'buses', 'busetop', 'business', 'busty', 'busy', 'but', 'butt', 'buttheres', 'butting', 'buy', 'buyers', 'buying', 'buzy', 'buzz', 'buzzzz', 'bw', 'bx', 'bx420', 'bx526', 'by', 'byatch', 'bye', 'båõday', 'c52', 'cabin', 'cable', 'cafe', 'cage', 'cake', 'cakes', 'cal', 'calculated', 'calculation', 'cali', 'calicut', 'california', 'call', 'call09050000327', 'call2optout', 'callback', 'callcost', 'calld', 'called', 'caller', 'callers', 'callertune', 'callfreefone', 'callin', 'calling', 'callon', 'calls', 'calls1', 'callså', 'calm', 'cam', 'camcorder', 'came', 'camera', 'camp', 'campus', 'can', 'canada', 'canal', 'canary', 'cancel', 'canceled', 'cancelled', 'cancer', 'canlove', 'cann', 'cannot', 'cant', 'cantdo', 'canteen', 'canåõt', 'capacity', 'capital', 'cappuccino', 'caps', 'captain', 'captaining', 'car', 'card', 'cardiff', 'cardin', 'cards', 'care', 'careabout', 'cared', 'career', 'careers', 'careful', 'carefully', 'cares', 'carlie', 'carlin', 'carlos', 'carly', 'carolina', 'caroline', 'carpark', 'carry', 'carryin', 'cars', 'cartons', 'cartoon', 'case', 'cash', 'cashbin', 'cashto', 'cast', 'casting', 'castor', 'casualty', 'cat', 'catch', 'catches', 'catching', 'categories', 'caught', 'cause', 'causes', 'causing', 'caveboy', 'cbe', 'cc', 'cc100p', 'ccna', 'cd', 'cdgt', 'cds', 'cedar', 'ceiling', 'celeb', 'celebrate', 'celebrated', 'celebration', 'celebrations', 'cell', 'census', 'center', 'centre', 'century', 'cer', 'cereals', 'ceri', 'certainly', 'certificate', 'cha', 'chachi', 'chad', 'chain', 'challenge', 'challenging', 'champ', 'champlaxigating', 'champneys', 'chance', 'chances', 'change', 'changed', 'changes', 'changing', 'channel', 'chaps', 'chapter', 'character', 'characters', 'charge', 'charged', 'charges', 'charity', 'charles', 'charlie', 'charming', 'chart', 'charts', 'chase', 'chasing', 'chat', 'chat80155', 'chatlines', 'chatter', 'chatting', 'cheap', 'cheaper', 'cheat', 'chechi', 'check', 'checkboxes', 'checked', 'checkin', 'checking', 'checkmate', 'cheek', 'cheer', 'cheered', 'cheers', 'cheesy', 'cheetos', 'chef', 'chennai', 'cheque', 'cherish', 'cherthala', 'chess', 'chest', 'chex', 'cheyyamo', 'chez', 'chg', 'chgs', 'chic', 'chick', 'chicken', 'chickened', 'chikku', 'child', 'childish', 'childporn', 'children', 'childrens', 'chile', 'chill', 'chillaxin', 'chillin', 'china', 'chinatown', 'chinese', 'chinky', 'chiong', 'chip', 'chk', 'chloe', 'chocolate', 'choice', 'choices', 'choose', 'choosing', 'chop', 'chords', 'chores', 'chosen', 'christ', 'christians', 'christmas', 'christmassy', 'chuck', 'chuckin', 'church', 'ciao', 'cine', 'cinema', 'citizen', 'city', 'citylink', 'cl', 'claim', 'claims', 'claire', 'clarify', 'clark', 'clas', 'clash', 'class', 'classes', 'classmates', 'claypot', 'cld', 'clean', 'cleaning', 'clear', 'cleared', 'clearer', 'clearing', 'clearly', 'clever', 'click', 'cliff', 'cliffs', 'clock', 'clocks', 'clos1', 'close', 'closed', 'closer', 'closes', 'cloth', 'clothes', 'cloud', 'clover', 'club', 'club4', 'club4mobiles', 'clubmoby', 'clubzed', 'clue', 'cm', 'cm2', 'cme', 'cmon', 'cn', 'cnl', 'cnn', 'co', 'coast', 'coat', 'coaxing', 'coca', 'coccooning', 'cochin', 'cock', 'cocksuckers', 'coco', 'code', 'coffee', 'coherently', 'coimbatore', 'coin', 'coincidence', 'coins', 'cola', 'colany', 'cold', 'collages', 'collapsed', 'colleagues', 'collect', 'collected', 'collecting', 'collection', 'colleg', 'college', 'color', 'colour', 'colourful', 'colours', 'com', 'com1win150ppmx3age16', 'com1win150ppmx3age16subscription', 'comb', 'combination', 'combine', 'come', 'comedy', 'comes', 'comin', 'coming', 'comingdown', 'commercial', 'commit', 'common', 'community', 'como', 'comp', 'companies', 'companion', 'company', 'compare', 'compass', 'compensation', 'competition', 'complacent', 'complain', 'complaint', 'complementary', 'complete', 'completed', 'completely', 'completes', 'completing', 'complexities', 'complimentary', 'compliments', 'comprehensive', 'compromised', 'compulsory', 'computer', 'comuk', 'conacted', 'concentrate', 'concentrating', 'concentration', 'concern', 'concerned', 'concert', 'conclusion', 'condition', 'conditions', 'conducts', 'conected', 'confidence', 'configure', 'confirm', 'confirmd', 'confirmed', 'conform', 'confused', 'confuses', 'congrats', 'congratulations', 'connect', 'connected', 'connection', 'connections', 'cons', 'conserve', 'consider', 'considering', 'consistently', 'console', 'constant', 'constantly', 'contact', 'contacted', 'contacts', 'contains', 'content', 'contention', 'contents', 'continent', 'continue', 'continued', 'contract', 'contribute', 'control', 'convenience', 'conversations', 'converted', 'converter', 'convey', 'conveying', 'convince', 'convinced', 'convincing', 'cook', 'cookies', 'cooking', 'cool', 'cooped', 'copies', 'coping', 'cops', 'copy', 'corect', 'cornwall', 'corporation', 'corrct', 'correct', 'correction', 'correctly', 'corrupt', 'corvettes', 'cos', 'cosign', 'cost', 'costa', 'costing', 'costs', 'costume', 'costumes', 'costå', 'couch', 'cougar', 'cough', 'coughing', 'could', 'coulda', 'couldn', 'count', 'countin', 'countinlots', 'country', 'coupla', 'couple', 'courage', 'courageous', 'course', 'court', 'cousin', 'cover', 'coveragd', 'covers', 'coz', 'cozy', 'cps', 'cr', 'cr01327bt', 'cr9', 'crab', 'crack', 'craigslist', 'crammed', 'cramps', 'crap', 'crash', 'crashing', 'crave', 'craziest', 'crazy', 'crazyin', 'crckt', 'cream', 'created', 'creative', 'credit', 'credited', 'credits', 'creep', 'creepy', 'cres', 'cricketer', 'cried', 'crisis', 'cro1327', 'crore', 'cross', 'crossing', 'crowd', 'croydon', 'crucial', 'crucify', 'cruel', 'cruise', 'cruisin', 'crushes', 'cry', 'cs', 'csbcm4235wc1n3xx', 'csc', 'csh11', 'cst', 'cthen', 'ctla', 'cts', 'ctxt', 'cuck', 'cud', 'cuddle', 'cuddling', 'cudnt', 'culdnt', 'cultures', 'cum', 'cumin', 'cumming', 'cup', 'cupboard', 'cuppa', 'curfew', 'curious', 'current', 'currently', 'curry', 'curtsey', 'cusoon', 'cust', 'custcare', 'custom', 'customer', 'customercare', 'customers', 'customersqueries', 'cut', 'cute', 'cutefrnd', 'cutest', 'cutie', 'cutting', 'cuz', 'cw25wx', 'cya', 'cyclists', 'cysts', 'd3wv', 'da', 'daaaaa', 'dabbles', 'dabooks', 'dad', 'daddy', 'dads', 'daily', 'dammit', 'damn', 'dan', 'dancce', 'dance', 'dancin', 'dancing', 'dane', 'dang', 'dangerous', 'dao', 'dare', 'dark', 'darker', 'darkest', 'darkness', 'darlin', 'darling', 'darlings', 'darren', 'dartboard', 'das', 'dasara', 'dat', 'data', 'date', 'datebox1282essexcm61xn', 'dates', 'dating', 'dats', 'dave', 'dawns', 'day', 'days', 'daytime', 'daywith', 'db', 'dbuk', 'dd', 'de', 'dead', 'deal', 'dealer', 'dealing', 'deals', 'dear', 'dear1', 'dearer', 'dearly', 'death', 'debating', 'dec', 'decades', 'december', 'decent', 'decide', 'decided', 'deciding', 'decimal', 'decision', 'decisions', 'decking', 'declare', 'decorating', 'dedicate', 'dedicated', 'deduct', 'deep', 'deepak', 'deepest', 'deer', 'deeraj', 'def', 'defeat', 'defer', 'deficient', 'definite', 'definitely', 'definitly', 'defo', 'degree', 'dehydrated', 'dehydration', 'del', 'delay', 'delayed', 'delete', 'deleted', 'delhi', 'delicious', 'deliver', 'delivered', 'deliveredtomorrow', 'delivery', 'deluxe', 'dem', 'demand', 'den', 'dena', 'dent', 'dental', 'dentists', 'deny', 'denying', 'department', 'dependable', 'dependents', 'depends', 'deposit', 'deposited', 'depressed', 'depression', 'dept', 'der', 'derek', 'derp', 'describe', 'description', 'desert', 'deserve', 'designation', 'desires', 'desk', 'desparate', 'despite', 'dessert', 'destiny', 'detail', 'detailed', 'details', 'determine', 'determined', 'detroit', 'develop', 'developed', 'developer', 'devouring', 'dey', 'dha', 'dhanush', 'dhina', 'dhorte', 'di', 'dial', 'dialogue', 'diamond', 'diamonds', 'diapers', 'dice', 'dick', 'dict', 'dictionary', 'did', 'diddy', 'didn', 'didnt', 'didntgive', 'didnåõt', 'die', 'died', 'diet', 'dieting', 'diff', 'differ', 'difference', 'differences', 'different', 'difficult', 'difficulties', 'dificult', 'digi', 'digital', 'digits', 'dignity', 'dileep', 'dime', 'dimension', 'din', 'dine', 'dined', 'dinero', 'ding', 'dining', 'dinner', 'dino', 'dint', 'dip', 'dippeditinadew', 'direct', 'directly', 'director', 'directors', 'dirt', 'dirtiest', 'dirty', 'dis', 'disappointment', 'disaster', 'disc', 'disclose', 'disconnect', 'disconnected', 'discount', 'discreet', 'discuss', 'discussed', 'diseases', 'disk', 'dislikes', 'dismissial', 'display', 'distance', 'disturb', 'disturbance', 'disturbing', 'ditto', 'division', 'divorce', 'diwali', 'dizzamn', 'dizzee', 'dlf', 'dload', 'dnot', 'dnt', 'do', 'dob', 'dobby', 'doc', 'dock', 'docks', 'docs', 'doctor', 'doctors', 'dodda', 'dodgey', 'does', 'doesdiscount', 'doesn', 'doesnt', 'doesnåõt', 'dog', 'dogg', 'doggin', 'dogging', 'doggy', 'dogs', 'dogwood', 'doin', 'doinat', 'doing', 'doit', 'doke', 'dokey', 'doll', 'dollar', 'dollars', 'dolls', 'dom', 'domain', 'don', 'donate', 'done', 'donno', 'dont', 'dontcha', 'dontmatter', 'donåõt', 'dooms', 'door', 'doors', 'dorm', 'dormitory', 'dorothy', 'dose', 'dosomething', 'dot', 'double', 'doublemins', 'doubles', 'doubletxt', 'doubt', 'dough', 'down', 'download', 'downloaded', 'downloads', 'downon', 'downs', 'downstem', 'dozens', 'dr', 'dracula', 'drama', 'dramatic', 'drastic', 'draw', 'draws', 'dreading', 'dream', 'dreams', 'dreamz', 'dress', 'dressed', 'dresser', 'drink', 'drinkin', 'drinking', 'drinks', 'drivby', 'drive', 'driver', 'drivin', 'driving', 'drizzling', 'drms', 'drop', 'dropped', 'drops', 'drove', 'drpd', 'drug', 'drugdealer', 'drugs', 'drum', 'drunk', 'drunkard', 'drunken', 'drvgsto', 'dry', 'dryer', 'dsn', 'dt', 'dubsack', 'duchess', 'dude', 'dudes', 'dudette', 'due', 'dull', 'dumb', 'dump', 'dun', 'dungerees', 'dunno', 'duo', 'durham', 'during', 'dusk', 'dvd', 'dvg', 'dwn', 'dying', 'dysentry', 'each', 'eachother', 'ear', 'earlier', 'earliest', 'early', 'earn', 'earning', 'ears', 'earth', 'easier', 'easiest', 'easily', 'east', 'eastenders', 'easter', 'easy', 'eat', 'eaten', 'eatin', 'eating', 'ebay', 'ec2a', 'ecstacy', 'edge', 'edhae', 'edison', 'edition', 'edrunk', 'edu', 'education', 'educational', 'edukkukayee', 'edwards', 'ee', 'eek', 'eerie', 'effect', 'effects', 'efreefone', 'eg', 'egg', 'eggs', 'ego', 'eh', 'eh74rr', 'eight', 'eighth', 'eightish', 'eire', 'either', 'ela', 'elaborate', 'elaborating', 'elaine', 'elama', 'elaya', 'eldest', 'election', 'electricity', 'elephant', 'eleven', 'elliot', 'ello', 'else', 'elsewhere', 'elvis', 'em', 'email', 'emailed', 'embarassed', 'embarrassed', 'embassy', 'emc1', 'emergency', 'emerging', 'emigrated', 'emotion', 'employee', 'empty', 'en', 'enc', 'end', 'ended', 'ending', 'endless', 'endowed', 'ends', 'enemies', 'enemy', 'energy', 'eng', 'engaged', 'engagement', 'engalnd', 'engin', 'england', 'english', 'enjoy', 'enjoyed', 'enjoyin', 'enjoying', 'enna', 'ennal', 'enough', 'ente', 'enter', 'entered', 'enters', 'entertaining', 'entey', 'entire', 'entirely', 'entitled', 'entropication', 'entry', 'entry41', 'enufcredeit', 'enuff', 'envelope', 'environment', 'envy', 'epi', 'eppolum', 'epsilon', 'equally', 'er', 'ere', 'ericson', 'ericsson', 'erm', 'erode', 'erotic', 'err', 'error', 'errors', 'ertini', 'erutupalam', 'esaplanade', 'escalator', 'escape', 'ese', 'eshxxxxxxxxxxx', 'espe', 'especially', 'esplanade', 'essay', 'essential', 'establish', 'eta', 'etc', 'ethnicity', 'etlp', 'ettans', 'euro', 'euro2004', 'eurodisinc', 'europe', 'evaluation', 'eve', 'eveb', 'even', 'evening', 'evenings', 'event', 'events', 'ever', 'every', 'every1', 'everybody', 'everyday', 'everyone', 'everyones', 'everyso', 'everythin', 'everything', 'everytime', 'everywhere', 'eviction', 'evn', 'evng', 'evo', 'evone', 'evr', 'evrey', 'evry', 'evry1', 'evrydy', 'ew', 'ex', 'exact', 'exactly', 'exam', 'exams', 'excellent', 'except', 'exchanged', 'excited', 'exciting', 'excuse', 'excused', 'excuses', 'exe', 'executive', 'exercise', 'exeter', 'exhaust', 'exhausted', 'exhibition', 'exist', 'exmpel', 'exorcist', 'exp', 'expect', 'expected', 'expecting', 'expects', 'expensive', 'experience', 'experiencehttp', 'experiment', 'expert', 'expired', 'expires', 'explain', 'explicit', 'explicitly', 'explosive', 'exposed', 'exposes', 'express', 'expression', 'expressoffer', 'ext', 'exterminator', 'extra', 'extract', 'extreme', 'ey', 'eye', 'eyed', 'eyes', 'eå', 'f4q', 'fa', 'fab', 'faber', 'face', 'facebook', 'facilities', 'fact', 'faded', 'faggy', 'faglord', 'failed', 'failing', 'fails', 'failure', 'fainting', 'fair', 'faith', 'fake', 'fal', 'fall', 'fallen', 'falling', 'falls', 'fals', 'familiar', 'family', 'famous', 'fan', 'fancies', 'fancy', 'fans', 'fantasies', 'fantastic', 'fantasy', 'far', 'farm', 'fassyole', 'fast', 'faster', 'fastest', 'fat', 'fated', 'father', 'fathima', 'fatty', 'fault', 'fav', 'fave', 'favor', 'favorite', 'favour', 'favourite', 'fb', 'fear', 'features', 'feb', 'february', 'fed', 'fedex', 'feed', 'feel', 'feelin', 'feeling', 'feellikw', 'feels', 'fees', 'feet', 'fell', 'fellow', 'felt', 'female', 'feng', 'festival', 'fetch', 'fetching', 'fever', 'few', 'ffectionate', 'fffff', 'ffffffffff', 'ffffuuuuuuu', 'fgkslpo', 'fgkslpopw', 'fidalfication', 'field', 'fieldof', 'fiend', 'fifa', 'fifteen', 'fifty', 'fight', 'fighting', 'fightng', 'fights', 'figure', 'figuring', 'file', 'files', 'fill', 'filled', 'filling', 'fills', 'film', 'films', 'filthy', 'filthyguys', 'final', 'finalise', 'finally', 'finance', 'financial', 'find', 'finding', 'finds', 'fine', 'finest', 'fingers', 'finish', 'finishd', 'finished', 'finishes', 'finishing', 'fink', 'finn', 'fire', 'fired', 'firefox', 'fires', 'firsg', 'first', 'fish', 'fishhead', 'fit', 'fiting', 'five', 'fix', 'fixd', 'fixed', 'fixedline', 'fixes', 'fizz', 'flag', 'flaked', 'flaky', 'flame', 'flash', 'flat', 'flatter', 'flavour', 'flea', 'fletcher', 'flew', 'flight', 'flights', 'flim', 'flip', 'flippin', 'flirt', 'flirting', 'flirtparty', 'floating', 'flood', 'floor', 'floppy', 'florida', 'flow', 'flower', 'flowers', 'flowing', 'fluids', 'flung', 'flurries', 'flute', 'fly', 'flying', 'flyng', 'fm', 'fml', 'fne', 'fo', 'foley', 'folks', 'follow', 'followed', 'followin', 'following', 'follows', 'fond', 'fondly', 'fone', 'foned', 'fones', 'food', 'fool', 'fools', 'foot', 'football', 'footbl', 'footprints', 'footy', 'for', 'force', 'forced', 'foregate', 'forever', 'forevr', 'forfeit', 'forget', 'forgets', 'forgiven', 'forgiveness', 'forgot', 'forgotten', 'forgt', 'form', 'formal', 'formally', 'format', 'formatting', 'forms', 'fortune', 'forum', 'forums', 'forward', 'forwarded', 'forå', 'found', 'four', 'fourth', 'fowler', 'fox', 'fr', 'fran', 'frank', 'frankie', 'franxx', 'franyxxxxx', 'frauds', 'freak', 'freaking', 'freaky', 'fredericksburg', 'free', 'free2day', 'freedom', 'freeentry', 'freefone', 'freek', 'freely', 'freemsg', 'freephone', 'freezing', 'fren', 'frens', 'frequently', 'fresh', 'freshers', 'fret', 'fri', 'friday', 'fridays', 'fridge', 'fried', 'friend', 'friends', 'friendsare', 'friendship', 'friendships', 'fring', 'fringe', 'frm', 'frnd', 'frnds', 'frndship', 'frndshp', 'frndsship', 'fro', 'frog', 'from', 'fromm', 'front', 'frosty', 'frwd', 'frying', 'ft', 'fuck', 'fuckin', 'fucking', 'fuckinnice', 'fudge', 'fuelled', 'fujitsu', 'ful', 'fulfil', 'full', 'fullonsms', 'fumbling', 'fun', 'function', 'functions', 'fund', 'fundamentals', 'funeral', 'funk', 'funky', 'funny', 'funs', 'furniture', 'further', 'fusion', 'future', 'fuuuuck', 'fwiw', 'fyi', 'g2', 'g696ga', 'ga', 'gail', 'gailxx', 'gain', 'gal', 'galileo', 'gals', 'game', 'games', 'gamestar', 'ganesh', 'gang', 'gap', 'gaps', 'garage', 'garbage', 'garden', 'gardener', 'gari', 'gary', 'gas', 'gastroenteritis', 'gate', 'gauge', 'gautham', 'gauti', 'gave', 'gay', 'gayle', 'gays', 'gaytextbuddy', 'gaze', 'gbp', 'gbp4', 'gbp5', 'gd', 'ge', 'gee', 'geeee', 'gek1510', 'gender', 'general', 'generally', 'genes', 'genius', 'gent', 'gentle', 'gentleman', 'gently', 'genuine', 'genus', 'geoenvironmental', 'george', 'gep', 'ger', 'germany', 'get', 'get4an18th', 'getiing', 'geting', 'gets', 'getsleep', 'getstop', 'gettin', 'getting', 'getzed', 'gf', 'ghost', 'gibbs', 'gibe', 'gift', 'gifted', 'gifts', 'giggle', 'gigolo', 'gimme', 'gimmi', 'gin', 'girl', 'girlfrnd', 'girlie', 'girls', 'gist', 'giv', 'give', 'given', 'gives', 'giving', 'glad', 'glands', 'glasgow', 'glass', 'global', 'glorious', 'glory', 'gloucesterroad', 'gm', 'gmw', 'gn', 'gnun', 'go', 'go2', 'go2sri', 'goal', 'goals', 'gobi', 'god', 'gods', 'goes', 'goggles', 'goigng', 'goin', 'going', 'gokila', 'gold', 'golddigger', 'golden', 'goldviking', 'golf', 'gon', 'gona', 'gone', 'gong', 'gonna', 'gonnamissu', 'good', 'goodevening', 'goodfriend', 'goodies', 'goodmate', 'goodmorning', 'goodnight', 'goodnite', 'goodnoon', 'goodo', 'goods', 'goodtime', 'google', 'gopalettan', 'gorgeous', 'gosh', 'goss', 'gossip', 'got', 'gota', 'gotany', 'gotbabes', 'gotmarried', 'goto', 'gotta', 'gotten', 'goverment', 'govt', 'gower', 'gprs', 'gpu', 'gr8', 'gr8fun', 'gr8prizes', 'grab', 'grace', 'graduated', 'grahmbell', 'gram', 'grams', 'gran', 'grand', 'grandfather', 'grandma', 'granite', 'granted', 'graphics', 'grasp', 'grateful', 'grave', 'gravel', 'gravity', 'gravy', 'grazed', 'gre', 'great', 'greatest', 'greatly', 'greatness', 'greece', 'green', 'greet', 'greeting', 'greetings', 'grief', 'grinder', 'grins', 'grinule', 'grocers', 'grooved', 'groovy', 'groovying', 'ground', 'group', 'grow', 'growing', 'grown', 'grownup', 'grumpy', 'gsoh', 'gt', 'gua', 'guai', 'guaranteed', 'gucci', 'gud', 'gudni8', 'gudnite', 'gudnyt', 'guess', 'guesses', 'guessin', 'guessing', 'guidance', 'guide', 'guides', 'guild', 'guilty', 'guoyang', 'gurl', 'gut', 'guy', 'guys', 'gv', 'gving', 'gym', 'gymnastics', 'gynae', 'ha', 'habit', 'had', 'hadn', 'haf', 'haha', 'hahaha', 'hai', 'hail', 'hair', 'haircut', 'hairdressers', 'haiyoh', 'haiz', 'half', 'half8th', 'hall', 'halla', 'hallaq', 'halloween', 'ham', 'hamper', 'hamster', 'hand', 'handed', 'handing', 'handle', 'hands', 'handset', 'handsome', 'handsomes', 'hang', 'hanger', 'hangin', 'hanging', 'hanks', 'hannaford', 'hanuman', 'hanumanji', 'happen', 'happend', 'happened', 'happenin', 'happening', 'happens', 'happier', 'happiest', 'happily', 'happiness', 'happy', 'hard', 'hardcore', 'harder', 'hardest', 'hardly', 'harish', 'harri', 'harry', 'has', 'hasbro', 'hasn', 'hasnt', 'hate', 'hates', 'haul', 'haunt', 'hav', 'have', 'haven', 'havent', 'haventcn', 'havenåõt', 'havin', 'having', 'havn', 'havnt', 'hcl', 'he', 'head', 'headache', 'headin', 'heading', 'heads', 'heal', 'healer', 'heap', 'hear', 'heard', 'hearin', 'hearing', 'heart', 'hearted', 'hearts', 'heaven', 'heavy', 'hectic', 'hee', 'height', 'held', 'helen', 'helens', 'hell', 'hella', 'hello', 'helloooo', 'help', 'help08700621170150p', 'help08718728876', 'helpful', 'helping', 'helps', 'heltini', 'hen', 'hence', 'her', 'here', 'hero', 'heroes', 'heron', 'herself', 'hesitant', 'hesitate', 'hesitation', 'hex', 'hey', 'hf8', 'hg', 'hhahhaahahah', 'hi', 'hidden', 'hide', 'hides', 'hiding', 'high', 'highest', 'hilarious', 'hill', 'hills', 'hillsborough', 'him', 'himso', 'hint', 'hip', 'hiphop', 'hire', 'his', 'history', 'hit', 'hitler', 'hitman', 'hitter', 'hiya', 'hl', 'hlday', 'hlp', 'hm', 'hme', 'hmm', 'hmmm', 'hmmmm', 'hmmross', 'hmph', 'hmv', 'hmv1', 'ho', 'hol', 'holby', 'hold', 'holder', 'holding', 'hole', 'holiday', 'holla', 'hollalater', 'hols', 'holy', 'home', 'homeowners', 'hon', 'honest', 'honestly', 'honesty', 'honey', 'honeybee', 'honeymoon', 'honi', 'hont', 'hooch', 'hoody', 'hook', 'hooked', 'hoops', 'hop', 'hope', 'hoped', 'hopeful', 'hopefully', 'hopeing', 'hopes', 'hoping', 'hor', 'horny', 'horo', 'horrible', 'hos', 'hospital', 'hospitals', 'host', 'hostel', 'hostile', 'hot', 'hotel', 'hotels', 'hotmail', 'hotmix', 'hour', 'hourish', 'hours', 'house', 'houseful', 'housewives', 'housework', 'housing', 'how', 'howard', 'howda', 'howdy', 'however', 'hows', 'howz', 'hp', 'hp20', 'hppnss', 'hr', 'hrishi', 'hrs', 'hsbc', 'html', 'http', 'hu', 'huai', 'hubby', 'hudgi', 'hug', 'huge', 'hugging', 'hugh', 'hugs', 'huh', 'hui', 'hum', 'humanities', 'humans', 'hun', 'hundred', 'hundreds', 'hungry', 'hunks', 'hunny', 'hunt', 'hunting', 'hurried', 'hurry', 'hurt', 'hurting', 'hurts', 'husband', 'hut', 'hv', 'hv9d', 'hvae', 'hw', 'hyde', 'hype', 'hypotheticalhuagauahahuagahyuhagga', 'iam', 'ias', 'ibh', 'ibhltd', 'ibiza', 'ibm', 'ibn', 'ibored', 'ic', 'iccha', 'ice', 'icic', 'icicibank', 'icky', 'id', 'idc', 'idea', 'ideal', 'ideas', 'identification', 'identifier', 'idew', 'idiot', 'idk', 'idps', 'idu', 'if', 'iff', 'ifink', 'ig11', 'ignorant', 'ignore', 'ignoring', 'ihave', 'ijust', 'ikea', 'ikno', 'iknow', 'il', 'ileave', 'ill', 'illness', 'ilol', 'im', 'image', 'images', 'imagination', 'imagine', 'imat', 'imf', 'imin', 'imma', 'immed', 'immediately', 'impede', 'implications', 'important', 'importantly', 'imposed', 'impossible', 'imposter', 'impressed', 'impression', 'impressively', 'improve', 'improved', 'in', 'in2', 'inc', 'inch', 'inches', 'incident', 'inclu', 'include', 'includes', 'including', 'inclusive', 'incomm', 'inconsiderate', 'inconvenient', 'increase', 'increments', 'inde', 'indeed', 'independence', 'independently', 'index', 'india', 'indian', 'indians', 'indicate', 'individual', 'indyarocks', 'infact', 'infections', 'infernal', 'influx', 'info', 'inform', 'information', 'informed', 'infra', 'infront', 'ing', 'ingredients', 'initiate', 'ink', 'inlude', 'inmind', 'inner', 'innings', 'innocent', 'innu', 'inpersonation', 'inr', 'insha', 'inside', 'inspection', 'inst', 'install', 'installation', 'installing', 'instant', 'instantly', 'instead', 'instituitions', 'instructions', 'insurance', 'intelligent', 'intend', 'intention', 'intentions', 'interest', 'interested', 'interesting', 'interflora', 'interfued', 'internal', 'internet', 'interview', 'interviw', 'intha', 'into', 'intrepid', 'intro', 'invaders', 'invention', 'invest', 'investigate', 'invitation', 'invite', 'invited', 'inviting', 'invnted', 'involve', 'involved', 'iouri', 'ip4', 'ipad', 'ipaditan', 'ipads', 'iphone', 'ipod', 'iq', 'iraq', 'irene', 'iron', 'ironing', 'irritated', 'irritates', 'irritating', 'irulinae', 'is', 'iscoming', 'ish', 'ishtamayoo', 'island', 'islands', 'isn', 'isnt', 'isnåõt', 'issue', 'issues', 'it', 'italian', 'itcould', 'items', 'iter', 'itna', 'itried2tell', 'its', 'itself', 'itwhichturnedinto', 'itxt', 'itz', 'itåõs', 'ivatte', 'ive', 'iwana', 'iwas', 'iyo', 'iz', 'izzit', 'iåõd', 'iåõllspeak', 'iåõm', 'iåõve', 'j5q', 'j89', 'jabo', 'jack', 'jacket', 'jackpot', 'jackson', 'jacuzzi', 'jada', 'jade', 'jaklin', 'jam', 'james', 'jamster', 'jamz', 'jan', 'janarige', 'jane', 'janinexx', 'january', 'janx', 'jap', 'japanese', 'jas', 'java', 'jay', 'jaya', 'jazz', 'jb', 'jd', 'jealous', 'jeans', 'jeetey', 'jeevithathile', 'jelly', 'jen', 'jenne', 'jenny', 'jeremiah', 'jeri', 'jerk', 'jerry', 'jess', 'jesus', 'jet', 'jewelry', 'jez', 'ji', 'jia', 'jiayin', 'jide', 'jiu', 'jo', 'joanna', 'job', 'jobs', 'jocks', 'jog', 'jogging', 'john', 'join', 'joined', 'joining', 'joke', 'joker', 'jokes', 'jokin', 'joking', 'jolly', 'jolt', 'jon', 'jones', 'jontin', 'jordan', 'jorge', 'jos', 'jot', 'journey', 'joy', 'joys', 'jp', 'jsco', 'jst', 'jstfrnd', 'jsut', 'juan', 'judgemental', 'juicy', 'jul', 'jules', 'juliana', 'julianaland', 'july', 'jump', 'june', 'jungle', 'junna', 'jurong', 'jus', 'just', 'justbeen', 'justfound', 'justify', 'juswoke', 'juz', 'k52', 'k718', 'kaaj', 'kadeem', 'kaiez', 'kaila', 'kalaachutaarama', 'kalainar', 'kalisidare', 'kallis', 'kalstiya', 'kama', 'kanagu', 'kane', 'kanji', 'kano', 'kappa', 'karaoke', 'karnan', 'karo', 'kate', 'katexxx', 'kath', 'kavalan', 'kay', 'kaypoh', 'kb', 'ke', 'keen', 'keep', 'keeping', 'keeps', 'keluviri', 'kent', 'kept', 'kerala', 'keralacircle', 'kettoda', 'key', 'keypad', 'keys', 'kfc', 'kg', 'khelate', 'ki', 'kicchu', 'kick', 'kickboxing', 'kickoff', 'kicks', 'kid', 'kidding', 'kids', 'kidz', 'kiefer', 'kill', 'killed', 'killing', 'kills', 'kind', 'kinda', 'kindly', 'king', 'kintu', 'kip', 'kisi', 'kiss', 'kisses', 'kissing', 'kit', 'kittum', 'kitty', 'kl341', 'knackered', 'knee', 'knees', 'knew', 'knickers', 'knock', 'knocking', 'know', 'knowing', 'knows', 'knw', 'ko', 'kochi', 'kolathupalayam', 'konw', 'korche', 'korean', 'korte', 'kotees', 'kothi', 'kr', 'ktv', 'kuch', 'kudi', 'kusruthi', 'kvb', 'kz', 'l8', 'l8er', 'l8r', 'l8rs', 'l8tr', 'la', 'la3', 'la32wu', 'lab', 'labor', 'lac', 'lacs', 'laden', 'ladies', 'lady', 'lag', 'lage', 'laid', 'lakhs', 'lambu', 'lamp', 'land', 'landline', 'landlineonly', 'landlines', 'landmark', 'lands', 'lane', 'langport', 'language', 'lanka', 'lapdancer', 'laptop', 'lar', 'lara', 'large', 'largest', 'lark', 'last', 'lastest', 'lasting', 'late', 'lately', 'later', 'latest', 'latests', 'latr', 'laugh', 'laughed', 'laughing', 'laughs', 'laundry', 'laurie', 'lautech', 'lavender', 'law', 'laxinorficated', 'lay', 'laying', 'lays', 'lazy', 'lccltd', 'ld', 'ldew', 'ldn', 'ldnw15h', 'le', 'lead', 'leadership', 'leading', 'leaf', 'league', 'leanne', 'learn', 'learned', 'least', 'least5times', 'leave', 'leaves', 'leaving', 'lect', 'lecture', 'lecturer', 'left', 'leftovers', 'leg', 'legal', 'legitimat', 'legs', 'leh', 'lei', 'lekdog', 'lemme', 'lengths', 'lennon', 'leo', 'leona', 'leonardo', 'les', 'less', 'lesson', 'lessons', 'let', 'lets', 'letter', 'letters', 'level', 'lf56', 'li', 'liao', 'lib', 'libertines', 'library', 'lick', 'licks', 'lido', 'lie', 'lies', 'life', 'lifeis', 'lifetime', 'lifpartnr', 'lift', 'lifted', 'lifting', 'light', 'lighters', 'lightly', 'lik', 'like', 'liked', 'likely', 'likes', 'likeyour', 'liking', 'lil', 'lily', 'lim', 'limit', 'limited', 'limiting', 'lindsay', 'line', 'linear', 'lined', 'linerental', 'lines', 'lingerie', 'lingo', 'link', 'links', 'linux', 'lion', 'lionm', 'lionp', 'lions', 'lip', 'lips', 'liquor', 'list', 'listed', 'listen', 'listened2the', 'listener', 'listening', 'lit', 'literally', 'litres', 'little', 'live', 'lived', 'liver', 'liverpool', 'lives', 'living', 'lk', 'lkpobox177hp51fl', 'll', 'llc', 'lmao', 'lnly', 'lo', 'load', 'loads', 'loan', 'lobby', 'local', 'location', 'locations', 'locaxx', 'lock', 'locks', 'lodge', 'lodging', 'log', 'logged', 'logging', 'login', 'logo', 'logoff', 'logos', 'loko', 'lol', 'lolnice', 'lololo', 'londn', 'london', 'loneliness', 'lonely', 'long', 'longer', 'lonlines', 'look', 'looked', 'lookin', 'looking', 'looks', 'loooooool', 'looovvve', 'loose', 'loosing', 'lor', 'lord', 'lose', 'loses', 'losing', 'loss', 'lost', 'lot', 'lotr', 'lots', 'lotsly', 'lotta', 'lotto', 'lotz', 'lou', 'loud', 'lounge', 'lousy', 'lov', 'lovable', 'love', 'loved', 'lovejen', 'lovely', 'loveme', 'lover', 'loverboy', 'lovers', 'loves', 'lovin', 'loving', 'lovingly', 'low', 'lower', 'lowes', 'loxahatchee', 'loyal', 'loyalty', 'ls1', 'ls15hb', 'ls278bb', 'lst', 'lt', 'ltd', 'ltdhelpdesk', 'lttrs', 'lubly', 'luck', 'luckily', 'lucky', 'lucozade', 'lucy', 'lucyxx', 'luks', 'lul', 'lunch', 'lunchtime', 'lunsford', 'lush', 'luton', 'luv', 'luvd', 'luvs', 'lux', 'luxury', 'lv', 'lvblefrnd', 'lyf', 'lyfu', 'lying', 'lyk', 'lyricalladie', 'lyrics', 'm100', 'm221bp', 'm227xy', 'm26', 'm263uz', 'm6', 'm60', 'm8', 'm8s', 'm95', 'ma', 'maangalyam', 'maat', 'mac', 'macedonia', 'machan', 'machines', 'macho', 'mack', 'macleran', 'macs', 'mad', 'madam', 'made', 'madodu', 'madoke', 'madurai', 'mag', 'maga', 'magazine', 'maggi', 'magic', 'magical', 'mah', 'mahal', 'mahaveer', 'mahfuuz', 'maid', 'mail', 'mailbox', 'mailed', 'main', 'maintain', 'maintaining', 'major', 'make', 'makes', 'makiing', 'makin', 'making', 'malaria', 'male', 'mall', 'mallika', 'man', 'manage', 'manageable', 'managed', 'management', 'manchester', 'manda', 'mandan', 'mandara', 'mandy', 'maneesha', 'mango', 'maniac', 'manky', 'manual', 'many', 'map', 'mapquest', 'marandratha', 'march', 'maretare', 'margaret', 'marine', 'mark', 'market', 'marketing', 'marking', 'marley', 'marrge', 'marriage', 'married', 'marry', 'marsms', 'maruti', 'marvel', 'mas', 'masked', 'massages', 'massive', 'masteriastering', 'masters', 'mat', 'match', 'matches', 'mate', 'mates', 'math', 'mathe', 'mathews', 'maths', 'matra', 'matric', 'matrix3', 'matter', 'matthew', 'matured', 'maturity', 'max', 'max10mins', 'max6', 'maximize', 'maximum', 'maxå', 'may', 'mayb', 'maybe', 'mb', 'mc', 'mca', 'mcat', 'mcfly', 'mcr', 'me', 'meal', 'meals', 'mean', 'meaning', 'meaningful', 'meaningless', 'means', 'meant', 'meanwhile', 'measure', 'meat', 'meatballs', 'mecause', 'med', 'medical', 'medicine', 'meds', 'mee', 'meet', 'meetin', 'meeting', 'meetins', 'meets', 'meg', 'mega', 'meh', 'mei', 'meive', 'mel', 'melle', 'melnite', 'melt', 'member', 'members', 'membership', 'memorable', 'memories', 'men', 'mens', 'mental', 'mention', 'mentioned', 'mentionned', 'mentor', 'menu', 'meow', 'merely', 'merememberin', 'merry', 'mesages', 'mess', 'message', 'messaged', 'messages', 'messaging', 'messed', 'messenger', 'messy', 'met', 'method', 'mf', 'mfl', 'mgs', 'mi', 'mia', 'michael', 'mid', 'middle', 'midnight', 'mids', 'might', 'miiiiiiissssssssss', 'mila', 'miles', 'milk', 'millers', 'million', 'millions', 'milta', 'min', 'minapn', 'mind', 'minded', 'mine', 'mini', 'minimum', 'minmobsmore', 'minmobsmorelkpobox177hp51fl', 'minmoremobsemspobox45po139wa', 'minnaminunginte', 'minor', 'mins', 'minus', 'minute', 'minutes', 'minuts', 'miracle', 'mirror', 'mis', 'misbehaved', 'miserable', 'misfits', 'mising', 'misplaced', 'miss', 'missed', 'missin', 'missing', 'missionary', 'missions', 'misss', 'missunderstding', 'missy', 'mist', 'mistake', 'mistakes', 'misundrstud', 'mite', 'mitsake', 'mittelschmertz', 'miwa', 'mix', 'mj', 'mjzgroup', 'mk45', 'ml', 'mm', 'mmm', 'mmmm', 'mmmmm', 'mmmmmm', 'mns', 'mnth', 'mnths', 'mo', 'moan', 'mob', 'mobile', 'mobiles', 'mobilesdirect', 'mobilesvary', 'mobileupd8', 'mobno', 'mobs', 'mobsi', 'mobstorequiz10ppm', 'moby', 'mode', 'model', 'modl', 'module', 'modules', 'mofo', 'moji', 'mojibiola', 'mom', 'moment', 'moments', 'moms', 'mon', 'monday', 'mone', 'money', 'monkeespeople', 'monkey', 'monkeyaround', 'monkeys', 'mono', 'monoc', 'monos', 'monster', 'month', 'monthly', 'monthlysubscription', 'months', 'mood', 'moon', 'moral', 'more', 'morefrmmob', 'morn', 'mornin', 'morning', 'mornings', 'morphine', 'moseley', 'most', 'mostly', 'mother', 'motherfucker', 'motivate', 'motivating', 'motor', 'motorola', 'mountain', 'mouse', 'mouth', 'move', 'moved', 'moves', 'movie', 'movies', 'movietrivia', 'moving', 'mp3', 'mr', 'mrng', 'mrt', 'ms', 'msg', 'msg150p', 'msging', 'msgrcvd', 'msgrcvd18', 'msgrcvdhg', 'msgs', 'msn', 'mt', 'mtalk', 'mth', 'mths', 'mtmsg', 'mtmsg18', 'mtmsgrcvd18', 'mtnl', 'mu', 'muah', 'much', 'muchand', 'muchxxlove', 'mudyadhu', 'mufti', 'muhommad', 'muht', 'multimedia', 'multiply', 'multis', 'mum', 'mumbai', 'mumhas', 'mummy', 'mums', 'mundhe', 'munsters', 'murali', 'murder', 'murdered', 'murderer', 'mush', 'mushy', 'music', 'musical', 'musicnews', 'must', 'musta', 'musthu', 'mutations', 'muz', 'mw', 'mwahs', 'my', 'mylife', 'mymoby', 'myparents', 'mys', 'myself', 'myspace', 'mystery', 'n8', 'n9dx', 'na', 'nachos', 'nag', 'nagar', 'nah', 'nahi', 'naked', 'nalla', 'nalli', 'name', 'name1', 'name2', 'named', 'names', 'nammanna', 'namous', 'nan', 'nange', 'nannys', 'nap', 'narcotics', 'nasdaq', 'naseeb', 'nasty', 'nat', 'nat27081980', 'natalie', 'natalie2k9', 'natalja', 'national', 'nationwide', 'nattil', 'natural', 'nature', 'naughty', 'nauseous', 'nav', 'navigate', 'nb', 'nbme', 'nd', 'ndship', 'ne', 'near', 'nearby', 'nearer', 'nearly', 'necesity', 'necessarily', 'necessary', 'necessity', 'neck', 'necklace', 'ned', 'need', 'needa', 'needed', 'needle', 'needs', 'needy', 'neekunna', 'neft', 'negative', 'neglect', 'neglet', 'neighbor', 'neighbors', 'neighbour', 'neither', 'nelson', 'nervous', 'net', 'netcollex', 'netflix', 'nething', 'netun', 'netvision', 'network', 'networking', 'networks', 'neva', 'never', 'nevering', 'nevr', 'new', 'newest', 'newport', 'newquay', 'news', 'newscaster', 'next', 'ni8', 'nic', 'nice', 'nichols', 'nick', 'nickey', 'nicky', 'nig', 'nigeria', 'nigh', 'night', 'nightnight', 'nights', 'nigpun', 'nigro', 'nike', 'nikiyu4', 'nimbomsons', 'nimya', 'ninish', 'nipost', 'nit', 'nite', 'nitro', 'nitz', 'njan', 'nmde', 'no', 'no1', 'nobbing', 'nobody', 'noe', 'noice', 'noisy', 'nok', 'nokia', 'nokia6600', 'nokia6650', 'nokias', 'noline', 'non', 'noncomittal', 'none', 'nonetheless', 'nookii', 'noon', 'nooooooo', 'nope', 'nora', 'norcorp', 'nordstrom', 'norm', 'norm150p', 'normal', 'normally', 'north', 'northampton', 'nos', 'nose', 'not', 'note', 'notebook', 'notes', 'nothin', 'nothing', 'notice', 'notified', 'notixiquating', 'nottingham', 'notxt', 'noun', 'novelty', 'november', 'now', 'now1', 'nowadays', 'nowhere', 'nr31', 'nt', 'nte', 'ntimate', 'ntt', 'ntwk', 'nuclear', 'nudist', 'num', 'number', 'numbers', 'nursery', 'nurses', 'nurungu', 'nus', 'nusstu', 'nuther', 'nver', 'nvm', 'nvq', 'nw', 'nxt', 'ny', 'nyc', 'nydc', 'nyt', 'nz', 'nìâte', 'o2', 'oath', 'obedient', 'obese', 'obey', 'oble', 'oblisingately', 'oblivious', 'obviously', 'occasion', 'occupied', 'occupy', 'occur', 'occurs', 'ocean', 'odalebeku', 'odi', 'of', 'ofcourse', 'off', 'offc', 'offense', 'offer', 'offering', 'offers', 'office', 'officer', 'official', 'officially', 'offline', 'ofsi', 'ofstuff', 'often', 'ofå', 'ogunrinde', 'oh', 'oi', 'oic', 'oil', 'oja', 'ok', 'okay', 'okday', 'okden', 'okey', 'okie', 'okies', 'okors', 'ola', 'olage', 'olave', 'old', 'oli', 'ollu', 'olol', 'olympics', 'omg', 'omw', 'on', 'onam', 'oncall', 'once', 'ondu', 'one', 'ones', 'oni', 'online', 'only', 'onlyfound', 'onto', 'onum', 'onwards', 'onwords', 'ooh', 'oooh', 'oooooh', 'ooooooh', 'oops', 'open', 'opened', 'opener', 'openin', 'opening', 'openings', 'operate', 'operator', 'opinion', 'opinions', 'opponenter', 'opportunity', 'opposed', 'opposite', 'opps', 'opt', 'opted', 'optimistic', 'optin', 'option', 'optout', 'or', 'or2optout', 'or2stoptxt', 'oral', 'orange', 'oranges', 'orc', 'orchard', 'order', 'ordered', 'ore', 'oredi', 'oreo', 'oreos', 'org', 'organise', 'organizer', 'orh', 'orig', 'original', 'ors', 'ortxt', 'oru', 'os', 'oscar', 'oso', 'other', 'others', 'otherwise', 'othrwise', 'otside', 'ou', 'ouch', 'our', 'ourbacks', 'ours', 'out', 'outage', 'outages', 'outdoors', 'outfit', 'outfor', 'outgoing', 'outl8r', 'outrageous', 'outreach', 'outside', 'outsider', 'outstanding', 'outta', 'ovarian', 'oveable', 'over', 'overa', 'overdid', 'overdose', 'overemphasise', 'overheating', 'overtime', 'ovr', 'ovulate', 'ovulation', 'ow', 'owe', 'owed', 'owl', 'own', 'owns', 'owo', 'oxygen', 'oyea', 'oyster', 'oz', 'pa', 'paces', 'pack', 'package', 'packs', 'padhe', 'page', 'pages', 'pai', 'paid', 'pain', 'painful', 'painting', 'pale', 'pan', 'panalam', 'panasonic', 'pandy', 'panic', 'panicks', 'panren', 'pansy', 'panther', 'pants', 'pap', 'papa', 'paper', 'papers', 'paperwork', 'paracetamol', 'parachute', 'parade', 'paragon', 'paragraphs', 'paranoid', 'parantella', 'parchi', 'parco', 'parent', 'parents', 'paris', 'parish', 'park', 'parked', 'parkin', 'parking', 'part', 'participate', 'particularly', 'parties', 'partner', 'parts', 'party', 'paru', 'pases', 'pass', 'passable', 'passed', 'passes', 'passion', 'passionate', 'passport', 'password', 'passwords', 'past', 'pataistha', 'patent', 'patients', 'patrick', 'pattern', 'patty', 'paul', 'pause', 'pavanaputra', 'pax', 'pay', 'payasam', 'payed', 'payee', 'paying', 'payment', 'payments', 'payoh', 'paypal', 'pc', 'pc1323', 'pdate_now', 'peace', 'peaceful', 'peach', 'peak', 'pears', 'pee', 'pehle', 'pei', 'pen', 'pence', 'pendent', 'pending', 'penis', 'penny', 'people', 'peoples', 'per', 'percent', 'percentages', 'perf', 'perfect', 'perform', 'performance', 'performed', 'perfume', 'perhaps', 'peril', 'period', 'permanent', 'permission', 'permissions', 'perpetual', 'persian', 'persolvo', 'person', 'person2die', 'personal', 'personality', 'personally', 'persons', 'perspective', 'pert', 'perumbavoor', 'pesky', 'pest', 'pete', 'petey', 'petrol', 'petticoatdreams', 'pg', 'ph', 'phasing', 'phb1', 'phd', 'phews', 'philosophical', 'philosophy', 'phne', 'phoenix', 'phone', 'phoned', 'phones', 'photo', 'photos', 'photoshop', 'php', 'phrase', 'phyhcmk', 'physics', 'piah', 'pic', 'pick', 'picked', 'picking', 'pickle', 'pics', 'picture', 'pictures', 'pie', 'piece', 'pieces', 'pierre', 'pig', 'piggy', 'pilates', 'pile', 'pillows', 'pimples', 'pin', 'pink', 'pints', 'pisces', 'piss', 'pissed', 'pity', 'pix', 'pixels', 'pizza', 'pl', 'place', 'placed', 'placement', 'places', 'plaid', 'plan', 'plane', 'planet', 'planettalkinstant', 'planned', 'planning', 'plans', 'plate', 'platt', 'play', 'played', 'player', 'players', 'playin', 'playing', 'playng', 'plaza', 'pleasant', 'please', 'pleased', 'pleassssssseeeeee', 'pleasure', 'plenty', 'plm', 'ploughing', 'pls', 'plum', 'plumbers', 'plural', 'plus', 'plz', 'pm', 'po', 'po19', 'pobox', 'pobox1', 'pobox12n146tf15', 'pobox12n146tf150p', 'pobox202', 'pobox334', 'pobox36504w45wq', 'pobox365o4w45wq', 'pobox45w2tg150p', 'pobox75ldns7', 'pobox84', 'poboxox36504w45wq', 'pocay', 'pocked', 'pocketbabe', 'pockets', 'pocy', 'pod', 'poem', 'poet', 'point', 'points', 'poker', 'poking', 'pokkiri', 'pole', 'police', 'politicians', 'polo', 'poly', 'poly3', 'polyc', 'polyh', 'polyph', 'polyphonic', 'polys', 'pongal', 'ponnungale', 'poo', 'pooja', 'pookie', 'pool', 'poop', 'poor', 'poorly', 'poortiyagi', 'pop', 'popcorn', 'popped', 'porn', 'porridge', 'portal', 'portege', 'pose', 'posh', 'posible', 'position', 'positions', 'positive', 'possession', 'possessiveness', 'possibility', 'possible', 'possibly', 'post', 'postal', 'postcard', 'postcode', 'posted', 'posting', 'posts', 'potato', 'potential', 'potter', 'pouch', 'pound', 'pounded', 'pounds', 'poured', 'pours', 'pouts', 'power', 'powerful', 'poyyarikatur', 'ppl', 'pple', 'ppm', 'ppm150', 'ppt150x3', 'prabha', 'pract', 'practical', 'practice', 'practicing', 'practicum', 'practising', 'praises', 'prakasam', 'prakasamanu', 'prakesh', 'praps', 'prasad', 'prasanth', 'praveesh', 'pray', 'prayers', 'praying', 'prayrs', 'pre', 'predict', 'predicte', 'predicting', 'prediction', 'prefer', 'preferably', 'prem', 'premarica', 'premier', 'premium', 'prepaid', 'prepare', 'prepared', 'prepayment', 'preponed', 'prescribed', 'prescripiton', 'prescription', 'presence', 'present', 'presents', 'president', 'presleys', 'presnts', 'press', 'pressies', 'prestige', 'pretend', 'pretsorginta', 'pretsovru', 'pretty', 'prevent', 'previews', 'previous', 'previously', 'prey', 'price', 'prices', 'pride', 'priest', 'prin', 'prince', 'princes', 'princess', 'print', 'printed', 'printer', 'printing', 'prior', 'priscilla', 'privacy', 'private', 'prix', 'priya', 'prize', 'prizeawaiting', 'prizes', 'prizeswith', 'prob', 'probably', 'problem', 'problematic', 'problems', 'problms', 'problum', 'probs', 'probthat', 'process', 'processed', 'prods', 'products', 'prof', 'professional', 'professors', 'profile', 'profiles', 'profit', 'program', 'progress', 'project', 'projects', 'prolly', 'prometazine', 'prominent', 'promise', 'promised', 'promo', 'promoting', 'promotion', 'promptly', 'prompts', 'proof', 'proove', 'properly', 'property', 'propose', 'props', 'propsd', 'pros', 'prospects', 'protect', 'proverb', 'provided', 'provider', 'providing', 'province', 'proze', 'ps', 'ps3', 'pshew', 'psp', 'psychiatrist', 'psychic', 'psychologist', 'pt2', 'ptbo', 'pthis', 'pub', 'public', 'publish', 'pubs', 'pudunga', 'pull', 'pulling', 'pulls', 'punch', 'punish', 'punishment', 'punto', 'pura', 'purchase', 'pure', 'purity', 'purpose', 'purse', 'push', 'pushbutton', 'pushes', 'pussy', 'put', 'puts', 'puttin', 'putting', 'puzzeles', 'puzzles', 'px3748', 'på', 'qatar', 'qbank', 'qet', 'qi', 'qing', 'qjkgighjjgcbl', 'qlynnbv', 'quality', 'quarter', 'que', 'queen', 'queries', 'ques', 'question', 'questioned', 'questions', 'quick', 'quickly', 'quiet', 'quit', 'quite', 'quiteamuzing', 'quitting', 'quiz', 'quizclub', 'quizzes', 'quote', 'quoting', 'racal', 'racing', 'radio', 'raed', 'rael', 'raiden', 'railway', 'rain', 'raining', 'raise', 'raised', 'raj', 'rajas', 'rajini', 'rajitha', 'rajnikant', 'rakhesh', 'raksha', 'rally', 'ralphs', 'ramaduth', 'ran', 'random', 'randomly', 'randy', 'rang', 'range', 'ranjith', 'ranju', 'raping', 'rate', 'rates', 'rather', 'rawring', 'rayan', 'rayman', 'rays', 'rcb', 'rcd', 'rct', 'rcv', 'rcvd', 'rd', 'rdy', 're', 'reach', 'reache', 'reached', 'reaching', 'reaction', 'read', 'readers', 'readiness', 'reading', 'ready', 'real', 'real1', 'realise', 'realised', 'realising', 'reality', 'realize', 'realized', 'really', 'realy', 'rearrange', 'reason', 'reasonable', 'reasons', 'reassuring', 'rebel', 'reboot', 'rebooting', 'rebtel', 'rec', 'recd', 'receipt', 'receipts', 'receive', 'receivea', 'received', 'receiving', 'recent', 'recently', 'reception', 'recession', 'recharge', 'recharged', 'recieve', 'reckon', 'recognise', 'recognises', 'record', 'recorded', 'records', 'recount', 'recovery', 'recpt', 'recreation', 'recycling', 'red', 'redeemed', 'reduce', 'ree', 'ref', 'reference', 'references', 'referin', 'reffering', 'refilled', 'reflection', 'reformat', 'refreshed', 'refund', 'refunded', 'refused', 'reg', 'regalportfolio', 'regard', 'regarding', 'regards', 'register', 'registered', 'registration', 'regret', 'regretted', 'regular', 'related', 'relation', 'relationship', 'relatives', 'relax', 'relaxing', 'released', 'relieved', 'religiously', 'relocate', 'reltnship', 'rem', 'remain', 'remains', 'remb', 'remember', 'remembered', 'rememberi', 'remembr', 'remembrs', 'remind', 'reminded', 'reminder', 'reminding', 'reminds', 'removal', 'remove', 'removed', 'renewal', 'renewed', 'renewing', 'rent', 'rental', 'renting', 'rentl', 'rents', 'repair', 'repairs', 'repeat', 'repeating', 'repent', 'replace', 'replacement', 'replacing', 'replied', 'replies', 'reply', 'replying', 'replys150', 'report', 'reppurcussions', 'representative', 'republic', 'request', 'requests', 'require', 'required', 'requirements', 'requires', 'research', 'resend', 'resent', 'reservations', 'reserved', 'reserves', 'reset', 'residency', 'reslove', 'resolution', 'resolved', 'resort', 'respect', 'respectful', 'responce', 'respond', 'responding', 'response', 'responsibilities', 'responsibility', 'responsible', 'rest', 'restaurant', 'restocked', 'restrict', 'restrictions', 'resubbing', 'result', 'results', 'resume', 'retard', 'retired', 'retrieve', 'return', 'returned', 'returning', 'returns', 'reveal', 'revealed', 'revealing', 'review', 'revision', 'reward', 'rewarding', 'rg21', 'rgds', 'rgent', 'rhode', 'rhythm', 'rice', 'rich', 'riddance', 'ride', 'right', 'rightly', 'rights', 'riley', 'rimac', 'ring', 'ringing', 'rings', 'ringtone', 'ringtones', 'rinu', 'rip', 'ripped', 'risk', 'risks', 'rite', 'river', 'road', 'roads', 'roast', 'rob', 'robs', 'rock', 'rocking', 'rocks', 'rofl', 'roger', 'role', 'roles', 'rolled', 'roller', 'romantic', 'romcapspam', 'ron', 'room', 'roomate', 'roommate', 'roommates', 'rooms', 'ros', 'rose', 'rough', 'round', 'rounder', 'rounds', 'route', 'row', 'rowdy', 'rows', 'royal', 'rp176781', 'rpl', 'rply', 'rr', 'rs', 'rstm', 'rtf', 'rtm', 'ru', 'rub', 'rubber', 'rude', 'rudi', 'rugby', 'ruin', 'ruining', 'rule', 'rules', 'rum', 'rumbling', 'rumour', 'run', 'running', 'runs', 'rupaul', 'rush', 'rushing', 'ruthful', 'rwm', 'ryan', 'ryder', 's3xy', 's89', 'sabarish', 'sac', 'sachin', 'sacked', 'sacrifice', 'sad', 'sae', 'saeed', 'safe', 'safely', 'safety', 'sagamu', 'saibaba', 'said', 'sake', 'salary', 'sale', 'sales', 'salesman', 'salon', 'sam', 'samachara', 'sambar', 'same', 'samus', 'sandiago', 'sane', 'sankatmochan', 'sankranti', 'santa', 'santacalling', 'sar', 'sara', 'sarasota', 'sarcasm', 'sarcastic', 'sariyag', 'sary', 'sashimi', 'sat', 'satanic', 'satisfied', 'satisfy', 'satsgettin', 'saturday', 'saucy', 'savamob', 'save', 'saved', 'savings', 'saw', 'say', 'saying', 'says', 'sayy', 'sc', 'scallies', 'scammers', 'scarcasim', 'scared', 'scary', 'scenery', 'sch', 'schedule', 'school', 'schools', 'science', 'scold', 'scorable', 'score', 'scores', 'scoring', 'scotch', 'scotland', 'scotsman', 'scouse', 'scraped', 'scrappy', 'scratches', 'scream', 'screamed', 'screaming', 'screen', 'screwd', 'scrounge', 'scrumptious', 'sday', 'sdryb8i', 'se', 'sea', 'search', 'searching', 'season', 'seat', 'sec', 'second', 'secondary', 'seconds', 'secret', 'secretary', 'secretly', 'secrets', 'secs', 'section', 'sections', 'secured', 'sed', 'see', 'seeds', 'seeing', 'seekers', 'seeking', 'seem', 'seemed', 'seems', 'seen', 'sef', 'seh', 'sehwag', 'seing', 'select', 'selected', 'selection', 'self', 'selfindependence', 'selfish', 'selflessness', 'sell', 'selling', 'sells', 'sem', 'semester', 'semi', 'sen', 'send', 'sender', 'sending', 'sends', 'senor', 'senrd', 'sense', 'senses', 'sensible', 'sensitive', 'sent', 'sentence', 'senthil', 'sentiment', 'seperated', 'sept', 'serena', 'series', 'serious', 'seriously', 'served', 'service', 'services', 'serving', 'servs', 'set', 'setting', 'settings', 'settle', 'settled', 'settling', 'seven', 'seventeen', 'several', 'sex', 'sexiest', 'sextextuk', 'sexy', 'sexychat', 'sez', 'sf', 'sg', 'sh', 'sha', 'shag', 'shagged', 'shah', 'shakara', 'shake', 'shakespeare', 'shaking', 'shall', 'shame', 'shampain', 'shangela', 'shanghai', 'shanil', 'shant', 'shaping', 'share', 'shared', 'sharing', 'shattered', 'shaved', 'shd', 'she', 'sheet', 'sheets', 'sheffield', 'shelf', 'shell', 'shelves', 'sherawat', 'shes', 'shesil', 'shhhhh', 'shifad', 'shijas', 'shindig', 'shining', 'shiny', 'ship', 'shipped', 'shipping', 'shirt', 'shirts', 'shit', 'shite', 'shitin', 'shitinnit', 'shitload', 'shivratri', 'shld', 'shock', 'shocking', 'shoes', 'shola', 'shoot', 'shop', 'shoppin', 'shopping', 'shoranur', 'shore', 'short', 'shortage', 'shortbreaks', 'shortcode', 'shorter', 'shortly', 'shorts', 'shot', 'should', 'shoulders', 'shouldn', 'shouted', 'shouting', 'shove', 'show', 'showed', 'shower', 'showered', 'showers', 'showing', 'showr', 'showrooms', 'shows', 'shracomorsglsuplt', 'shrek', 'shrink', 'shrub', 'shsex', 'shu', 'shud', 'shuhui', 'shun', 'shut', 'shy', 'si', 'sian', 'sib', 'sic', 'sick', 'sickness', 'side', 'sigh', 'sighs', 'sight', 'sign', 'signal', 'significance', 'significant', 'signin', 'signing', 'siguviri', 'silence', 'silent', 'silently', 'silly', 'silver', 'sim', 'simple', 'simpler', 'simply', 'simpsons', 'simulate', 'since', 'sinco', 'sing', 'singapore', 'singing', 'single', 'singles', 'sink', 'sip', 'sipix', 'sips', 'sir', 'sirji', 'sis', 'sister', 'sisters', 'sit', 'site', 'sitll', 'sittin', 'sitting', 'situation', 'situations', 'siva', 'six', 'size', 'sized', 'sk3', 'sk38xh', 'skateboarding', 'skilgme', 'skillgame', 'skills', 'skinny', 'skins', 'skip', 'skirt', 'sky', 'skye', 'skype', 'skyped', 'skyving', 'slap', 'slave', 'sleep', 'sleepin', 'sleeping', 'sleepingwith', 'sleeps', 'sleepwell', 'sleepy', 'slept', 'slice', 'slices', 'slide', 'sliding', 'slightly', 'slip', 'slippers', 'slippery', 'slo', 'slots', 'slow', 'slower', 'slowing', 'slowly', 'slp', 'slurp', 'smacks', 'small', 'smaller', 'smart', 'smartcall', 'smarter', 'smash', 'smashed', 'smell', 'smeone', 'smile', 'smiles', 'smiley', 'smiling', 'smith', 'smoke', 'smoked', 'smokes', 'smokin', 'smoking', 'smoothly', 'sms', 'smsco', 'smth', 'sn', 'snake', 'snap', 'snappy', 'snatch', 'snd', 'sneham', 'snickering', 'snogs', 'snoring', 'snot', 'snow', 'snowball', 'snowboarding', 'snowman', 'so', 'soc', 'sochte', 'social', 'sofa', 'soft', 'software', 'soil', 'soiree', 'sol', 'soladha', 'solihull', 'solve', 'solved', 'some', 'some1', 'somebody', 'someday', 'someone', 'someonone', 'sometext', 'somethin', 'something', 'sometime', 'sometimes', 'sometme', 'somewhat', 'somewhere', 'somewheresomeone', 'somewhr', 'somone', 'somtimes', 'sonathaya', 'sonetimes', 'song', 'songs', 'sony', 'sonyericsson', 'soo', 'soon', 'sooner', 'soonlots', 'sooo', 'soooo', 'sooooo', 'sophas', 'sore', 'sorrow', 'sorrows', 'sorry', 'sort', 'sorta', 'sorted', 'sorting', 'sorts', 'sory', 'soryda', 'sos', 'soul', 'sound', 'sounds', 'soundtrack', 'soundåõs', 'soup', 'source', 'south', 'southern', 'souveniers', 'soz', 'sozi', 'sp', 'space', 'spacebucks', 'spaces', 'spageddies', 'spain', 'spam', 'spanish', 'spare', 'spares', 'spark', 'sparkling', 'spatula', 'speak', 'speaking', 'special', 'specialisation', 'specialise', 'specially', 'specific', 'specify', 'specs', 'speechless', 'speed', 'speedchat', 'speeding', 'speling', 'spell', 'spelled', 'spelling', 'spend', 'spending', 'spent', 'sphosting', 'spice', 'spider', 'spiffing', 'spile', 'spin', 'spinout', 'spiral', 'spirit', 'spiritual', 'spjanuary', 'spk', 'spl', 'splash', 'splashmobile', 'splat', 'splendid', 'split', 'splleing', 'spoil', 'spoiled', 'spoilt', 'spoke', 'spoken', 'sponsors', 'spontaneously', 'spook', 'spoons', 'sporadically', 'sport', 'sports', 'sportsx', 'spose', 'spot', 'spotty', 'sppok', 'spreadsheet', 'spree', 'springs', 'sq825', 'squatting', 'squeeeeeze', 'squid', 'squishy', 'srsly', 'srt', 'sry', 'st', 'stability', 'stable', 'stadium', 'staff', 'stage', 'stagwood', 'stairs', 'stalk', 'stalking', 'stamped', 'stand', 'standard', 'standing', 'stands', 'star', 'starer', 'staring', 'starring', 'stars', 'starshine', 'start', 'started', 'starting', 'starts', 'starwars3', 'stash', 'stated', 'statement', 'statements', 'station', 'status', 'stay', 'stayed', 'stayin', 'staying', 'stays', 'std', 'stdtxtrate', 'steak', 'steam', 'steed', 'steering', 'step', 'stereo', 'stereophonics', 'sterling', 'sterm', 'steve', 'stewartsize', 'steyn', 'sth', 'stick', 'sticky', 'still', 'stink', 'stitch', 'stock', 'stockport', 'stolen', 'stomach', 'stomps', 'stone', 'stoners', 'stool', 'stop', 'stop2stop', 'stopbcm', 'stopcost', 'stopcs', 'stopped', 'stops', 'stopsms', 'stoptxtstopå', 'store', 'stores', 'stories', 'storming', 'story', 'str', 'straight', 'strain', 'strange', 'stranger', 'stream', 'street', 'stress', 'stressfull', 'stretch', 'strewn', 'strict', 'strike', 'strip', 'stripes', 'strips', 'strokes', 'strong', 'strt', 'struggling', 'sts', 'stu', 'stubborn', 'stuck', 'studdying', 'student', 'studentfinancial', 'students', 'studies', 'studio', 'study', 'studying', 'studyn', 'stuff', 'stuff42moro', 'stuffed', 'stuffing', 'stuffs', 'stunning', 'stupid', 'style', 'styles', 'styling', 'stylish', 'stylist', 'sub', 'subject', 'subletting', 'submitting', 'subpoly', 'subs', 'subs16', 'subscribe6gbp', 'subscribed', 'subscriber', 'subscribers', 'subscription', 'subscriptions', 'subscriptn3gbp', 'subscrition', 'subsequent', 'subtoitles', 'success', 'successful', 'successfully', 'such', 'sucker', 'suckers', 'sucks', 'sudden', 'suddenly', 'sudn', 'sue', 'suffer', 'suffering', 'suffers', 'sufficient', 'sugababes', 'suganya', 'sugar', 'sugardad', 'suggest', 'suggestion', 'suggestions', 'suite', 'suite342', 'suitemates', 'suits', 'sullivan', 'sum', 'sum1', 'suman', 'sumfing', 'summer', 'sumthin', 'sun', 'sun0819', 'sunday', 'sundayish', 'sunny', 'sunoco', 'sunroof', 'sunscreen', 'sunshine', 'suntec', 'sup', 'super', 'superb', 'superior', 'supervisor', 'suply', 'supose', 'suppliers', 'supplies', 'supply', 'support', 'supports', 'suppose', 'supposed', 'supreme', 'suprman', 'sura', 'sure', 'surely', 'surf', 'surfing', 'surgical', 'surly', 'surname', 'surprise', 'surprised', 'surrender', 'surrounded', 'survey', 'surya', 'sutra', 'sux', 'suzy', 'svc', 'sw7', 'sw73ss', 'swan', 'swann', 'swap', 'swashbuckling', 'swatch', 'swayze', 'swear', 'sweater', 'sweatter', 'sweet', 'sweetest', 'sweetheart', 'sweetie', 'sweets', 'swell', 'swimming', 'swimsuit', 'swing', 'swiss', 'switch', 'swollen', 'swoop', 'swt', 'swtheart', 'syd', 'symbol', 'sympathetic', 'symptoms', 'synced', 'syria', 'syrup', 'system', 'systems', 't4get2text', 't91', 'ta', 'table', 'tablet', 'tablets', 'tacos', 'tactful', 'tactless', 'tag', 'tahan', 'tai', 'tait', 'taka', 'take', 'takecare', 'taken', 'takes', 'takin', 'taking', 'talent', 'talk', 'talkbut', 'talked', 'talkin', 'talking', 'talks', 'tallahassee', 'tallent', 'tampa', 'tank', 'tantrum', 'tap', 'tape', 'tariffs', 'tarot', 'tarpon', 'taste', 'tasts', 'tat', 'tata', 'tats', 'tattoos', 'tau', 'taunton', 'taxes', 'taxi', 'taxless', 'taylor', 'tayseer', 'tb', 'tbs', 'tc', 'tcr', 'tcs', 'tddnewsletter', 'tea', 'teach', 'teacher', 'teachers', 'teaches', 'teaching', 'team', 'teams', 'tear', 'tears', 'tease', 'teasing', 'tech', 'technical', 'technologies', 'tee', 'teenager', 'teeth', 'tel', 'telephone', 'telephonic', 'teletext', 'tell', 'telling', 'tells', 'telly', 'telphone', 'telugu', 'temales', 'temp', 'temper', 'temple', 'ten', 'tenants', 'tenerife', 'tensed', 'tension', 'teresa', 'term', 'terms', 'termsapply', 'ternal', 'terrible', 'terrific', 'terror', 'terrorist', 'terry', 'tescos', 'tessy', 'test', 'testing', 'tests', 'tex', 'texas', 'text', 'text82228', 'textand', 'textbook', 'textbuddy', 'textcomp', 'texted', 'textin', 'texting', 'textoperator', 'textpod', 'texts', 'tgxxrz', 'th', 'than', 'thandiyachu', 'thangam', 'thank', 'thanks', 'thanks2', 'thanksgiving', 'thanku', 'thankyou', 'thanx', 'thanx4', 'thasa', 'that', 'that2worzels', 'thatmum', 'thats', 'thatåõs', 'thatåõscool', 'the', 'theacusations', 'theater', 'theatre', 'thedailydraw', 'their', 'thekingshead', 'them', 'themed', 'themob', 'then', 'thenampet', 'theoretically', 'theory', 'theplace', 'there', 'theres', 'these', 'thesedays', 'thesis', 'thesmszone', 'thet', 'thew', 'they', 'theyre', 'thgt', 'thia', 'thin', 'thing', 'things', 'think', 'thinked', 'thinkin', 'thinking', 'thinks', 'thinkthis', 'thirtyeight', 'this', 'thk', 'thkin', 'thm', 'thnk', 'thnq', 'thnx', 'tho', 'those', 'thot', 'thou', 'though', 'thought', 'thoughts', 'thousands', 'thout', 'thread', 'threats', 'three', 'threw', 'thriller', 'throat', 'through', 'throw', 'thrown', 'throws', 'thru', 'ths', 'tht', 'thts', 'thurs', 'thursday', 'thus', 'thx', 'thy', 'tick', 'ticket', 'tickets', 'tiempo', 'tiger', 'tight', 'tightly', 'tigress', 'tihs', 'tiime', 'til', 'till', 'tim', 'time', 'times', 'timin', 'timing', 'timings', 'tip', 'tips', 'tired', 'tiring', 'tirunelvai', 'tirunelvali', 'tirupur', 'tis', 'tissco', 'title', 'titles', 'tiwary', 'tix', 'tiz', 'tke', 'tkls', 'tkts', 'tlk', 'tlp', 'tm', 'tming', 'tmorow', 'tmorrow', 'tmr', 'tmrw', 'tms', 'tmw', 'tnc', 'tncs', 'to', 'toa', 'toaday', 'tobacco', 'tocall', 'toclaim', 'today', 'todays', 'todo', 'tog', 'together', 'tohar', 'toilet', 'tok', 'token', 'toking', 'tol', 'told', 'toledo', 'toll', 'tom', 'tomarrow', 'tomeandsaid', 'tomo', 'tomorro', 'tomorrow', 'tone', 'tones', 'tones2u', 'tones2you', 'tonexs', 'tonight', 'tonights', 'tonite', 'tons', 'too', 'took', 'tool', 'tooo', 'toot', 'tooth', 'toothpaste', 'tootsie', 'top', 'topic', 'toplay', 'topped', 'toppoly', 'tops', 'torch', 'torrents', 'tortilla', 'torture', 'tosend', 'toshiba', 'toss', 'tot', 'total', 'totally', 'totes', 'touch', 'touched', 'tough', 'toughest', 'tour', 'towards', 'town', 'toxic', 'track', 'trackmarque', 'trade', 'traditions', 'train', 'training', 'trainners', 'trains', 'tram', 'tranquility', 'transaction', 'transcribing', 'transfer', 'transfered', 'transferred', 'transfr', 'transfred', 'transport', 'trauma', 'trav', 'travel', 'traveling', 'travelled', 'travelling', 'treadmill', 'treasure', 'treat', 'treated', 'treats', 'trebles', 'tree', 'trek', 'trends', 'trial', 'tried', 'trip', 'trips', 'trishul', 'triumphed', 'trivia', 'trouble', 'troubleshooting', 'trouser', 'truble', 'truck', 'true', 'true18', 'truffles', 'truly', 'truro', 'trust', 'trusting', 'truth', 'try', 'tryin', 'trying', 'ts', 'tsandcs', 'tscs', 'tscs08714740323', 'tscs087147403231winawk', 'tsunami', 'tsunamis', 'tt', 'ttyl', 'tue', 'tues', 'tuesday', 'tuition', 'tul', 'tulip', 'tunde', 'tune', 'tunji', 'turkeys', 'turn', 'turning', 'turns', 'tuth', 'tv', 'twat', 'twelve', 'twenty', 'twice', 'twilight', 'twinks', 'twins', 'twittering', 'two', 'txt', 'txt250', 'txt43', 'txt82228', 'txtauction', 'txtin', 'txting', 'txtno', 'txts', 'txtstar', 'txtstop', 'txttowin', 'txtx', 'tyler', 'type', 'types', 'typical', 'tyrone', 'u4', 'uawake', 'ubandu', 'ubi', 'ud', 'ugadi', 'ugh', 'ugo', 'uh', 'uhhhhrmm', 'uin', 'ujhhhhhhh', 'uk', 'ukp', 'uks', 'ultimate', 'ultimatum', 'um', 'umma', 'ummifying', 'ummma', 'ummmmmaah', 'un', 'unable', 'unbelievable', 'unbreakable', 'uncle', 'uncles', 'uncomfortable', 'unconditionally', 'unconscious', 'unconsciously', 'unconvinced', 'uncountable', 'uncut', 'under', 'understand', 'understanding', 'understood', 'underwear', 'undrstnd', 'undrstndng', 'unemployed', 'uneventful', 'unfolds', 'unfortunately', 'unhappy', 'uni', 'unicef', 'unintentional', 'unintentionally', 'unique', 'units', 'univ', 'university', 'unjalur', 'unkempt', 'unknown', 'unless', 'unlike', 'unlimited', 'unnecessarily', 'unni', 'unrecognized', 'unredeemed', 'unsecured', 'unsold', 'unsub', 'unsubscribe', 'unsubscribed', 'untamed', 'until', 'unusual', 'up', 'up4', 'upcharge', 'upd8', 'updat', 'update', 'update_now', 'upgrade', 'upgrading', 'upgrdcentre', 'upload', 'uploaded', 'upon', 'upping', 'ups', 'upset', 'upstairs', 'upto', 'ur', 'urawinner', 'ure', 'urfeeling', 'urgent', 'urgently', 'urgnt', 'urgoin', 'urination', 'url', 'urmom', 'urn', 'urself', 'us', 'usa', 'usb', 'usc', 'use', 'used', 'useful', 'useless', 'user', 'usf', 'usher', 'using', 'usmle', 'usps', 'usual', 'usually', 'uterus', 'utter', 'uttered', 'uup', 'uv', 'uve', 'uworld', 'va', 'vaazhthukkal', 'vague', 'vale', 'valentine', 'valentines', 'valid', 'valid12hrs', 'valuable', 'value', 'valued', 'values', 'valuing', 'varaya', 'vargu', 'various', 'varma', 'varunnathu', 'vary', 'vasai', 'vatian', 'vava', 'vco', 'vday', 've', 'vegas', 'vegetables', 'vehicle', 'velachery', 'velly', 'velusamy', 'venaam', 'venugopal', 'verified', 'verify', 'version', 'very', 'vettam', 'vewy', 'via', 'vibrant', 'vibrate', 'vibrator', 'vic', 'victors', 'vid', 'video', 'videochat', 'videophones', 'videos', 'videosound', 'videosounds', 'view', 'vijay', 'vijaykanth', 'vikky', 'vilikkam', 'vill', 'village', 'vinobanagar', 'violated', 'violence', 'violet', 'vip', 'vipclub4u', 'virgil', 'virgin', 'virtual', 'visa', 'visionsms', 'visit', 'visiting', 'visitors', 'vital', 'vitamin', 'viva', 'vivek', 'vl', 'voda', 'vodafone', 'vodka', 'voice', 'voicemail', 'voila', 'vomit', 'vomitin', 'vomiting', 'vote', 'voted', 'vouch4me', 'voucher', 'vouchers', 'vry', 'vs', 'vth', 'vu', 'w1', 'w111wx', 'w14rg', 'w1j', 'w1j6hl', 'w1jhl', 'w1t1jy', 'w45wq', 'w8in', 'wa', 'wa14', 'waaaat', 'wad', 'wah', 'wahala', 'wahay', 'waheed', 'waht', 'wait', 'waited', 'waitin', 'waiting', 'wake', 'waking', 'wales', 'waliking', 'walk', 'walkabout', 'walked', 'walking', 'walks', 'wall', 'wallet', 'wallpaper', 'walls', 'walmart', 'walsall', 'wamma', 'wan', 'wan2', 'wana', 'wanna', 'wannatell', 'want', 'want2come', 'wanted', 'wanting', 'wants', 'wap', 'waqt', 'warm', 'warming', 'warner', 'warning', 'warranty', 'warwick', 'was', 'washob', 'wasn', 'wasnt', 'waste', 'wasted', 'wasting', 'wat', 'watch', 'watches', 'watchin', 'watching', 'water', 'watever', 'wating', 'watr', 'wats', 'wave', 'wavering', 'waves', 'way', 'way2sms', 'wc1n3xx', 'we', 'weak', 'weakness', 'weaknesses', 'weapon', 'wear', 'wearing', 'weaseling', 'weather', 'web', 'web2mobile', 'webadres', 'webeburnin', 'webpage', 'website', 'wed', 'weddin', 'wedding', 'weddingfriend', 'wednesday', 'weds', 'wee', 'weed', 'week', 'weekend', 'weekends', 'weekly', 'weeks', 'weigh', 'weighed', 'weight', 'weird', 'weirdo', 'weirdy', 'welcome', 'welcomes', 'well', 'wellda', 'welp', 'wen', 'wenever', 'went', 'wenwecan', 'wer', 'were', 'werebored', 'weren', 'werethe', 'wesleys', 'western', 'westlife', 'westonzoyland', 'westshore', 'wet', 'wetherspoons', 'whassup', 'what', 'whatever', 'whats', 'whatsup', 'wheat', 'wheel', 'wheellock', 'when', 'whenever', 'whenevr', 'where', 'whereare', 'wherever', 'wherevr', 'wherre', 'whether', 'which', 'while', 'whilltake', 'white', 'whn', 'who', 'whole', 'whom', 'whore', 'whos', 'whose', 'whr', 'why', 'wi', 'wicked', 'wicket', 'wicklow', 'wid', 'widelive', 'wif', 'wife', 'wifi', 'wihtuot', 'wil', 'wild', 'wildest', 'wildlife', 'will', 'willing', 'willpower', 'win', 'win150ppmx3age16', 'wind', 'window', 'windows', 'winds', 'windy', 'wine', 'wined', 'wining', 'winner', 'winning', 'wins', 'winterstone', 'wipro', 'wisdom', 'wise', 'wish', 'wishes', 'wishin', 'wishing', 'wishlist', 'wiskey', 'wit', 'with', 'wither', 'within', 'without', 'witin', 'witot', 'witout', 'wiv', 'wizzle', 'wk', 'wkend', 'wkent', 'wkg', 'wkly', 'wknd', 'wks', 'wml', 'wn', 'wnevr', 'wnt', 'wo', 'woah', 'wocay', 'woke', 'woken', 'woman', 'womdarfull', 'women', 'won', 'wondar', 'wondarfull', 'wonder', 'wonderful', 'wondering', 'wonders', 'wont', 'woodland', 'woods', 'woohoo', 'woot', 'woould', 'worc', 'word', 'words', 'work', 'workage', 'workand', 'workin', 'working', 'works', 'world', 'worlds', 'worms', 'worried', 'worries', 'worry', 'worrying', 'worse', 'worst', 'worth', 'worthless', 'wot', 'wotu', 'wotz', 'woul', 'would', 'woulda', 'wouldn', 'wow', 'wrc', 'wrecked', 'wrench', 'wrenching', 'wright', 'write', 'writhing', 'wrk', 'wrkin', 'wrking', 'wrnog', 'wrong', 'wrongly', 'wrote', 'ws', 'wt', 'wtf', 'wth', 'wthout', 'wud', 'wudn', 'wuld', 'wuldnt', 'wun', 'www', 'wylie', 'x2', 'x29', 'x49', 'xafter', 'xam', 'xavier', 'xchat', 'xin', 'xmas', 'xoxo', 'xt', 'xuhui', 'xx', 'xxsp', 'xxuk', 'xxx', 'xxxmobilemovieclub', 'xxxx', 'xxxxx', 'xxxxxxx', 'xy', 'ya', 'yah', 'yahoo', 'yalrigu', 'yalru', 'yam', 'yan', 'yar', 'yarasu', 'yavnt', 'yaxx', 'yaxxx', 'yay', 'yck', 'yeah', 'year', 'years', 'yeesh', 'yeh', 'yelling', 'yellow', 'yen', 'yeovil', 'yep', 'yer', 'yes', 'yest', 'yesterday', 'yet', 'yetty', 'yetunde', 'yhl', 'yi', 'yifeng', 'yijue', 'ym', 'ymca', 'yo', 'yoga', 'yogasana', 'yor', 'yorge', 'you', 'youdoing', 'youi', 'young', 'younger', 'your', 'youre', 'yourjob', 'yours', 'yourself', 'youuuuu', 'youåõre', 'yoville', 'yowifes', 'yoyyooo', 'yr', 'yrs', 'ystrday', 'ything', 'yummmm', 'yummy', 'yun', 'yunny', 'yuo', 'yuou', 'yup', 'yupz', 'zac', 'zaher', 'zealand', 'zebra', 'zed', 'zeros', 'zhong', 'zindgi', 'zoe', 'zogtorius', 'zoom', 'zyada', 'åð', 'åòharry', 'åòit', 'åômorrow', 'åôrents', 'ì_', 'ì¼1', 'ìä', 'ìï', 'ó_', 'û_', 'û_thanks', 'ûªm', 'ûªt', 'ûªve', 'ûï', 'ûïharry', 'ûò', 'ûówell']\n"
          ]
        }
      ],
      "source": [
        "print(vect.get_feature_names()[0:20])\n",
        "print(vect.get_feature_names()[20:])"
      ]
    },
    {
      "cell_type": "code",
      "execution_count": null,
      "metadata": {
        "id": "CumUlH_agdYJ"
      },
      "outputs": [],
      "source": [
        " "
      ]
    },
    {
      "cell_type": "code",
      "execution_count": null,
      "metadata": {
        "id": "NYMRsTaidgt1"
      },
      "outputs": [],
      "source": [
        " "
      ]
    },
    {
      "cell_type": "markdown",
      "metadata": {
        "id": "9uleWfd22UiL"
      },
      "source": [
        "# 7 . Model Trainning"
      ]
    },
    {
      "cell_type": "code",
      "execution_count": null,
      "metadata": {
        "id": "8m4RqeBu2UiN"
      },
      "outputs": [],
      "source": [
        "models = {\n",
        "    \"SVC\": svm.SVC(kernel=\"linear\"),\n",
        "    \"MultinomialNB\": MultinomialNB(),\n",
        "}\n",
        "prediction = dict()\n",
        "score_map = {}\n",
        "\n",
        "for model_name in models:\n",
        "    model = models[model_name]\n",
        "    model.fit(X_train_df,y_train)\n",
        "    prediction[model_name] = model.predict(X_test_df)\n",
        "    score = accuracy_score(y_test, prediction[model_name])\n",
        "    score_map[model_name] = score\n",
        "#     print(\"{}{}{}\".format(model_name, \": \", score))"
      ]
    },
    {
      "cell_type": "code",
      "execution_count": null,
      "metadata": {
        "id": "j4ObnePWgUOA"
      },
      "outputs": [],
      "source": [
        " "
      ]
    },
    {
      "cell_type": "code",
      "execution_count": null,
      "metadata": {
        "id": "hGmMA5mr2UiP"
      },
      "outputs": [],
      "source": [
        "result = pd.DataFrame()\n",
        "result[\"model\"] = score_map.keys()\n",
        "result[\"score\"] = score_map.values()\n",
        "result[\"score\"] = result[\"score\"].apply(lambda x: x*100)"
      ]
    },
    {
      "cell_type": "code",
      "execution_count": null,
      "metadata": {
        "id": "IDfi_fGu2UiP"
      },
      "outputs": [],
      "source": [
        "def plot_model_performace(result):\n",
        "    sns.set_style(\"ticks\")\n",
        "    figsize=(3, 5)\n",
        "\n",
        "    ticksize = 12\n",
        "    titlesize = ticksize + 8\n",
        "    labelsize = ticksize + 5\n",
        "\n",
        "    xlabel = \"Model\"\n",
        "    ylabel = \"Score\"\n",
        "\n",
        "    title = \"Model Performance\"\n",
        "\n",
        "    params = {'figure.figsize' : figsize,\n",
        "              'axes.labelsize' : labelsize,\n",
        "              'axes.titlesize' : titlesize,\n",
        "              'xtick.labelsize': ticksize,\n",
        "              'ytick.labelsize': ticksize}\n",
        "\n",
        "    plt.rcParams.update(params)\n",
        "\n",
        "    col1 = \"model\"\n",
        "    col2 = \"score\"\n",
        "    sns.barplot(x=col1, y=col2, data=result)\n",
        "    plt.title(title.title())\n",
        "    plt.xlabel(xlabel)\n",
        "    plt.ylabel(ylabel)\n",
        "    plt.xticks(rotation=90)\n",
        "    plt.grid()\n",
        "    plt.plot()\n",
        "    plt.show()\n",
        "    print(result)"
      ]
    },
    {
      "cell_type": "code",
      "execution_count": null,
      "metadata": {
        "colab": {
          "base_uri": "https://localhost:8080/",
          "height": 495
        },
        "id": "ms2CvjeD2UiQ",
        "outputId": "5db73202-42cd-4a42-f62f-a755af4a4364"
      },
      "outputs": [
        {
          "data": {
            "image/png": "[encoded data removed]",
            "text/plain": [
              "<Figure size 216x360 with 1 Axes>"
            ]
          },
          "metadata": {},
          "output_type": "display_data"
        },
        {
          "name": "stdout",
          "output_type": "stream",
          "text": [
            "           model      score\n",
            "0            SVC  98.385650\n",
            "1  MultinomialNB  98.834081\n"
          ]
        }
      ],
      "source": [
        "plot_model_performace(result)"
      ]
    },
    {
      "cell_type": "markdown",
      "metadata": {
        "id": "gS6HJIY12UiR"
      },
      "source": [
        "# 8 . Hyper Parameter Search"
      ]
    },
    {
      "cell_type": "code",
      "execution_count": null,
      "metadata": {
        "id": "iKq2w4w82UiR"
      },
      "outputs": [],
      "source": [
        "param_grid = {\n",
        "    \"C\": np.concatenate(\n",
        "        [\n",
        "            np.arange(0.0001, 0.001, 0.0001),\n",
        "            np.arange(0.001, 0.01, 0.001),\n",
        "            np.arange(0.01, 0.1, 0.01),\n",
        "            np.arange(0.1, 1, 0.1),\n",
        "            np.arange(1, 10, 1),\n",
        "            np.arange(10, 100, 5)\n",
        "        ],\n",
        "        axis=None),\n",
        "    \n",
        "    \"kernel\": (\"linear\", \"rbf\", \"poly\", \"sigmoid\"),\n",
        "#     \"kernel\": (\"linear\", \"poly\"),\n",
        "#     \"degree\": list(np.arange(1,25, 1)),\n",
        "#     \"gamma\": np.concatenate(\n",
        "#         [\n",
        "#             np.arange(0.0001, 0.001, 0.0001),\n",
        "#             np.arange(0.001, 0.01, 0.001),\n",
        "#             np.arange(0.01, 0.1, 0.01),\n",
        "#             np.arange(0.1, 1, 0.1),\n",
        "#             np.arange(1, 10, 1),\n",
        "#             np.arange(10, 100, 5)\n",
        "#         ],\n",
        "#         axis=None)\n",
        "}\n",
        "# print(param_grid)\n",
        "# model = svm.SVC(class_weight=\"balanced\")\n",
        "# grid = GridSearchCV(model, param_grid, n_jobs=-1, verbose=1, cv=3)\n",
        "# grid.fit(X_train_df,y_train)\n",
        "# print(\"{}{}\".format(\"Best Estimator: \", grid.best_estimator_))\n",
        "# print(\"{}{}\".format(\"Best Params: \", grid.best_params_))\n",
        "# print(\"{}{}\".format(\"Best Scores: \", grid.best_score_))"
      ]
    },
    {
      "cell_type": "code",
      "execution_count": null,
      "metadata": {
        "colab": {
          "base_uri": "https://localhost:8080/"
        },
        "id": "x_vyWBC22UiS",
        "outputId": "beaecdc5-ec1b-4f8a-ac1e-956303e6e672"
      },
      "outputs": [
        {
          "name": "stdout",
          "output_type": "stream",
          "text": [
            "Fitting 3 folds for each of 63 candidates, totalling 189 fits\n"
          ]
        },
        {
          "data": {
            "text/plain": [
              "GridSearchCV(cv=3, estimator=MultinomialNB(), n_jobs=-1,\n",
              "             param_grid={'alpha': array([1.0e-04, 2.0e-04, 3.0e-04, 4.0e-04, 5.0e-04, 6.0e-04, 7.0e-04,\n",
              "       8.0e-04, 9.0e-04, 1.0e-03, 2.0e-03, 3.0e-03, 4.0e-03, 5.0e-03,\n",
              "       6.0e-03, 7.0e-03, 8.0e-03, 9.0e-03, 1.0e-02, 2.0e-02, 3.0e-02,\n",
              "       4.0e-02, 5.0e-02, 6.0e-02, 7.0e-02, 8.0e-02, 9.0e-02, 1.0e-01,\n",
              "       2.0e-01, 3.0e-01, 4.0e-01, 5.0e-01, 6.0e-01, 7.0e-01, 8.0e-01,\n",
              "       9.0e-01, 1.0e+00, 2.0e+00, 3.0e+00, 4.0e+00, 5.0e+00, 6.0e+00,\n",
              "       7.0e+00, 8.0e+00, 9.0e+00, 1.0e+01, 1.5e+01, 2.0e+01, 2.5e+01,\n",
              "       3.0e+01, 3.5e+01, 4.0e+01, 4.5e+01, 5.0e+01, 5.5e+01, 6.0e+01,\n",
              "       6.5e+01, 7.0e+01, 7.5e+01, 8.0e+01, 8.5e+01, 9.0e+01, 9.5e+01])},\n",
              "             verbose=3)"
            ]
          },
          "execution_count": 24,
          "metadata": {},
          "output_type": "execute_result"
        }
      ],
      "source": [
        "param_grid = {\n",
        "    \"alpha\": np.concatenate(\n",
        "        [\n",
        "            np.arange(0.0001, 0.001, 0.0001),\n",
        "            np.arange(0.001, 0.01, 0.001),\n",
        "            np.arange(0.01, 0.1, 0.01),\n",
        "            np.arange(0.1, 1, 0.1),\n",
        "            np.arange(1, 10, 1),\n",
        "            np.arange(10, 100, 5)\n",
        "        ]) \n",
        "}\n",
        "\n",
        "model = MultinomialNB()\n",
        "grid_cv_model = GridSearchCV(model, param_grid, n_jobs=-1, verbose=3, cv=3)\n",
        "grid_cv_model.fit(X_train_df, y_train)"
      ]
    },
    {
      "cell_type": "markdown",
      "metadata": {
        "id": "-8TVkVuD2UiT"
      },
      "source": [
        "# 9 . Evaluation Metrics"
      ]
    },
    {
      "cell_type": "code",
      "execution_count": null,
      "metadata": {
        "colab": {
          "base_uri": "https://localhost:8080/"
        },
        "id": "Q0gpcCn12UiU",
        "outputId": "be5bd536-26ed-4dc2-9758-7d5c523b7272"
      },
      "outputs": [
        {
          "name": "stdout",
          "output_type": "stream",
          "text": [
            "Best Estimator: MultinomialNB(alpha=0.08)\n",
            "Best Params:    {'alpha': 0.08}\n",
            "Best Scores:    0.980928471193164\n"
          ]
        }
      ],
      "source": [
        "print(\"{}{}\".format(\"Best Estimator: \", grid_cv_model.best_estimator_))\n",
        "print(\"{}{}\".format(\"Best Params:    \", grid_cv_model.best_params_))\n",
        "print(\"{}{}\".format(\"Best Scores:    \", grid_cv_model.best_score_))"
      ]
    },
    {
      "cell_type": "code",
      "execution_count": null,
      "metadata": {
        "colab": {
          "base_uri": "https://localhost:8080/"
        },
        "id": "82CyUBBy2UiU",
        "outputId": "d3a30fbf-14b4-4457-b30b-04e0e2cf8f59"
      },
      "outputs": [
        {
          "name": "stdout",
          "output_type": "stream",
          "text": [
            "              precision    recall  f1-score   support\n",
            "\n",
            "         Ham       0.99      0.99      0.99       965\n",
            "        Spam       0.97      0.95      0.96       150\n",
            "\n",
            "    accuracy                           0.99      1115\n",
            "   macro avg       0.98      0.97      0.97      1115\n",
            "weighted avg       0.99      0.99      0.99      1115\n",
            "\n"
          ]
        }
      ],
      "source": [
        "print(classification_report(y_test, prediction['MultinomialNB'], target_names = [\"Ham\", \"Spam\"]))"
      ]
    },
    {
      "cell_type": "code",
      "execution_count": null,
      "metadata": {
        "id": "acfZndBQ2UiV"
      },
      "outputs": [],
      "source": [
        "def plot_confusion_matrix(y_test, y_pred, title=\"\"):\n",
        "    conf_mat = confusion_matrix(y_test, y_pred)\n",
        "    conf_mat_normalized = conf_mat.astype('float') / conf_mat.sum(axis=1)[:, np.newaxis]\n",
        "\n",
        "#     sns.set_style(\"ticks\")\n",
        "    figsize=(13, 5)\n",
        "\n",
        "    ticksize = 18\n",
        "    titlesize = ticksize + 8\n",
        "    labelsize = ticksize + 5\n",
        "\n",
        "    xlabel = \"Predicted label\"\n",
        "    ylabel = \"True label\"\n",
        "\n",
        "\n",
        "    params = {'figure.figsize' : figsize,\n",
        "              'axes.labelsize' : labelsize,\n",
        "              'axes.titlesize' : titlesize,\n",
        "              'xtick.labelsize': ticksize,\n",
        "              'ytick.labelsize': ticksize}\n",
        "\n",
        "    plt.rcParams.update(params)\n",
        "\n",
        "    plt.subplot(121)\n",
        "    sns.heatmap(conf_mat, annot=True)\n",
        "    plt.title(title)\n",
        "    plt.xlabel(xlabel)\n",
        "    plt.ylabel(ylabel)\n",
        "\n",
        "    plt.subplot(122)\n",
        "    sns.heatmap(conf_mat_normalized, annot=True)\n",
        "    plt.title(title)\n",
        "    plt.xlabel(xlabel)\n",
        "    plt.ylabel(ylabel)\n",
        "    plt.show()\n",
        "\n",
        "\n",
        "    print(\"Confusion Matrix:\\n\")\n",
        "    print(conf_mat)\n",
        "    print(\"\\n\\nConfusion Matrix Normalized:\\n\")\n",
        "    print(conf_mat_normalized)"
      ]
    },
    {
      "cell_type": "code",
      "execution_count": null,
      "metadata": {
        "colab": {
          "base_uri": "https://localhost:8080/",
          "height": 557
        },
        "id": "AdRMST5jeuD8",
        "outputId": "bb9d4f83-f347-491e-954e-b67226c5baab"
      },
      "outputs": [
        {
          "data": {
            "image/png": "[encoded data removed]",
            "text/plain": [
              "<Figure size 936x360 with 4 Axes>"
            ]
          },
          "metadata": {},
          "output_type": "display_data"
        },
        {
          "name": "stdout",
          "output_type": "stream",
          "text": [
            "Confusion Matrix:\n",
            "\n",
            "[[964   1]\n",
            " [ 17 133]]\n",
            "\n",
            "\n",
            "Confusion Matrix Normalized:\n",
            "\n",
            "[[0.99896373 0.00103627]\n",
            " [0.11333333 0.88666667]]\n"
          ]
        }
      ],
      "source": [
        "plot_confusion_matrix(y_test, prediction['SVC'], title=\" SVC\")"
      ]
    },
    {
      "cell_type": "code",
      "execution_count": null,
      "metadata": {
        "colab": {
          "base_uri": "https://localhost:8080/",
          "height": 557
        },
        "id": "Hv9LMgza2UiV",
        "outputId": "f739e70f-1a97-4270-91a6-3fb2855a9d7e"
      },
      "outputs": [
        {
          "data": {
            "image/png": "[encoded data removed]",
            "text/plain": [
              "<Figure size 936x360 with 4 Axes>"
            ]
          },
          "metadata": {},
          "output_type": "display_data"
        },
        {
          "name": "stdout",
          "output_type": "stream",
          "text": [
            "Confusion Matrix:\n",
            "\n",
            "[[960   5]\n",
            " [  8 142]]\n",
            "\n",
            "\n",
            "Confusion Matrix Normalized:\n",
            "\n",
            "[[0.99481865 0.00518135]\n",
            " [0.05333333 0.94666667]]\n"
          ]
        }
      ],
      "source": [
        "plot_confusion_matrix(y_test, prediction['MultinomialNB'], title=\"MultinomialNB\")"
      ]
    },
    {
      "cell_type": "code",
      "execution_count": null,
      "metadata": {
        "colab": {
          "base_uri": "https://localhost:8080/"
        },
        "id": "xG46KzOw2UiW",
        "outputId": "d291df72-ee55-42f7-9921-a7df051d723b"
      },
      "outputs": [
        {
          "data": {
            "text/plain": [
              "573                                Waiting for your call.\n",
              "4727    I (Career Tel) have added u as a contact on IN...\n",
              "5475    Dhoni have luck to win some big title.so we wi...\n",
              "4860                               Nokia phone is lovly..\n",
              "1259    We have sent JD for Customer Service cum Accou...\n",
              "Name: text, dtype: object"
            ]
          },
          "execution_count": 30,
          "metadata": {},
          "output_type": "execute_result"
        }
      ],
      "source": [
        "X_test[y_test < prediction[\"MultinomialNB\"] ]"
      ]
    },
    {
      "cell_type": "code",
      "execution_count": null,
      "metadata": {
        "colab": {
          "base_uri": "https://localhost:8080/"
        },
        "id": "2rzZQL1i2UiX",
        "outputId": "c3cfeb8d-75d2-4c95-d0af-d0423875a183"
      },
      "outputs": [
        {
          "data": {
            "text/plain": [
              "5035    You won't believe it but it's true. It's Incre...\n",
              "2574    Your next amazing xxx PICSFREE1 video will be ...\n",
              "3130    LookAtMe!: Thanks for your purchase of a video...\n",
              "68      Did you hear about the new \\Divorce Barbie\\\"? ...\n",
              "2662    Hello darling how are you today? I would love ...\n",
              "4211    Missed call alert. These numbers called but le...\n",
              "3572    You won't believe it but it's true. It's Incre...\n",
              "3979                                   ringtoneking 84484\n",
              "Name: text, dtype: object"
            ]
          },
          "execution_count": 31,
          "metadata": {},
          "output_type": "execute_result"
        }
      ],
      "source": [
        "X_test[y_test > prediction[\"MultinomialNB\"] ]"
      ]
    },
    {
      "cell_type": "markdown",
      "metadata": {
        "id": "7RRr_XQL2UiY"
      },
      "source": [
        "# 10 . Deep Learning"
      ]
    },
    {
      "cell_type": "markdown",
      "metadata": {
        "id": "RAoDx8Ca2UiY"
      },
      "source": [
        "## Output Configuration"
      ]
    },
    {
      "cell_type": "code",
      "execution_count": null,
      "metadata": {
        "colab": {
          "base_uri": "https://localhost:8080/"
        },
        "id": "HprI0ace2UiY",
        "outputId": "7081e5cd-16dc-4e53-e700-8ac9707826ff"
      },
      "outputs": [
        {
          "name": "stdout",
          "output_type": "stream",
          "text": [
            "Could not create main model directory\n",
            "Could not create main log directory\n"
          ]
        }
      ],
      "source": [
        "main_model_dir = output_directory + r\"models/\"\n",
        "main_log_dir = output_directory + r\"logs/\"\n",
        "\n",
        "try:\n",
        "    os.mkdir(main_model_dir)\n",
        "except:\n",
        "    print(\"Could not create main model directory\")\n",
        "    \n",
        "try:\n",
        "    os.mkdir(main_log_dir)\n",
        "except:\n",
        "    print(\"Could not create main log directory\")\n",
        "\n",
        "\n",
        "\n",
        "model_dir = main_model_dir + time.strftime('%Y-%m-%d %H-%M-%S') + \"/\"\n",
        "log_dir = main_log_dir + time.strftime('%Y-%m-%d %H-%M-%S')\n",
        "\n",
        "\n",
        "try:\n",
        "    os.mkdir(model_dir)\n",
        "except:\n",
        "    print(\"Could not create model directory\")\n",
        "    \n",
        "try:\n",
        "    os.mkdir(log_dir)\n",
        "except:\n",
        "    print(\"Could not create log directory\")\n",
        "    \n",
        "model_file = model_dir + \"{epoch:02d}-val_acc-{val_acc:.2f}-val_loss-{val_loss:.2f}.hdf5\""
      ]
    },
    {
      "cell_type": "code",
      "execution_count": null,
      "metadata": {
        "colab": {
          "base_uri": "https://localhost:8080/"
        },
        "id": "-XHn9Y--2UiZ",
        "outputId": "7c19750d-f688-446d-d112-f5f2a2948c19"
      },
      "outputs": [
        {
          "name": "stdout",
          "output_type": "stream",
          "text": [
            "Settting Callbacks\n",
            "Set Callbacks at  Timestamp: 2022-06-29 03:39:22\n"
          ]
        }
      ],
      "source": [
        "print(\"Settting Callbacks\")\n",
        "\n",
        "checkpoint = ModelCheckpoint(\n",
        "    model_file, \n",
        "    monitor='val_acc', \n",
        "    save_best_only=True)\n",
        "\n",
        "early_stopping = EarlyStopping(\n",
        "    monitor='val_loss',\n",
        "    patience=2,\n",
        "    verbose=1,\n",
        "    restore_best_weights=True)\n",
        "\n",
        "\n",
        "reduce_lr = ReduceLROnPlateau(\n",
        "    monitor='val_loss',\n",
        "    factor=0.6,\n",
        "    patience=1,\n",
        "    verbose=1)\n",
        "\n",
        "\n",
        "callbacks = [checkpoint, reduce_lr, early_stopping]\n",
        "\n",
        "# callbacks = [early_stopping]\n",
        "\n",
        "print(\"Set Callbacks at \", date_time(1))"
      ]
    },
    {
      "cell_type": "markdown",
      "metadata": {
        "id": "bvbIaVCl2Uia"
      },
      "source": [
        "## 10.1. Preprocessing"
      ]
    },
    {
      "cell_type": "code",
      "execution_count": null,
      "metadata": {
        "id": "ChkBywL02Uia"
      },
      "outputs": [],
      "source": [
        "X = df.text\n",
        "Y = df.label\n",
        "\n",
        "label_encoder = LabelEncoder()\n",
        "\n",
        "Y = label_encoder.fit_transform(Y)\n",
        "\n",
        "Y = Y.reshape(-1, 1)"
      ]
    },
    {
      "cell_type": "code",
      "execution_count": null,
      "metadata": {
        "id": "TmNs1_Jr2Uib"
      },
      "outputs": [],
      "source": [
        "X_train, X_test, Y_train, Y_test = train_test_split(X, Y, test_size=0.15)\n",
        "\n",
        "max_words = len(set(\" \".join(X_train).split()))\n",
        "max_len = X_train.apply(lambda x: len(x)).max()\n"
      ]
    },
    {
      "cell_type": "code",
      "execution_count": null,
      "metadata": {
        "id": "LrIrbd8K2Uib"
      },
      "outputs": [],
      "source": [
        "tokenizer = Tokenizer(num_words=max_words)\n",
        "\n",
        "tokenizer.fit_on_texts(X_train)\n",
        "\n",
        "X_train_seq = tokenizer.texts_to_sequences(X_train)\n",
        "X_train_seq = sequence.pad_sequences(X_train_seq, maxlen=max_len)"
      ]
    },
    {
      "cell_type": "code",
      "execution_count": null,
      "metadata": {
        "id": "xDomtzuA5QF-"
      },
      "outputs": [],
      "source": [
        "from sklearn.utils.class_weight import compute_class_weight"
      ]
    },
    {
      "cell_type": "code",
      "execution_count": null,
      "metadata": {
        "colab": {
          "base_uri": "https://localhost:8080/",
          "height": 36
        },
        "id": "Z9n-sYX95QI-",
        "outputId": "281c553f-8b26-406c-e3ad-79a211d5c752"
      },
      "outputs": [
        {
          "data": {
            "application/vnd.google.colaboratory.intrinsic+json": {
              "type": "string"
            },
            "text/plain": [
              "'0.24.2'"
            ]
          },
          "execution_count": 38,
          "metadata": {},
          "output_type": "execute_result"
        }
      ],
      "source": [
        "import sklearn\n",
        "\n",
        "sklearn.__version__"
      ]
    },
    {
      "cell_type": "code",
      "execution_count": null,
      "metadata": {
        "colab": {
          "base_uri": "https://localhost:8080/"
        },
        "id": "zyQSSusb5QL3",
        "outputId": "f394e059-81b4-4797-cec8-18e955f0c7c3"
      },
      "outputs": [
        {
          "name": "stdout",
          "output_type": "stream",
          "text": [
            "Found existing installation: scikit-learn 0.24.2\n",
            "Uninstalling scikit-learn-0.24.2:\n",
            "  Successfully uninstalled scikit-learn-0.24.2\n"
          ]
        }
      ],
      "source": [
        "!pip uninstall scikit-learn -y"
      ]
    },
    {
      "cell_type": "code",
      "execution_count": null,
      "metadata": {
        "colab": {
          "base_uri": "https://localhost:8080/",
          "height": 294
        },
        "id": "2K_sa_cS5QRM",
        "outputId": "7ac0b637-bbfe-4b8b-f362-97111cc6b31e"
      },
      "outputs": [
        {
          "name": "stdout",
          "output_type": "stream",
          "text": [
            "Looking in indexes: https://pypi.org/simple, https://us-python.pkg.dev/colab-wheels/public/simple/\n",
            "Collecting scikit-learn==0.24.2\n",
            "  Using cached scikit_learn-0.24.2-cp37-cp37m-manylinux2010_x86_64.whl (22.3 MB)\n",
            "Requirement already satisfied: joblib>=0.11 in /usr/local/lib/python3.7/dist-packages (from scikit-learn==0.24.2) (1.1.0)\n",
            "Requirement already satisfied: threadpoolctl>=2.0.0 in /usr/local/lib/python3.7/dist-packages (from scikit-learn==0.24.2) (3.1.0)\n",
            "Requirement already satisfied: scipy>=0.19.1 in /usr/local/lib/python3.7/dist-packages (from scikit-learn==0.24.2) (1.4.1)\n",
            "Requirement already satisfied: numpy>=1.13.3 in /usr/local/lib/python3.7/dist-packages (from scikit-learn==0.24.2) (1.21.6)\n",
            "Installing collected packages: scikit-learn\n",
            "\u001b[31mERROR: pip's dependency resolver does not currently take into account all the packages that are installed. This behaviour is the source of the following dependency conflicts.\n",
            "yellowbrick 1.4 requires scikit-learn>=1.0.0, but you have scikit-learn 0.24.2 which is incompatible.\u001b[0m\n",
            "Successfully installed scikit-learn-0.24.2\n"
          ]
        },
        {
          "data": {
            "application/vnd.colab-display-data+json": {
              "pip_warning": {
                "packages": [
                  "sklearn"
                ]
              }
            }
          },
          "metadata": {},
          "output_type": "display_data"
        }
      ],
      "source": [
        "!pip install scikit-learn==0.24.2"
      ]
    },
    {
      "cell_type": "code",
      "execution_count": null,
      "metadata": {
        "id": "noOTg23b2Uic"
      },
      "outputs": [],
      "source": [
        "# Calculate Class Weights\n",
        "def get_weight(y):\n",
        "    class_weight_current =  cw.compute_class_weight('balanced', np.unique(y), y)\n",
        "    return class_weight_current"
      ]
    },
    {
      "cell_type": "code",
      "execution_count": null,
      "metadata": {
        "colab": {
          "base_uri": "https://localhost:8080/"
        },
        "id": "br5EDRrJ2Uic",
        "outputId": "14ea3472-0b7d-4b0e-e566-ec2114c90cec"
      },
      "outputs": [
        {
          "name": "stderr",
          "output_type": "stream",
          "text": [
            "/usr/local/lib/python3.7/dist-packages/sklearn/utils/validation.py:72: FutureWarning: Pass classes=[0 1], y=[0 0 0 ... 1 0 0] as keyword args. From version 1.0 (renaming of 0.25) passing these as positional arguments will result in an error\n",
            "  \"will result in an error\", FutureWarning)\n"
          ]
        }
      ],
      "source": [
        "class_weight = get_weight(Y_train.flatten())"
      ]
    },
    {
      "cell_type": "code",
      "execution_count": null,
      "metadata": {
        "colab": {
          "base_uri": "https://localhost:8080/"
        },
        "id": "2jtZ4k096Wf2",
        "outputId": "2e21f99f-b2dc-4a1e-e945-d8085c833ab1"
      },
      "outputs": [
        {
          "data": {
            "text/plain": [
              "numpy.ndarray"
            ]
          },
          "execution_count": 43,
          "metadata": {},
          "output_type": "execute_result"
        }
      ],
      "source": [
        "type(class_weight)"
      ]
    },
    {
      "cell_type": "markdown",
      "metadata": {
        "id": "O-GMGaaM2Uid"
      },
      "source": [
        "## 10.2 Model"
      ]
    },
    {
      "cell_type": "code",
      "execution_count": null,
      "metadata": {
        "id": "Lc8Rla1-2Uid"
      },
      "outputs": [],
      "source": [
        "def get_cnn_model():   \n",
        "    model = Sequential()\n",
        "    \n",
        "    model.add(Embedding(max_words, 50, input_length=max_len))\n",
        "    \n",
        "    model.add(Conv1D(64, 3, padding='valid', activation='relu', strides=1))\n",
        "    model.add(GlobalMaxPooling1D())\n",
        "    \n",
        "    model.add(Dropout(0.5))\n",
        "    model.add(BatchNormalization())\n",
        "    model.add(Dropout(0.5))\n",
        "    \n",
        "    model.add(Dense(256, activation='relu'))\n",
        "    \n",
        "    model.add(Dropout(0.5))\n",
        "    model.add(BatchNormalization())\n",
        "    model.add(Dropout(0.5))\n",
        "    \n",
        "    model.add(Dense(1, activation='sigmoid'))\n",
        "    \n",
        "    model.summary()\n",
        "    return model\n",
        "\n",
        "\n",
        "\n",
        "def get_rnn_model():\n",
        "    model = Sequential()\n",
        "    \n",
        "    model.add(Embedding(max_words, 50, input_length=max_len))\n",
        "    model.add(LSTM(64))\n",
        "    \n",
        "    model.add(Dropout(0.5))\n",
        "    model.add(BatchNormalization())\n",
        "    model.add(Dropout(0.5))\n",
        "    \n",
        "    model.add(Dense(256, activation='relu'))\n",
        "    \n",
        "    model.add(Dropout(0.5))\n",
        "    model.add(BatchNormalization())\n",
        "    model.add(Dropout(0.5))\n",
        "    \n",
        "    model.add(Dense(1, activation='sigmoid'))\n",
        "    \n",
        "    model.summary()\n",
        "    \n",
        "    return model\n",
        "\n"
      ]
    },
    {
      "cell_type": "code",
      "execution_count": null,
      "metadata": {
        "colab": {
          "base_uri": "https://localhost:8080/"
        },
        "id": "Gm0jjg9eAchn",
        "outputId": "c6994701-aaa1-4ab5-cd38-d61beb90712d"
      },
      "outputs": [
        {
          "name": "stdout",
          "output_type": "stream",
          "text": [
            "14134\n"
          ]
        }
      ],
      "source": [
        "print(max_words)"
      ]
    },
    {
      "cell_type": "code",
      "execution_count": null,
      "metadata": {
        "id": "hgNYJNkD2Uie"
      },
      "outputs": [],
      "source": [
        "def plot_performance(history=None, figure_directory=None, ylim_pad=[0, 0]):\n",
        "    xlabel = 'Epoch'\n",
        "    legends = ['Training', 'Validation']\n",
        "\n",
        "    plt.figure(figsize=(17, 8))\n",
        "\n",
        "    y1 = history.history['accuracy']\n",
        "    y2 = history.history['val_accuracy']\n",
        "\n",
        "    min_y = min(min(y1), min(y2))-ylim_pad[0]\n",
        "    max_y = max(max(y1), max(y2))+ylim_pad[0]\n",
        "\n",
        "\n",
        "    plt.subplot(121)\n",
        "\n",
        "    plt.plot(y1)\n",
        "    plt.plot(y2)\n",
        "\n",
        "    plt.title('Model Accuracy\\n'+date_time(1), fontsize=17)\n",
        "    plt.xlabel(xlabel, fontsize=15)\n",
        "    plt.ylabel('Accuracy', fontsize=15)\n",
        "    plt.ylim(min_y, max_y)\n",
        "    plt.legend(legends, loc='upper left')\n",
        "    plt.grid()\n",
        "\n",
        "    y1 = history.history['loss']\n",
        "    y2 = history.history['val_loss']\n",
        "\n",
        "    min_y = min(min(y1), min(y2))-ylim_pad[1]\n",
        "    max_y = max(max(y1), max(y2))+ylim_pad[1]\n",
        "\n",
        "\n",
        "    plt.subplot(122)\n",
        "\n",
        "    plt.plot(y1)\n",
        "    plt.plot(y2)\n",
        "\n",
        "    plt.title('Model Loss\\n'+date_time(1), fontsize=17)\n",
        "    plt.xlabel(xlabel, fontsize=15)\n",
        "    plt.ylabel('Loss', fontsize=15)\n",
        "    plt.ylim(min_y, max_y)\n",
        "    plt.legend(legends, loc='upper left')\n",
        "    plt.grid()\n",
        "    if figure_directory:\n",
        "        plt.savefig(figure_directory+\"/history\")\n",
        "\n",
        "    plt.show()\n"
      ]
    },
    {
      "cell_type": "code",
      "execution_count": null,
      "metadata": {
        "id": "LF0gkFEN2Uig"
      },
      "outputs": [],
      "source": [
        "loss = 'binary_crossentropy'\n",
        "metrics = ['accuracy']"
      ]
    },
    {
      "cell_type": "markdown",
      "metadata": {
        "id": "DhzK87cw2Uig"
      },
      "source": [
        "## 10.3. Model Trainning"
      ]
    },
    {
      "cell_type": "markdown",
      "metadata": {
        "id": "A0IlhR_i2Uij"
      },
      "source": [
        " 10.3.1. CNN"
      ]
    },
    {
      "cell_type": "code",
      "execution_count": null,
      "metadata": {
        "colab": {
          "base_uri": "https://localhost:8080/"
        },
        "id": "HmJXsC-R2Uik",
        "outputId": "77e5ea90-6896-4e2e-c439-1051ebf056f8"
      },
      "outputs": [
        {
          "name": "stdout",
          "output_type": "stream",
          "text": [
            "Model: \"sequential\"\n",
            "_________________________________________________________________\n",
            " Layer (type)                Output Shape              Param #   \n",
            "=================================================================\n",
            " embedding (Embedding)       (None, 910, 50)           706700    \n",
            "                                                                 \n",
            " conv1d (Conv1D)             (None, 908, 64)           9664      \n",
            "                                                                 \n",
            " global_max_pooling1d (Globa  (None, 64)               0         \n",
            " lMaxPooling1D)                                                  \n",
            "                                                                 \n",
            " dropout (Dropout)           (None, 64)                0         \n",
            "                                                                 \n",
            " batch_normalization (BatchN  (None, 64)               256       \n",
            " ormalization)                                                   \n",
            "                                                                 \n",
            " dropout_1 (Dropout)         (None, 64)                0         \n",
            "                                                                 \n",
            " dense (Dense)               (None, 256)               16640     \n",
            "                                                                 \n",
            " dropout_2 (Dropout)         (None, 256)               0         \n",
            "                                                                 \n",
            " batch_normalization_1 (Batc  (None, 256)              1024      \n",
            " hNormalization)                                                 \n",
            "                                                                 \n",
            " dropout_3 (Dropout)         (None, 256)               0         \n",
            "                                                                 \n",
            " dense_1 (Dense)             (None, 1)                 257       \n",
            "                                                                 \n",
            "=================================================================\n",
            "Total params: 734,541\n",
            "Trainable params: 733,901\n",
            "Non-trainable params: 640\n",
            "_________________________________________________________________\n"
          ]
        }
      ],
      "source": [
        "model2 = get_cnn_model()"
      ]
    },
    {
      "cell_type": "code",
      "execution_count": null,
      "metadata": {
        "colab": {
          "base_uri": "https://localhost:8080/"
        },
        "id": "AwPcKQwd2Uik",
        "outputId": "bae9f370-421c-46b4-c8d7-9db380b9a586"
      },
      "outputs": [
        {
          "name": "stdout",
          "output_type": "stream",
          "text": [
            "Starting...\n",
            "\n",
            "Timestamp: 2022-06-29 03:39:35\n",
            "\n",
            "\n",
            "Compliling Model ...\n",
            "\n",
            "Training Model ...\n",
            "\n",
            "Epoch 1/100\n",
            "30/30 [==============================] - 15s 452ms/step - loss: 0.9199 - accuracy: 0.5451 - val_loss: 0.6417 - val_accuracy: 0.8650\n",
            "Epoch 2/100\n",
            "30/30 [==============================] - 17s 554ms/step - loss: 0.7149 - accuracy: 0.6280 - val_loss: 0.5141 - val_accuracy: 0.8650\n",
            "Epoch 3/100\n",
            "30/30 [==============================] - 17s 579ms/step - loss: 0.5105 - accuracy: 0.7328 - val_loss: 0.4046 - val_accuracy: 0.8650\n",
            "Epoch 4/100\n",
            "30/30 [==============================] - 12s 396ms/step - loss: 0.3324 - accuracy: 0.8300 - val_loss: 0.3523 - val_accuracy: 0.8650\n",
            "Epoch 5/100\n",
            "30/30 [==============================] - 9s 300ms/step - loss: 0.2481 - accuracy: 0.8992 - val_loss: 0.3388 - val_accuracy: 0.8650\n",
            "Epoch 6/100\n",
            "30/30 [==============================] - 9s 290ms/step - loss: 0.1898 - accuracy: 0.9298 - val_loss: 0.3275 - val_accuracy: 0.8650\n",
            "Epoch 7/100\n",
            "30/30 [==============================] - 9s 291ms/step - loss: 0.1179 - accuracy: 0.9572 - val_loss: 0.3199 - val_accuracy: 0.8650\n",
            "Epoch 8/100\n",
            "30/30 [==============================] - 9s 292ms/step - loss: 0.0913 - accuracy: 0.9723 - val_loss: 0.2977 - val_accuracy: 0.8650\n",
            "Epoch 9/100\n",
            "30/30 [==============================] - 9s 293ms/step - loss: 0.0808 - accuracy: 0.9752 - val_loss: 0.2617 - val_accuracy: 0.8692\n",
            "Epoch 10/100\n",
            "30/30 [==============================] - 9s 292ms/step - loss: 0.0769 - accuracy: 0.9815 - val_loss: 0.2238 - val_accuracy: 0.8871\n",
            "Epoch 11/100\n",
            "30/30 [==============================] - 9s 296ms/step - loss: 0.0501 - accuracy: 0.9863 - val_loss: 0.1963 - val_accuracy: 0.9093\n",
            "Epoch 12/100\n",
            "30/30 [==============================] - 9s 295ms/step - loss: 0.0535 - accuracy: 0.9884 - val_loss: 0.1569 - val_accuracy: 0.9325\n",
            "Epoch 13/100\n",
            "30/30 [==============================] - 10s 327ms/step - loss: 0.0440 - accuracy: 0.9897 - val_loss: 0.1344 - val_accuracy: 0.9420\n",
            "Epoch 14/100\n",
            "30/30 [==============================] - 9s 294ms/step - loss: 0.0366 - accuracy: 0.9921 - val_loss: 0.1143 - val_accuracy: 0.9568\n",
            "Epoch 15/100\n",
            "30/30 [==============================] - 9s 293ms/step - loss: 0.0308 - accuracy: 0.9937 - val_loss: 0.0937 - val_accuracy: 0.9684\n",
            "Epoch 16/100\n",
            "30/30 [==============================] - 9s 289ms/step - loss: 0.0345 - accuracy: 0.9931 - val_loss: 0.0744 - val_accuracy: 0.9778\n",
            "Epoch 17/100\n",
            "30/30 [==============================] - 9s 291ms/step - loss: 0.0271 - accuracy: 0.9950 - val_loss: 0.0663 - val_accuracy: 0.9800\n",
            "Epoch 18/100\n",
            "30/30 [==============================] - 10s 350ms/step - loss: 0.0325 - accuracy: 0.9937 - val_loss: 0.0610 - val_accuracy: 0.9831\n",
            "Epoch 19/100\n",
            "30/30 [==============================] - 9s 288ms/step - loss: 0.0164 - accuracy: 0.9963 - val_loss: 0.0573 - val_accuracy: 0.9842\n",
            "Epoch 20/100\n",
            "30/30 [==============================] - 9s 298ms/step - loss: 0.0152 - accuracy: 0.9974 - val_loss: 0.0529 - val_accuracy: 0.9842\n",
            "Epoch 21/100\n",
            "30/30 [==============================] - 9s 296ms/step - loss: 0.0158 - accuracy: 0.9963 - val_loss: 0.0496 - val_accuracy: 0.9842\n",
            "Epoch 22/100\n",
            "30/30 [==============================] - 9s 292ms/step - loss: 0.0162 - accuracy: 0.9974 - val_loss: 0.0491 - val_accuracy: 0.9852\n",
            "Epoch 23/100\n",
            "30/30 [==============================] - 9s 289ms/step - loss: 0.0148 - accuracy: 0.9976 - val_loss: 0.0490 - val_accuracy: 0.9884\n",
            "Epoch 24/100\n",
            "30/30 [==============================] - 9s 289ms/step - loss: 0.0109 - accuracy: 0.9982 - val_loss: 0.0487 - val_accuracy: 0.9842\n",
            "Epoch 25/100\n",
            "30/30 [==============================] - 9s 294ms/step - loss: 0.0106 - accuracy: 0.9987 - val_loss: 0.0467 - val_accuracy: 0.9863\n",
            "Epoch 26/100\n",
            "30/30 [==============================] - 9s 288ms/step - loss: 0.0188 - accuracy: 0.9979 - val_loss: 0.0446 - val_accuracy: 0.9895\n",
            "Epoch 27/100\n",
            "30/30 [==============================] - 9s 287ms/step - loss: 0.0076 - accuracy: 0.9982 - val_loss: 0.0433 - val_accuracy: 0.9905\n",
            "Epoch 28/100\n",
            "22/30 [=====================>........] - ETA: 2s - loss: 0.0196 - accuracy: 0.9982"
          ]
        }
      ],
      "source": [
        "print(\"Starting...\\n\")\n",
        "\n",
        "start_time = time.time()\n",
        "print(date_time(1))\n",
        "\n",
        "print(\"\\n\\nCompliling Model ...\\n\")\n",
        "learning_rate = 0.001\n",
        "optimizer = Adam(learning_rate)\n",
        "# optimizer = Adam()\n",
        "\n",
        "model2.compile(optimizer=optimizer, loss=loss, metrics=metrics)\n",
        "\n",
        "verbose = 1\n",
        "epochs = 100\n",
        "batch_size = 128\n",
        "validation_split = 0.2\n",
        "\n",
        "print(\"Training Model ...\\n\")\n",
        "\n",
        "class_weight_dict = dict(enumerate(class_weight.flatten(), 0))\n",
        "\n",
        "import tensorflow\n",
        "\n",
        "my_callbacks = [\n",
        "    tensorflow.keras.callbacks.EarlyStopping(patience=2),\n",
        "    tensorflow.keras.callbacks.ModelCheckpoint(filepath='model.{epoch:02d}-{val_loss:.2f}.h5'),\n",
        "    tensorflow.keras.callbacks.TensorBoard(log_dir='./logs'),\n",
        "]\n",
        "\n",
        "history2 = model2.fit(\n",
        "    X_train_seq,\n",
        "    Y_train,\n",
        "    batch_size=batch_size,\n",
        "    epochs=epochs,\n",
        "    verbose=verbose,\n",
        "    callbacks=my_callbacks,\n",
        "    validation_split=validation_split,\n",
        "    class_weight =class_weight_dict\n",
        "    )\n",
        "\n",
        "elapsed_time = time.time() - start_time\n",
        "elapsed_time = time.strftime(\"%H:%M:%S\", time.gmtime(elapsed_time))\n",
        "\n",
        "print(\"\\nElapsed Time: \" + elapsed_time)\n",
        "print(\"Completed Model Trainning\", date_time(1))"
      ]
    },
    {
      "cell_type": "code",
      "execution_count": null,
      "metadata": {
        "id": "WAEV88nkFgLX"
      },
      "outputs": [],
      "source": [
        " "
      ]
    },
    {
      "cell_type": "markdown",
      "metadata": {
        "id": "TJA7AFoE2Uil"
      },
      "source": [
        "#### 10.3.1.1 Visualization"
      ]
    },
    {
      "cell_type": "code",
      "execution_count": null,
      "metadata": {
        "id": "m20T8Urn2Uil"
      },
      "outputs": [],
      "source": [
        "plot_performance(history=history2)"
      ]
    },
    {
      "cell_type": "markdown",
      "metadata": {
        "id": "6xxyOs1MN4uH"
      },
      "source": [
        "\n",
        "\n",
        "> ### 10.3.2. RNN\n"
      ]
    },
    {
      "cell_type": "code",
      "execution_count": null,
      "metadata": {
        "id": "xJpEgW5H_QvW"
      },
      "outputs": [],
      "source": [
        "model1 = get_rnn_model()"
      ]
    },
    {
      "cell_type": "code",
      "execution_count": null,
      "metadata": {
        "colab": {
          "background_save": true
        },
        "id": "kL8wgi__Nck-",
        "outputId": "c034aef1-0ac5-42dc-c443-30e736fb6f54"
      },
      "outputs": [
        {
          "name": "stdout",
          "output_type": "stream",
          "text": [
            "Starting...\n",
            "\n",
            "Timestamp: 2022-06-29 03:44:20\n",
            "\n",
            "\n",
            "Compliling Model ...\n",
            "\n",
            "Trainning Model ...\n",
            "\n",
            "Epoch 1/100\n",
            "30/30 [==============================] - 40s 1s/step - loss: 0.7500 - accuracy: 0.5787 - val_loss: 0.5600 - val_accuracy: 0.8650\n",
            "Epoch 2/100\n",
            "30/30 [==============================] - 35s 1s/step - loss: 0.3663 - accuracy: 0.7719 - val_loss: 0.4129 - val_accuracy: 0.8650\n",
            "Epoch 3/100\n",
            "30/30 [==============================] - 35s 1s/step - loss: 0.1529 - accuracy: 0.9406 - val_loss: 0.2985 - val_accuracy: 0.8703\n",
            "Epoch 4/100\n",
            "30/30 [==============================] - 34s 1s/step - loss: 0.0937 - accuracy: 0.9776 - val_loss: 0.2883 - val_accuracy: 0.8650\n",
            "Epoch 5/100\n",
            "30/30 [==============================] - 35s 1s/step - loss: 0.0689 - accuracy: 0.9823 - val_loss: 0.2554 - val_accuracy: 0.8724\n",
            "Epoch 6/100\n",
            "30/30 [==============================] - 35s 1s/step - loss: 0.0427 - accuracy: 0.9931 - val_loss: 0.2581 - val_accuracy: 0.8681\n",
            "Epoch 7/100\n",
            "30/30 [==============================] - 34s 1s/step - loss: 0.0321 - accuracy: 0.9960 - val_loss: 0.2062 - val_accuracy: 0.8998\n",
            "Epoch 8/100\n",
            "30/30 [==============================] - 36s 1s/step - loss: 0.0237 - accuracy: 0.9974 - val_loss: 0.2130 - val_accuracy: 0.8977\n",
            "Epoch 9/100\n",
            "30/30 [==============================] - 35s 1s/step - loss: 0.0163 - accuracy: 0.9984 - val_loss: 0.1707 - val_accuracy: 0.9198\n",
            "Epoch 10/100\n",
            "30/30 [==============================] - 35s 1s/step - loss: 0.0140 - accuracy: 0.9984 - val_loss: 0.1584 - val_accuracy: 0.9283\n",
            "Epoch 11/100\n",
            "30/30 [==============================] - 35s 1s/step - loss: 0.0131 - accuracy: 0.9992 - val_loss: 0.1396 - val_accuracy: 0.9346\n",
            "Epoch 12/100\n",
            "30/30 [==============================] - 34s 1s/step - loss: 0.0112 - accuracy: 0.9979 - val_loss: 0.1002 - val_accuracy: 0.9620\n",
            "Epoch 13/100\n",
            "30/30 [==============================] - 35s 1s/step - loss: 0.0133 - accuracy: 0.9976 - val_loss: 0.0736 - val_accuracy: 0.9736\n",
            "Epoch 14/100\n",
            "30/30 [==============================] - 35s 1s/step - loss: 0.0075 - accuracy: 0.9995 - val_loss: 0.0517 - val_accuracy: 0.9852\n",
            "Epoch 15/100\n",
            "30/30 [==============================] - 36s 1s/step - loss: 0.0089 - accuracy: 0.9989 - val_loss: 0.0705 - val_accuracy: 0.9736\n",
            "Epoch 16/100\n",
            "30/30 [==============================] - 34s 1s/step - loss: 0.0045 - accuracy: 0.9997 - val_loss: 0.0507 - val_accuracy: 0.9863\n",
            "Epoch 17/100\n",
            "30/30 [==============================] - 35s 1s/step - loss: 0.0058 - accuracy: 0.9995 - val_loss: 0.0518 - val_accuracy: 0.9873\n",
            "Epoch 18/100\n",
            "30/30 [==============================] - 35s 1s/step - loss: 0.0031 - accuracy: 1.0000 - val_loss: 0.0409 - val_accuracy: 0.9905\n",
            "Epoch 19/100\n",
            "30/30 [==============================] - 35s 1s/step - loss: 0.0066 - accuracy: 0.9992 - val_loss: 0.0496 - val_accuracy: 0.9863\n",
            "Epoch 20/100\n",
            "30/30 [==============================] - 34s 1s/step - loss: 0.0108 - accuracy: 0.9966 - val_loss: 0.0510 - val_accuracy: 0.9895\n",
            "\n",
            "Elapsed Time: 00:11:40\n",
            "Completed Model Trainning Timestamp: 2022-06-29 03:56:00\n"
          ]
        }
      ],
      "source": [
        "print(\"Starting...\\n\")\n",
        "\n",
        "start_time = time.time()\n",
        "print(date_time(1))\n",
        "\n",
        "print(\"\\n\\nCompliling Model ...\\n\")\n",
        "learning_rate = 0.001\n",
        "optimizer = Adam(learning_rate)\n",
        "# optimizer = Adam()\n",
        "\n",
        "model1.compile(optimizer=optimizer, loss=loss, metrics=metrics)\n",
        "\n",
        "verbose = 1\n",
        "epochs = 100\n",
        "batch_size = 128\n",
        "validation_split = 0.2\n",
        "\n",
        "print(\"Trainning Model ...\\n\")\n",
        "\n",
        "class_weight_dict = dict(enumerate(class_weight.flatten(), 0))\n",
        "\n",
        "import tensorflow\n",
        "my_callbacks = [\n",
        "    tensorflow.keras.callbacks.EarlyStopping(patience=2),\n",
        "    tensorflow.keras.callbacks.ModelCheckpoint(filepath='model.{epoch:02d}-{val_loss:.2f}.h5'),\n",
        "    tensorflow.keras.callbacks.TensorBoard(log_dir='./logs'),\n",
        "]\n",
        "history1 = model1.fit(\n",
        "    X_train_seq,\n",
        "    Y_train,\n",
        "    batch_size=batch_size,\n",
        "    epochs=epochs,\n",
        "    verbose=verbose,\n",
        "    callbacks=my_callbacks,\n",
        "    validation_split=validation_split,\n",
        "    class_weight =class_weight_dict\n",
        "    )\n",
        "\n",
        "elapsed_time = time.time() - start_time\n",
        "elapsed_time = time.strftime(\"%H:%M:%S\", time.gmtime(elapsed_time))\n",
        "\n",
        "print(\"\\nElapsed Time: \" + elapsed_time)\n",
        "print(\"Completed Model Trainning\", date_time(1))"
      ]
    },
    {
      "cell_type": "markdown",
      "metadata": {
        "id": "A2cCSzZsQQr7"
      },
      "source": [
        "#### 10.3.2.1 Visualization\n"
      ]
    },
    {
      "cell_type": "code",
      "execution_count": null,
      "metadata": {
        "colab": {
          "background_save": true
        },
        "id": "G5lixkiAQgVq",
        "outputId": "808503d4-3a4a-4a10-de26-d0359d1747ff"
      },
      "outputs": [
        {
          "data": {
            "image/png": "[encoded data removed]",
            "text/plain": [
              "<Figure size 1224x576 with 2 Axes>"
            ]
          },
          "metadata": {},
          "output_type": "display_data"
        }
      ],
      "source": [
        "plot_performance(history=history1)\n"
      ]
    },
    {
      "cell_type": "markdown",
      "metadata": {
        "id": "MreoFFQXQ27a"
      },
      "source": [
        "# 11 . Inference/Prediction "
      ]
    },
    {
      "cell_type": "code",
      "execution_count": null,
      "metadata": {
        "colab": {
          "background_save": true
        },
        "id": "59nvefaIQ-Fz",
        "outputId": "55660c66-406c-4f32-ea66-d3b251d3cbdd"
      },
      "outputs": [
        {
          "name": "stdout",
          "output_type": "stream",
          "text": [
            "27/27 [==============================] - 0s 17ms/step - loss: 0.0503 - accuracy: 0.9856\n",
            "27/27 [==============================] - 3s 108ms/step - loss: 0.0892 - accuracy: 0.9797\n"
          ]
        }
      ],
      "source": [
        "test_X_seq = tokenizer.texts_to_sequences(X_test)\n",
        "test_X_seq = sequence.pad_sequences(test_X_seq, maxlen=max_len)\n",
        "accuracy2 = model2.evaluate(test_X_seq, Y_test)\n",
        "accuracy1 = model1.evaluate(test_X_seq, Y_test)"
      ]
    },
    {
      "cell_type": "markdown",
      "metadata": {
        "id": "JTNB249FRIpK"
      },
      "source": [
        "# 12 . Evaluation"
      ]
    },
    {
      "cell_type": "code",
      "execution_count": null,
      "metadata": {
        "colab": {
          "background_save": true
        },
        "id": "uGSWEFD1RLfY",
        "outputId": "ef8c2932-55a8-4a70-f051-fb7d0c78fc34"
      },
      "outputs": [
        {
          "name": "stdout",
          "output_type": "stream",
          "text": [
            "Model Performance of RNN (Test Accuracy):\n",
            "Accuracy: 97.97%\n",
            "Loss: 0.089\n",
            "\n",
            "\n",
            "Model Performance of CNN (Test Accuracy):\n",
            "Accuracy: 98.56%\n",
            "Loss: 0.050\n",
            "\n"
          ]
        }
      ],
      "source": [
        "print(\"Model Performance of RNN (Test Accuracy):\")\n",
        "print('Accuracy: {:0.2f}%\\nLoss: {:0.3f}\\n'.format(accuracy1[1]*100, accuracy1[0]))\n",
        "\n",
        "print(\"\\nModel Performance of CNN (Test Accuracy):\")\n",
        "print('Accuracy: {:0.2f}%\\nLoss: {:0.3f}\\n'.format(accuracy2[1]*100, accuracy2[0]))"
      ]
    },
    {
      "cell_type": "code",
      "execution_count": null,
      "metadata": {
        "colab": {
          "background_save": true
        },
        "id": "01oEteQIRTlX",
        "outputId": "b2ae31c8-447c-4759-9249-4d028898d317"
      },
      "outputs": [
        {
          "name": "stdout",
          "output_type": "stream",
          "text": [
            "27/27 [==============================] - 1s 17ms/step\n",
            "27/27 [==============================] - 3s 107ms/step\n"
          ]
        }
      ],
      "source": [
        "ypreds2 = model2.predict(test_X_seq, verbose=1)\n",
        "ypreds1 = model1.predict(test_X_seq, verbose=1)"
      ]
    },
    {
      "cell_type": "code",
      "execution_count": null,
      "metadata": {
        "colab": {
          "background_save": true
        },
        "id": "5KZDNZvG2Sg6",
        "outputId": "8ea39bdf-7d15-42d6-a677-8c869d4ed0fe"
      },
      "outputs": [
        {
          "name": "stdout",
          "output_type": "stream",
          "text": [
            "              precision    recall  f1-score   support\n",
            "\n",
            "         ham       0.98      1.00      0.99       713\n",
            "        spam       0.97      0.89      0.93       123\n",
            "\n",
            "    accuracy                           0.98       836\n",
            "   macro avg       0.98      0.94      0.96       836\n",
            "weighted avg       0.98      0.98      0.98       836\n",
            "\n"
          ]
        }
      ],
      "source": [
        "print(classification_report(Y_test, np.round(abs(ypreds1)), target_names = [\"ham\", \"spam\"])) "
      ]
    },
    {
      "cell_type": "code",
      "execution_count": null,
      "metadata": {
        "colab": {
          "background_save": true
        },
        "id": "vHsQGv35R0Xc",
        "outputId": "6a317ddd-00fc-4491-8464-43f88d3ea0c0"
      },
      "outputs": [
        {
          "data": {
            "image/png": "[encoded data removed]",
            "text/plain": [
              "<Figure size 936x360 with 4 Axes>"
            ]
          },
          "metadata": {},
          "output_type": "display_data"
        },
        {
          "name": "stdout",
          "output_type": "stream",
          "text": [
            "Confusion Matrix:\n",
            "\n",
            "[[710   3]\n",
            " [ 14 109]]\n",
            "\n",
            "\n",
            "Confusion Matrix Normalized:\n",
            "\n",
            "[[0.99579243 0.00420757]\n",
            " [0.11382114 0.88617886]]\n"
          ]
        }
      ],
      "source": [
        "plot_confusion_matrix(Y_test, np.round(abs(ypreds1)), title=\"RNN\")"
      ]
    },
    {
      "cell_type": "code",
      "execution_count": null,
      "metadata": {
        "colab": {
          "background_save": true
        },
        "id": "QuRiOa_4SGrM",
        "outputId": "7b1d0f78-8c3c-4ae5-e590-e334daea615d"
      },
      "outputs": [
        {
          "name": "stdout",
          "output_type": "stream",
          "text": [
            "              precision    recall  f1-score   support\n",
            "\n",
            "         Ham       0.99      0.99      0.99       713\n",
            "        Spam       0.97      0.93      0.95       123\n",
            "\n",
            "    accuracy                           0.99       836\n",
            "   macro avg       0.98      0.96      0.97       836\n",
            "weighted avg       0.99      0.99      0.99       836\n",
            "\n"
          ]
        }
      ],
      "source": [
        "print(classification_report(Y_test, np.round(abs(ypreds2)), target_names = [\"Ham\", \"Spam\"]))"
      ]
    },
    {
      "cell_type": "code",
      "execution_count": null,
      "metadata": {
        "colab": {
          "background_save": true
        },
        "id": "qDFdDiQ1Nq_X",
        "outputId": "247c7180-bbbd-45c3-c4d1-17799271130c"
      },
      "outputs": [
        {
          "data": {
            "image/png": "[encoded data removed]",
            "text/plain": [
              "<Figure size 936x360 with 4 Axes>"
            ]
          },
          "metadata": {},
          "output_type": "display_data"
        },
        {
          "name": "stdout",
          "output_type": "stream",
          "text": [
            "Confusion Matrix:\n",
            "\n",
            "[[710   3]\n",
            " [ 14 109]]\n",
            "\n",
            "\n",
            "Confusion Matrix Normalized:\n",
            "\n",
            "[[0.99579243 0.00420757]\n",
            " [0.11382114 0.88617886]]\n"
          ]
        }
      ],
      "source": [
        "plot_confusion_matrix(Y_test, np.round(abs(ypreds1)), title=\"CNN\")"
      ]
    },
    {
      "cell_type": "code",
      "execution_count": null,
      "metadata": {
        "colab": {
          "background_save": true
        },
        "id": "_PxNxczHNwCj"
      },
      "outputs": [],
      "source": [
        "row1 = pd.DataFrame({'model': 'RNN', 'score': accuracy1[1]*100}, index=[-1])\n",
        "result = pd.concat([row1, result.loc[:]]).reset_index(drop=True)\n",
        "row2 = pd.DataFrame({'model': 'CNN', 'score': accuracy2[1]*100}, index=[-1])\n",
        "result = pd.concat([row2, result.loc[:]]).reset_index(drop=True)"
      ]
    },
    {
      "cell_type": "code",
      "execution_count": null,
      "metadata": {
        "colab": {
          "background_save": true
        },
        "id": "VBs_LIUFOPBW",
        "outputId": "1cb688b7-89aa-4924-c05b-0ceae946397a"
      },
      "outputs": [
        {
          "data": {
            "image/png": "[encoded data removed]",
            "text/plain": [
              "<Figure size 216x360 with 1 Axes>"
            ]
          },
          "metadata": {},
          "output_type": "display_data"
        },
        {
          "name": "stdout",
          "output_type": "stream",
          "text": [
            "           model      score\n",
            "0            CNN  98.564595\n",
            "1            RNN  97.966510\n",
            "2            SVC  98.385650\n",
            "3  MultinomialNB  98.834081\n"
          ]
        }
      ],
      "source": [
        "plot_model_performace(result)"
      ]
    }
  ],
  "metadata": {
    "colab": {
      "collapsed_sections": [],
      "name": "Copy of Copy of Detection of Spam Reviews ",
      "provenance": []
    },
    "kernelspec": {
      "display_name": "Python 3",
      "language": "python",
      "name": "python3"
    },
    "language_info": {
      "codemirror_mode": {
        "name": "ipython",
        "version": 3
      },
      "file_extension": ".py",
      "mimetype": "text/x-python",
      "name": "python",
      "nbconvert_exporter": "python",
      "pygments_lexer": "ipython3",
      "version": "3.6.6"
    }
  },
  "nbformat": 4,
  "nbformat_minor": 0
}
